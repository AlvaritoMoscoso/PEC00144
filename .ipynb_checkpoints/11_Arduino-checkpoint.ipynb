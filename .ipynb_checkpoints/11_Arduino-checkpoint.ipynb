{
 "cells": [
  {
   "cell_type": "markdown",
   "metadata": {},
   "source": [
    "Universidade Federal do Rio Grande do Sul (UFRGS)   \n",
    "Programa de Pós-Graduação em Engenharia Civil (PPGEC)   \n",
    "\n",
    "# PEC00144: Experimental Methods in Civil Engineering\n",
    "\n",
    "\n",
    "### Part II: Instrumentation\n",
    "[11.  Cost effective devices](#section_10)  \n",
    "\n",
    "&nbsp;&nbsp;&nbsp;[11.1. Arduino](#section_111)     \n",
    "&nbsp;&nbsp;&nbsp;[11.2. Serial communication](#section_112)     \n",
    "&nbsp;&nbsp;&nbsp;[11.3. I2C and SPI protocols](#section_113)     \n",
    "&nbsp;&nbsp;&nbsp;[11.4. Raspberry Pi](#section_114)   \n",
    "\n",
    "---\n",
    "_Prof. Marcelo M. Rocha, Dr.techn._ [(ORCID)](https://orcid.org/0000-0001-5640-1020)  \n",
    "_Porto Alegre, RS, Brazil_ \n"
   ]
  },
  {
   "cell_type": "markdown",
   "metadata": {},
   "source": [
    "## 11. Cost effective devices  <a name=\"section_11\"></a> \n",
    "\n",
    "### 11.1. Arduino <a name=\"section_111\"></a> \n",
    "\n",
    "<img src=\"Arduino/Uno_pinout.png\" alt=\"Uno pinout\" width=\"800px\"/>\n",
    "\n",
    "1. What is Arduino.\n",
    "2. Which are the Arduino models and their features\n",
    "3. What types of GPIO are available.\n",
    "4. The Arduino IDE and the C++ programming language\n",
    "5. Demonstration: LED blink.\n",
    "6. What is pulse width modulation (PWM) for analog output.\n",
    "7. Demonstration: LED with PWM.\n",
    "8. Basic analog input configuration.\n",
    "9. Demonstration: reading the ADXL203 bi-axial accelerometer.\n",
    "10. Serial communication with a connected computer.\n",
    "11. Demonstration with a simulated signal.\n"
   ]
  },
  {
   "cell_type": "markdown",
   "metadata": {},
   "source": [
    "### 11.2. Serial communication <a name=\"section_112\"></a> \n",
    "\n",
    "<img src=\"Arduino/Serial_connections.jpg\" alt=\"Serial connections\" width=\"600px\"/>\n",
    "\n",
    "<img src=\"Arduino/Serial_protocol.png\" alt=\"Serial protocol\" width=\"800px\"/>\n",
    "\n",
    "After connecting your Arduino device, open for edition the [serial reading notebook.](https://nbviewer.jupyter.org/github/mmaiarocha/PEC00144/blob/master/read_Arduino_serial.ipynb?flush_cache=true)\n"
   ]
  },
  {
   "cell_type": "markdown",
   "metadata": {},
   "source": [
    "### 11.3. The I²C and the SPI communication protocols\n",
    "\n",
    "[1. Bluetooth module HC-05 configuration](https://www.arduinoecia.com.br/modulo-bluetooth-hc-05-conversor-ftdi/)   \n",
    "[2. Programming Arduino Mini through FTDI232RL interface](https://www.arduinoecia.com.br/conversor-ftdi-ft232rl-arduino-pro-mini/)   \n",
    "[3. How to use the logic level converter](https://www.arduinoecia.com.br/conversor-de-nivel-logico-33-5v-Arduino/)   \n",
    "[4. LCD display with I2C communication](https://www.arduinoecia.com.br/modulo-i2c-display-16x2-arduino/)   \n",
    "[5. Data logger with real time clock DS3231 and SD card module](https://www.filipeflop.com/blog/datalogger-com-arduino-cartao-sd/)   \n"
   ]
  },
  {
   "cell_type": "markdown",
   "metadata": {},
   "source": [
    "### 11.4. The Raspberry Pi microcomputer\n"
   ]
  },
  {
   "cell_type": "code",
   "execution_count": null,
   "metadata": {},
   "outputs": [],
   "source": []
  }
 ],
 "metadata": {
  "kernelspec": {
   "display_name": "Python 3",
   "language": "python",
   "name": "python3"
  },
  "language_info": {
   "codemirror_mode": {
    "name": "ipython",
    "version": 3
   },
   "file_extension": ".py",
   "mimetype": "text/x-python",
   "name": "python",
   "nbconvert_exporter": "python",
   "pygments_lexer": "ipython3",
   "version": "3.7.1"
  }
 },
 "nbformat": 4,
 "nbformat_minor": 2
}
