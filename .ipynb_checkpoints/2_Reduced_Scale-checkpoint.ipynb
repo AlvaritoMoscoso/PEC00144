{
 "cells": [
  {
   "cell_type": "markdown",
   "metadata": {},
   "source": [
    "Universidade Federal do Rio Grande do Sul (UFRGS)   \n",
    "Programa de Pós-Graduação em Engenharia Civil (PPGEC)   \n",
    "\n",
    "# PEC00144: Experimental Methods in Civil Engineering\n",
    "\n",
    "\n",
    "### Part I: Analysis\n",
    "[2.   Reduced scale models](#section_2)   \n",
    "[2.1. Controlled and derived scales](#section_21)   \n",
    "[2.2. Example: elastic beam under self weight](#section_22)   \n",
    "[2.3. Example: aeroelastic model of a slender tower](#section_23)   \n",
    "[2.4. Example: cable catenary](#section_24)   \n",
    "\n",
    "---\n",
    "_Prof. Marcelo M. Rocha, Dr.techn._ [(ORCID)](https://orcid.org/0000-0001-5640-1020)  \n",
    "_Porto Alegre, RS, Brazil_ \n"
   ]
  },
  {
   "cell_type": "code",
   "execution_count": 1,
   "metadata": {},
   "outputs": [],
   "source": [
    "# Importing Python modules required for this notebook\n",
    "# (this cell must be executed with \"shift+enter\" before any other Python cell)\n",
    "\n",
    "import numpy as np\n",
    "import pandas as pd\n",
    "import matplotlib.pyplot as plt\n",
    "\n",
    "# Importing pandas dataframe with dimension exponents for relevant quantities\n",
    "DimData = pd.read_excel('resources/DimData.xlsx')\n"
   ]
  },
  {
   "cell_type": "markdown",
   "metadata": {},
   "source": [
    "## 2. Reduced scale models <a name=\"section_2\"></a> \n",
    "\n",
    "### 2.1. Controlled and uncontrolled quantities  <a name=\"section_21\"></a> \n",
    "\n"
   ]
  },
  {
   "cell_type": "markdown",
   "metadata": {},
   "source": [
    "### 2.2. Example: elastic beam under self-weight  <a name=\"section_22\"></a> \n",
    "\n",
    "Como exemplo, vamos projetar um modelo reduzido de uma viga de concreto armado com vão $L = 10$m submetida ao peso próprio, para a qual desejamos medir o deslocamento vertical no centro, $w_{\\rm max}$. Vamos adotar uma escala de comprimento 1:10 e uma escala de aceleração 1:1, já que a mesma aceleração da gravidade estará atuando tanto sobre o modelo como sobre a estrutura real. \n",
    "\n",
    "<img src=\"resources/SimpleBeam.png\" alt=\"SimpleBeam\" width=\"480px\"/>\n",
    "\n",
    "* Seção transversal:    \n",
    "  $B\\times H = 0.3 \\times 0.6 {\\rm m}$    \n",
    "  Portanto:    \n",
    "  $A = 0.18 {\\rm m}^2$ e $I = 0.0054 {\\rm m}^4$ <br>\n",
    "* Massa específica do concreto:    \n",
    "  $\\rho = 2500 {\\rm kg/m}^3$    \n",
    "  Portanto:    \n",
    "  $q = \\rho A g = 2500 \\times 0.18 \\times 9.81 \\approx 4400 {\\rm N/m}$ <br>\n",
    "* Módulo de elasticidade do concreto:    \n",
    "  $E_{\\rm c} = 3 \\times 10^{11} {\\rm N/m}^2$   \n",
    "  Portanto:    \n",
    "  $E_{\\rm c}I = 1.6 \\times 10^6 {\\rm Nm}^2$\n",
    " \n",
    "<br>\n",
    "Adicionalmente, vamos estabelecer que o modelo será construído em alumínio. Isso resulta numa escala para o módulo de elasticidade igual a 71GPa:205GPa, ou seja, 1:2.89. Com base nesta informação a matriz dimensional da nova base será dada por:\n"
   ]
  },
  {
   "cell_type": "code",
   "execution_count": null,
   "metadata": {},
   "outputs": [],
   "source": [
    "DB =  dim_base(('length', 'accel', 'stress'));   print(DB)"
   ]
  },
  {
   "cell_type": "markdown",
   "metadata": {},
   "source": [
    "E as escalas necessárias são:"
   ]
  },
  {
   "cell_type": "code",
   "execution_count": null,
   "metadata": {},
   "outputs": [],
   "source": [
    "L_length =  1/10       # escala de comprimento do modelo reduzido\n",
    "L_accel  =  1/1        # mesma gravidade\n",
    "L_stress = 71/205      # módulo de Young\n"
   ]
  },
  {
   "cell_type": "markdown",
   "metadata": {},
   "source": [
    "Se o modelo é para ser construído e utilizado em experimentos que respeitem plenamente a semelhança com a estrutura real é necessário que todos os demais parâmetros sejam respeitados, o que não é em geral possível.\n",
    "Por exemplo, observa-se que a massa específica do modelo deve ser aproximadamente 16.5 vezes maior que a massa específica da estrutura real. Se isso não for respeitado, os deslocamentos sob peso próprio não respeitarão a escala de comprimento, ficando aquém dos valores corretos, e o modelo será inadequado para o propósito estabelecido. \n"
   ]
  },
  {
   "cell_type": "code",
   "execution_count": null,
   "metadata": {},
   "outputs": [],
   "source": [
    "L_load_L = new_scale('load_L', ('length', 'accel', 'stress'), (L_length, L_accel, L_stress))\n",
    "L_EI     = new_scale('EI',     ('length', 'accel', 'stress'), (L_length, L_accel, L_stress))\n",
    "\n",
    "print(1/L_load_L, 1/L_EI)"
   ]
  },
  {
   "cell_type": "markdown",
   "metadata": {},
   "source": [
    "Portanto, a carga (força) por unidade de comprimento no modelo deve ser 28.87 vezes menor, enquanto a rigidez à flexão deve ser 28870 vezes menor. Aplicando as escala aos valores calculados para o protótipo tem-se:"
   ]
  },
  {
   "cell_type": "code",
   "execution_count": null,
   "metadata": {},
   "outputs": [],
   "source": [
    "q  = 4400. * L_load_L\n",
    "EI = 1.6e6 * L_EI\n",
    "\n",
    "print(q, EI)"
   ]
  },
  {
   "cell_type": "markdown",
   "metadata": {},
   "source": [
    "Inicialmente vamos definir uma seção transversal de alumínio que respeite o valor acima. Podemos, por exemplo, utilizar uma lâmina de seção retangular com altura de 5mm, deixando em aberto o valor da largura:\n",
    "\n",
    "\\begin{align*}\n",
    " EI &= E \\; \\frac{b h^3}{12} \\\\\n",
    " b  &= \\frac{12 EI}{E h^3}\n",
    "\\end{align*}\n",
    "\n",
    "Substituindo valores:"
   ]
  },
  {
   "cell_type": "code",
   "execution_count": null,
   "metadata": {},
   "outputs": [],
   "source": [
    "b = 12*EI/(0.005**3)/7.1e10;    print(b)"
   ]
  },
  {
   "cell_type": "markdown",
   "metadata": {},
   "source": [
    "Ou seja, a lâmina deve ter uma seção retângular de $5\\times 75$mm. Considerando que a massa específica do alumínio é da ordem de 2700${\\rm kg/m^3}$, o peso por unidade de comprimento desta lâmina é: "
   ]
  },
  {
   "cell_type": "code",
   "execution_count": null,
   "metadata": {},
   "outputs": [],
   "source": [
    "W = 2700*0.005*0.075*9.81;      print(W) \n"
   ]
  },
  {
   "cell_type": "markdown",
   "metadata": {},
   "source": [
    "Portando, é necessário acrescentar massa à lâmina, o que deve ser feito sem interferir na rigidez da seção transversal. Isso pode ser alcançado colando-se pequenos pedaços de chumbo, de modo a totalizar o valor requerido. A massa adicional a ser acrescentada resulta ser:"
   ]
  },
  {
   "cell_type": "code",
   "execution_count": null,
   "metadata": {},
   "outputs": [],
   "source": [
    "m_add = q/9.81 - W;             print(m_add)"
   ]
  },
  {
   "cell_type": "markdown",
   "metadata": {},
   "source": [
    "Como o vão em escala reduzida é de exatamente 1m, deve-se acrescentar um total de 5.6kg de chumbo distribuídos ao longo do comprimento do modelo, totalizando aproximadamente 15.6kg de massa total.\n",
    "Observa-se que modelos reduzidos em escala de aceleração 1:1 geralmente resultam bastante flexíveis e pesados, mas é isso que se faz necessário para que as deformações por peso próprio respeitem a escala de comprimento.\n",
    "\n",
    "Uma vez construído o modelo com estas características, os deslocamentos desejados podem ser então experimentalmente medidos. No caso deste exemplo em particular, existe uma fórmula teórica que permite o cálculo do deslocamento no centro do vão:\n",
    "\n",
    "$$\n",
    "w_{\\rm max} = \\frac{5}{384} \\frac{q L^4}{EI}\n",
    "$$\n",
    "\n",
    "Substituindo-se valores para a escala do protótipo:"
   ]
  },
  {
   "cell_type": "code",
   "execution_count": null,
   "metadata": {},
   "outputs": [],
   "source": [
    "w_max = (5/384)*4400*(10**4)/1.6e6;    print(w_max)"
   ]
  },
  {
   "cell_type": "markdown",
   "metadata": {},
   "source": [
    "Enquanto para a escala do modelo:"
   ]
  },
  {
   "cell_type": "code",
   "execution_count": null,
   "metadata": {},
   "outputs": [],
   "source": [
    "w_max = (5/384)*152.4*(1**4)/55.41;    print(w_max)"
   ]
  },
  {
   "cell_type": "markdown",
   "metadata": {},
   "source": [
    "Ou seja, confirma-se que o deslocamento no centro está aproximadamente na escala 1:10, como pretendido."
   ]
  },
  {
   "cell_type": "markdown",
   "metadata": {},
   "source": [
    "### 2.3. Example: aeroelastic model of a slender tower  <a name=\"section_23\"></a> \n",
    "\n"
   ]
  },
  {
   "cell_type": "code",
   "execution_count": null,
   "metadata": {},
   "outputs": [],
   "source": []
  },
  {
   "cell_type": "markdown",
   "metadata": {},
   "source": [
    "### 2.4. Example: cable catenary  <a name=\"section_24\"></a> \n",
    "\n",
    "\n",
    "\n",
    "\n",
    "<img src=\"resources/sag_tension.png\" alt=\"sag_tension\" width=\"480px\"/>\n"
   ]
  },
  {
   "cell_type": "code",
   "execution_count": null,
   "metadata": {},
   "outputs": [],
   "source": []
  }
 ],
 "metadata": {
  "kernelspec": {
   "display_name": "Python 3",
   "language": "python",
   "name": "python3"
  },
  "language_info": {
   "codemirror_mode": {
    "name": "ipython",
    "version": 3
   },
   "file_extension": ".py",
   "mimetype": "text/x-python",
   "name": "python",
   "nbconvert_exporter": "python",
   "pygments_lexer": "ipython3",
   "version": "3.7.1"
  }
 },
 "nbformat": 4,
 "nbformat_minor": 2
}
