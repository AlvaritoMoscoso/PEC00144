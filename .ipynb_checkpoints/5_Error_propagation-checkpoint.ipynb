{
 "cells": [
  {
   "cell_type": "markdown",
   "metadata": {},
   "source": [
    "Universidade Federal do Rio Grande do Sul (UFRGS)   \n",
    "Programa de Pós-Graduação em Engenharia Civil (PPGEC)   \n",
    "\n",
    "# PEC00144: Experimental Methods in Civil Engineering\n",
    "\n",
    "\n",
    "### Part I: Analysis\n",
    "[5.   Functions of RV's and error propagation](#section_5)   \n",
    "[5.1. Monotonic function of a single RV](#section_51)   \n",
    "[5.2. Linear models of Gaussian RV vectors](#section_52)   \n",
    "[5.3. Non-linear models and Monte Carlo analysis](#section_53)   \n",
    "\n",
    "---\n",
    "_Prof. Marcelo M. Rocha, Dr.techn._ [(ORCID)](https://orcid.org/0000-0001-5640-1020)  \n",
    "_Porto Alegre, RS, Brazil_ \n"
   ]
  },
  {
   "cell_type": "code",
   "execution_count": 1,
   "metadata": {},
   "outputs": [],
   "source": [
    "# Importing Python modules required for this notebook\n",
    "# (this cell must be executed with \"shift+enter\" before any other Python cell)\n",
    "\n",
    "import numpy as np\n",
    "import pandas as pd\n",
    "import matplotlib.pyplot as plt\n"
   ]
  },
  {
   "cell_type": "markdown",
   "metadata": {},
   "source": [
    "# 5. Functions of RV's and error propagation\n",
    "\n",
    "## 5.1. Monotonic function of a single RV\n"
   ]
  },
  {
   "cell_type": "code",
   "execution_count": null,
   "metadata": {},
   "outputs": [],
   "source": []
  },
  {
   "cell_type": "markdown",
   "metadata": {},
   "source": [
    "## 5.2. Linear models of Gaussian RV vectors\n",
    "\n",
    "Como já foi mencionado anteriormente, o teorema do limite central diz que a soma de variáveis aleatórias com distribuição qualquer tende a uma variável gaussiana. Particularmente, a combinação linear de variáveis gaussianas preserva a distribuição gaussiana. Calcula-se a seguir o valor esperado e o desvio padrão desta combinação, já que estes dois parâmetros definem completamente a sua distribuição de probabilidades.\n",
    "Uma combinação linear de variáveis multivariadas pode ser expressa como:\n",
    "\t(22)\n",
    "Aplicando-se o operador de valor esperado tem-se que:\n",
    "\t(23)\n",
    "Ou seja, como o operador de expectância é linear ele pode avançar para dentro do somatório bem como atravessar constantes multiplicativas. Portanto:\n",
    "\t(24)\n",
    "Da mesma forma, pode-se usar o operador de expectância para o cálculo da variância da combinação:\n",
    "\t(25)\n",
    "Fatorando-se as constantes a_i e convertendo-se o quadrado em um duplo somatório tem-se que:\n",
    "\t(26)\n",
    "O operador de expectância pode agora avançar para dentro dos somatórios, atravessando as constantes, o que leva a:\n",
    "\t(27)\n",
    "Finalmente, reconhecendo-se que a operação de expectância resultante corresponde à definição de covariância, chega-se a:\n",
    "\t(28)\n",
    "Tem-se portanto as eqs. 24 e 28 como expressões simples para o cálculo da média e do desvio padrão da combinação linear de variáveis correlacionadas. Estes resultados são válidos independentemente da distribuição de probabilidades das variáveis combinadas, mas completam a descrição estatística no caso de se combinarem variáveis gaussianas. \n",
    "Caso se combinem variáveis não correlacionadas, os coeficientes de correlação são unitários para  e nulos para , o que resulta na solução particular:\n",
    "\t(29)\n",
    "Este resultado será usado a seguir para explicar um processo aleatório muito importante na dinâmica de sistemas.\n",
    "\n",
    "Example: the Bernoulli process\n",
    "\n",
    "Pela definição original, um processo de Bernoulli, , é uma vetor de números aleatórios não correlacionados, que podem assumir os valores  ou  sempre com as mesmas probabilidades  e , respectivamente. Sem perda de generalidade, assume-se aqui que os dois valores possíveis para o processo são  e , com igual probabilidade , e passamos a estudar o que ocorre com um processo que corresponde à soma acumulada dos elementos no correspondente vetor de variáveis aleatórias. Portanto, o -ésimo termo deste processo, , é dado por:\n",
    "\t(30)\n",
    "Calculado-se a expectância como uma ponderação pela probabilidade discreta de cada valor possível para uma variável aleatória, o valor médio e o desvio padrão das variáveis (não correlacionadas)  podem ser encontrados como:\n",
    "\n",
    "\n",
    "Consequentemente, fazendo-se uso das eqs. 24 e 29 da seção anterior tem-se que:\n",
    "\t(31)\n",
    "\t(32)\n",
    "Ou seja, o processo  é um processo com média zero e desvio padrão crescente. A fig. 4 apresenta simulações deste processo, que possui alguns usos e interpretações muito úteis. \n",
    "Por exemplo, o ruído captado por um acelerômetro (sensor de vibrações), quando integrado no tempo para produzir um sinal de velocidade (ou duplamente integrado para produzir um deslocamento) resulta em uma deriva de zero, devida ao crescimento da variância decorrente da soma acumulada implícita na integração numérica. Consequentemente, este problema de instrumentação requer técnicas especiais de integração para ser evitado.\n",
    "Um processo de Bernoulli bivariado, quando integrado no tempo, produz um processo aleatório bidimensional chamado random walk. Este processo é utilizado como modelo do movimento browniano (movimento de partículas minúsculas flutuando na superfície de um líquido, observadas já em 1827 pelo botânico Robert Brown). Esta abordagem probabilística permitiu a Einstein a confirmação da existência de átomos e móleculas, permitindo uma estimativa de seu espaçamento médio. Estas estimativas foram posteriormente confirmadas por Jean Perrin em 1909, rendendo-lhe um Prêmio Nobel.\n"
   ]
  },
  {
   "cell_type": "code",
   "execution_count": null,
   "metadata": {},
   "outputs": [],
   "source": []
  },
  {
   "cell_type": "markdown",
   "metadata": {},
   "source": [
    "## 5.3. Non-linear models and Monte Carlo analysis\n"
   ]
  },
  {
   "cell_type": "code",
   "execution_count": null,
   "metadata": {},
   "outputs": [],
   "source": []
  }
 ],
 "metadata": {
  "kernelspec": {
   "display_name": "Python 3",
   "language": "python",
   "name": "python3"
  },
  "language_info": {
   "codemirror_mode": {
    "name": "ipython",
    "version": 3
   },
   "file_extension": ".py",
   "mimetype": "text/x-python",
   "name": "python",
   "nbconvert_exporter": "python",
   "pygments_lexer": "ipython3",
   "version": "3.7.1"
  }
 },
 "nbformat": 4,
 "nbformat_minor": 2
}
