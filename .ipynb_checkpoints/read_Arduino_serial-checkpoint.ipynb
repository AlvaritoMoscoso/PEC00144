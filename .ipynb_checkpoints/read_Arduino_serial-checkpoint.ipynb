{
 "cells": [
  {
   "cell_type": "markdown",
   "metadata": {},
   "source": [
    "Universidade Federal do Rio Grande do Sul (UFRGS)   \n",
    "Programa de Pós-Graduação em Engenharia Civil (PPGEC)   \n",
    "\n",
    "# PEC00144: Experimental Methods in Civil Engineering\n",
    "\n",
    "### Reading the serial port of an Arduino device  \n",
    "\n",
    "---\n",
    "_Prof. Marcelo M. Rocha, Dr.techn._ [(ORCID)](https://orcid.org/0000-0001-5640-1020)  \n",
    "_Porto Alegre, RS, Brazil_ \n"
   ]
  },
  {
   "cell_type": "code",
   "execution_count": 7,
   "metadata": {},
   "outputs": [],
   "source": [
    "# Importing Python modules required for this notebook\n",
    "# (this cell must be executed with \"shift+enter\" before any other Python cell)\n",
    "\n",
    "import sys\n",
    "import serial\n",
    "import numpy as np\n",
    "import pandas as pd\n",
    "import matplotlib.pyplot as plt\n"
   ]
  },
  {
   "cell_type": "markdown",
   "metadata": {},
   "source": [
    "### 1. Setup serial communication\n"
   ]
  },
  {
   "cell_type": "code",
   "execution_count": 8,
   "metadata": {},
   "outputs": [],
   "source": [
    "port  = '/dev/ttyUSB0'\n",
    "baud  =  9600\n",
    "Ardn  =  serial.Serial(port, baud, timeout=1)\n"
   ]
  },
  {
   "cell_type": "markdown",
   "metadata": {},
   "source": [
    "### 2. Define function for reading one single received line"
   ]
  },
  {
   "cell_type": "code",
   "execution_count": 9,
   "metadata": {},
   "outputs": [],
   "source": [
    "def readcell():\n",
    "\n",
    "    err = True\n",
    "    Ardn.write(b'0')\n",
    "\n",
    "    while(err):\n",
    "        try:\n",
    "            if (Ardn.inWaiting() >= 27):\n",
    "                bdat = Ardn.readline() \n",
    "                sdat = bdat.decode()\n",
    "                err  = False\n",
    "        except:\n",
    "            err = True\n",
    "\n",
    "    sdat = sdat.replace('\\n',' ').split()\n",
    "    return  np.array(sdat[0:3], dtype='uint32')\n"
   ]
  },
  {
   "cell_type": "markdown",
   "metadata": {},
   "source": [
    "### 3. Acquire data lines from serial port"
   ]
  },
  {
   "cell_type": "code",
   "execution_count": 10,
   "metadata": {},
   "outputs": [
    {
     "name": "stdout",
     "output_type": "stream",
     "text": [
      "Acquisition ok!\n"
     ]
    }
   ],
   "source": [
    "n     =  128\n",
    "D     =  np.empty((3,n), dtype='uint32')\n",
    "\n",
    "try:\n",
    "    for i in  range(n):\n",
    "        D[0,i], D[1,i], D[2,i] = readcell()\n",
    "\n",
    "    Ardn.close()\n",
    "    print('Acquisition ok!')\n",
    "\n",
    "except:\n",
    "    Ardn.close()\n",
    "    sys.exit('Acquisition failure!')"
   ]
  },
  {
   "cell_type": "markdown",
   "metadata": {},
   "source": [
    "### 4. Save the data into an Excel file "
   ]
  },
  {
   "cell_type": "code",
   "execution_count": 11,
   "metadata": {},
   "outputs": [],
   "source": [
    "data      =  pd.DataFrame(data = D.T)\n",
    "filename  = 'ReadSerial.xlsx'\n",
    "excelfile =  pd.ExcelWriter(filename)\n",
    "\n",
    "data.to_excel(excelfile,filename)\n",
    "excelfile.save()\n"
   ]
  },
  {
   "cell_type": "markdown",
   "metadata": {},
   "source": [
    "### 5. Data visualization"
   ]
  },
  {
   "cell_type": "code",
   "execution_count": 12,
   "metadata": {},
   "outputs": [
    {
     "ename": "SyntaxError",
     "evalue": "invalid syntax (<ipython-input-12-de09ab2ef5f6>, line 3)",
     "output_type": "error",
     "traceback": [
      "\u001b[0;36m  File \u001b[0;32m\"<ipython-input-12-de09ab2ef5f6>\"\u001b[0;36m, line \u001b[0;32m3\u001b[0m\n\u001b[0;31m    fig01a = plt.subplot(3,1,1)\u001b[0m\n\u001b[0m         ^\u001b[0m\n\u001b[0;31mSyntaxError\u001b[0m\u001b[0;31m:\u001b[0m invalid syntax\n"
     ]
    }
   ],
   "source": [
    "fig01  = plt.figure(1, figsize=(12,8))\n",
    "\n",
    "fig01a = plt.subplot(3,1,1)\n",
    "plt.plot(D[0,:])\n",
    "plt.grid(True)\n",
    "                    \n",
    "fig01a = plt.subplot(3,1,2)\n",
    "plt.plot(D[1,:])\n",
    "plt.grid(True)\n",
    "\n",
    "fig01a = plt.subplot(3,1,3)\n",
    "plt.plot(D[2,:])\n",
    "plt.grid(True)\n"
   ]
  }
 ],
 "metadata": {
  "kernelspec": {
   "display_name": "Python 3",
   "language": "python",
   "name": "python3"
  },
  "language_info": {
   "codemirror_mode": {
    "name": "ipython",
    "version": 3
   },
   "file_extension": ".py",
   "mimetype": "text/x-python",
   "name": "python",
   "nbconvert_exporter": "python",
   "pygments_lexer": "ipython3",
   "version": "3.7.1"
  }
 },
 "nbformat": 4,
 "nbformat_minor": 2
}
