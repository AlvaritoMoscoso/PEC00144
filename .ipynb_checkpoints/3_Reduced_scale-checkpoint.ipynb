{
 "cells": [
  {
   "cell_type": "markdown",
   "metadata": {},
   "source": [
    "Universidade Federal do Rio Grande do Sul (UFRGS)   \n",
    "Programa de Pós-Graduação em Engenharia Civil (PPGEC)   \n",
    "\n",
    "# PEC00144: Experimental Methods in Civil Engineering\n",
    "\n",
    "\n",
    "### Part I: Analysis\n",
    "[2.   Design of reduced scale models](#section_2)   \n",
    "[2.1. Controlled and derived scales](#section_21)   \n",
    "[2.2. Example: elastic beam under self weight](#section_22)   \n",
    "[2.3. Example: aeroelastic model of a slender tower](#section_23)   \n",
    "[2.4. Example: cable catenary](#section_24)   \n",
    "\n",
    "---\n",
    "_Prof. Marcelo M. Rocha, Dr.techn._ [(ORCID)](https://orcid.org/0000-0001-5640-1020)  \n",
    "_Porto Alegre, RS, Brazil_ \n"
   ]
  },
  {
   "cell_type": "code",
   "execution_count": 43,
   "metadata": {},
   "outputs": [
    {
     "name": "stdout",
     "output_type": "stream",
     "text": [
      "                       descriptor   latex  L  M  T\n",
      "a                    Acceleration       a  1  0 -2\n",
      "α            Angular acceleration  \\alpha  0  0 -2\n",
      "ω               Angular frequency  \\omega  0  0 -1\n",
      "A                            Area       A  2  0  0\n",
      "EI         Beam bending stiffness      EI  3  1 -2\n",
      "GAs          Beam shear stiffness    GA_s  1  1 -2\n",
      "ρ                         Density    \\rho -3  1  0\n",
      "μ               Dynamic viscosity     \\mu -1  1 -1\n",
      "F                           Force       F  1  1 -2\n",
      "q           Force per unit length       q  0  1 -2\n",
      "f                       frequency       f  0  0 -1\n",
      "υ             Kinematic viscosity     \\nu  2  0 -1\n",
      "L                          Length       L  1  0  0\n",
      "m                            Mass       m  0  1  0\n",
      "im   Mass inertia per unit length     i_m  1  1  0\n",
      "μA             Mass per unit area   \\mu_A -2  1  0\n",
      "μL           Mass per unit length   \\mu_L -1  1  0\n",
      "M                          Moment       M  2  1 -2\n",
      "I               Moment of inertia       I  4  0  0\n",
      "W               Resistent modulus       W  3  0  0\n",
      "Im        Rotational mass inertia     I_m  2  1  0\n",
      "k                Spring stiffness       k  0  1 -2\n",
      "σ                          Stress  \\sigma -1  1 -2\n",
      "t                            Time       t  0  0  1\n",
      "v                        Velocity       v  1  0 -1\n",
      "c                 Viscous damping       c  0  1 -1\n",
      "V                          Volume       V  3  0  0\n"
     ]
    }
   ],
   "source": [
    "# Importing Python modules required for this notebook\n",
    "# (this cell must be executed with \"shift+enter\" before any other Python cell)\n",
    "\n",
    "import numpy as np\n",
    "import pandas as pd\n",
    "import matplotlib.pyplot as plt\n",
    "\n",
    "# Importing pandas dataframe with dimension exponents for relevant quantities\n",
    "DimData = pd.read_excel('resources/DimData.xlsx')\n",
    "print(DimData)"
   ]
  },
  {
   "cell_type": "markdown",
   "metadata": {},
   "source": [
    "## 2. Design of reduced scale models <a name=\"section_2\"></a> \n",
    "\n",
    "### 2.1. Controlled and uncontrolled quantities  <a name=\"section_21\"></a> \n",
    "\n"
   ]
  },
  {
   "cell_type": "markdown",
   "metadata": {},
   "source": [
    "### 2.2. Example: elastic beam under self-weight  <a name=\"section_22\"></a> \n",
    "\n",
    "Let us design a reduced model for a reinforced concrete simply supported beam, as depicted below. \n",
    "The total span is $L = 10$m and other relevant quantities are:\n",
    "\n",
    "* Rectangular cross section:    \n",
    "  $B\\times H = 0.3 \\times 0.6 {\\rm m}$    \n",
    "  Hence the section properties are:    \n",
    "  $A = 0.18 {\\rm m}^2$ e $I = 0.0054 {\\rm m}^4$ <br>\n",
    "* Density of reinforced concrete:    \n",
    "  $\\rho = 2500 {\\rm kg/m}^3$    \n",
    "  Hence the mass per unit length is:    \n",
    "  $\\mu_L = \\rho A = 2500 \\times 0.18 = 450 {\\rm kg/m}$ <br>\n",
    "* Young's modulus for concrete:    \n",
    "  $E_{\\rm c} = 30 \\times 10^{10} {\\rm N/m}^2$   \n",
    "  Hence the flexural stiffness is:    \n",
    "  $E_{\\rm c}I = 1.62 \\times 10^9 {\\rm Nm}^2$\n",
    "\n",
    "<img src=\"resources/SimpleBeam.png\" alt=\"SimpleBeam\" width=\"480px\"/>\n",
    "\n",
    "We wish to measure the maximum displacement at beam center, $w_{\\rm max}$ caused by\n",
    "self weight. The adopted length scale is 1m:10m, while the acceleration scale \n",
    "must be assumed to be 1G:1G, for the model will be tested under the same gravity. \n",
    "Let us further assume that our model will be built with aluminum, what implies that\n",
    "the Young's modulus has as a 71GPa:30GPa scale, which is the same as the stress scale.\n",
    "\n",
    "The resulting new base is then:"
   ]
  },
  {
   "cell_type": "code",
   "execution_count": 44,
   "metadata": {},
   "outputs": [
    {
     "name": "stdout",
     "output_type": "stream",
     "text": [
      "   L  M  T\n",
      "L  1  0  0\n",
      "a  1  0 -2\n",
      "σ -1  1 -2\n"
     ]
    }
   ],
   "source": [
    "ABC    = ['L', 'a', 'σ']          # selected quantities for the new base\n",
    "LMT    = ['L', 'M', 'T']          # dimensions are the last 3 columns of DimData\n",
    "base   = DimData.loc[ABC, LMT]    # the dimensional matrix\n",
    "\n",
    "print(base)"
   ]
  },
  {
   "cell_type": "markdown",
   "metadata": {},
   "source": [
    "The scales for the quantities adopted for the new base are:"
   ]
  },
  {
   "cell_type": "code",
   "execution_count": 45,
   "metadata": {},
   "outputs": [],
   "source": [
    "λ_L    =  1/160        # length scale for the reduced model\n",
    "λ_a    =  1/1          # acceleration remains unchanged (same gravity)\n",
    "λ_σ    = 71/30         # model built with aluminum instead of concrete"
   ]
  },
  {
   "cell_type": "markdown",
   "metadata": {},
   "source": [
    "Now we calculate the scales for further quantities that may be relevant to build \n",
    "the reduced model.\n",
    "They could be force, $F$, distributed load, $q$, the beam cross section flexural stiffness, \n",
    "$EI$, and the mass per unit length, $\\mu_L$.\n",
    "The calculations are carried out as explained in [Class 2](https://nbviewer.jupyter.org/github/mmaiarocha/PEC00144/blob/master/2_Dimensional_analysis.ipynb). Firstly we prepare\n",
    "the dimensional matrix for the selected quantities:"
   ]
  },
  {
   "cell_type": "code",
   "execution_count": 46,
   "metadata": {},
   "outputs": [
    {
     "name": "stdout",
     "output_type": "stream",
     "text": [
      "    L  M  T\n",
      "F   1  1 -2\n",
      "q   0  1 -2\n",
      "EI  3  1 -2\n",
      "μL -1  1  0\n"
     ]
    }
   ],
   "source": [
    "par    = ['F', 'q', 'EI', 'μL']              # selected scales to be calculated\n",
    "npar   =  len(par)                           # number of quantities\n",
    "DimMat =  DimData.loc[par, LMT]              # the dimensional matrix\n",
    "\n",
    "print(DimMat)"
   ]
  },
  {
   "cell_type": "markdown",
   "metadata": {},
   "source": [
    "Then we change the base for the dimensional matrix:"
   ]
  },
  {
   "cell_type": "code",
   "execution_count": 47,
   "metadata": {},
   "outputs": [
    {
     "name": "stdout",
     "output_type": "stream",
     "text": [
      "      L    a    σ\n",
      "F   2.0  0.0  1.0\n",
      "q   1.0  0.0  1.0\n",
      "EI  4.0  0.0  1.0\n",
      "μL  1.0 -1.0  1.0\n"
     ]
    }
   ],
   "source": [
    "scales =  np.tile([λ_L, λ_a, λ_σ],(npar,1))  # prepare for calculations\n",
    "i_base =  np.linalg.inv(base)                # base inversion \n",
    "\n",
    "NewMat = pd.DataFrame(data    = np.matmul(DimMat, i_base),\n",
    "                      index   = DimMat.index,\n",
    "                      columns = ABC)\n",
    "print(NewMat)"
   ]
  },
  {
   "cell_type": "markdown",
   "metadata": {},
   "source": [
    "And finally we calculate the corresponding scales:"
   ]
  },
  {
   "cell_type": "code",
   "execution_count": 53,
   "metadata": {},
   "outputs": [
    {
     "name": "stdout",
     "output_type": "stream",
     "text": [
      "Force:                 λ_F  = 1:10816 \n",
      "Distributed load:      λ_q  = 1:67 \n",
      "Flexural stiffness:    λ_EI = 1:276912676 \n",
      "Mass per unit length:  λ_μL = 1:67\n"
     ]
    }
   ],
   "source": [
    "[λ_F, λ_q, λ_EI, λ_μL]  = np.prod(scales**NewMat, axis=1);\n",
    "\n",
    "print('Force:                 λ_F  = 1:{0:4d}'.format(int(1/λ_F)),  '\\n'\n",
    "      'Distributed load:      λ_q  = 1:{0:2d}'.format(int(1/λ_q)),  '\\n'\n",
    "      'Flexural stiffness:    λ_EI = 1:{0:9d}'.format(int(1/λ_EI)), '\\n' \n",
    "      'Mass per unit length:  λ_μL = 1:{0:2d}'.format(int(1/λ_μL)))"
   ]
  },
  {
   "cell_type": "markdown",
   "metadata": {},
   "source": [
    "Now we must calculate the dimensions of the aluminum beam that will give the required\n",
    "flexural stiffness:\n",
    "\n",
    "$$ EI = λ_{EI} \\cdot E_{\\rm c}I $$\n",
    "\n",
    "If we chose a rectangular section:\n",
    "\n",
    "\\begin{align*}\n",
    " EI &= E \\; \\frac{b h^3}{12} \\\\\n",
    " b  &= \\frac{12 EI}{E h^3}\n",
    "\\end{align*}\n",
    "\n",
    "The suitable section could be an aluminum strip with (comercial) thickness $H = 2$mm. \n",
    "Recalling that aluminum Young's modulus is 71GPa and aluminum density is 2700kg/m³\n",
    "results in:"
   ]
  },
  {
   "cell_type": "code",
   "execution_count": 63,
   "metadata": {},
   "outputs": [
    {
     "name": "stdout",
     "output_type": "stream",
     "text": [
      "Model required flexural stiffness:    5.85Nm^2 \n",
      "Width of a 2mm thick aluminum strip:  12.4mm \n",
      "Self weight of chosen aluminum strip: 66.7g/m\n"
     ]
    }
   ],
   "source": [
    "EI = λ_EI * 1.62e9\n",
    "b  = 12*EI/(71e10*0.002**3)\n",
    "μL = 2700*0.002*b\n",
    "\n",
    "print('Model required flexural stiffness:    {0:4.2f}Nm^2'.format(EI),   '\\n'\n",
    "      'Width of a 2mm thick aluminum strip:  {0:4.1f}mm'.format(1000*b), '\\n'\n",
    "      'Self weight of chosen aluminum strip: {0:4.1f}g/m'.format(1000*μL))"
   ]
  },
  {
   "cell_type": "markdown",
   "metadata": {},
   "source": [
    "However, according to the scales calculation the required mass per unit length is:"
   ]
  },
  {
   "cell_type": "code",
   "execution_count": 64,
   "metadata": {},
   "outputs": [
    {
     "name": "stdout",
     "output_type": "stream",
     "text": [
      "Required model self weight: 6656.3g/m\n"
     ]
    }
   ],
   "source": [
    "μL = λ_μL * 450\n",
    "\n",
    "print('Required model self weight: {0:4.1f}g/m'.format(1000*μL))"
   ]
  },
  {
   "cell_type": "markdown",
   "metadata": {},
   "source": [
    "Portando, é necessário acrescentar massa à lâmina, o que deve ser feito sem interferir na rigidez da seção transversal. Isso pode ser alcançado colando-se pequenos pedaços de chumbo, de modo a totalizar o valor requerido. A massa adicional a ser acrescentada resulta ser:"
   ]
  },
  {
   "cell_type": "code",
   "execution_count": null,
   "metadata": {},
   "outputs": [],
   "source": [
    "m_add = q/9.81 - W;             print(m_add)"
   ]
  },
  {
   "cell_type": "markdown",
   "metadata": {},
   "source": [
    "Como o vão em escala reduzida é de exatamente 1m, deve-se acrescentar um total de 5.6kg de chumbo distribuídos ao longo do comprimento do modelo, totalizando aproximadamente 15.6kg de massa total.\n",
    "Observa-se que modelos reduzidos em escala de aceleração 1:1 geralmente resultam bastante flexíveis e pesados, mas é isso que se faz necessário para que as deformações por peso próprio respeitem a escala de comprimento.\n",
    "\n",
    "Uma vez construído o modelo com estas características, os deslocamentos desejados podem ser então experimentalmente medidos. No caso deste exemplo em particular, existe uma fórmula teórica que permite o cálculo do deslocamento no centro do vão:\n",
    "\n",
    "$$\n",
    "w_{\\rm max} = \\frac{5}{384} \\frac{q L^4}{EI}\n",
    "$$\n",
    "\n",
    "Substituindo-se valores para a escala do protótipo:"
   ]
  },
  {
   "cell_type": "code",
   "execution_count": null,
   "metadata": {},
   "outputs": [],
   "source": [
    "w_max = (5/384)*4400*(10**4)/1.6e6;    print(w_max)"
   ]
  },
  {
   "cell_type": "markdown",
   "metadata": {},
   "source": [
    "Enquanto para a escala do modelo:"
   ]
  },
  {
   "cell_type": "code",
   "execution_count": null,
   "metadata": {},
   "outputs": [],
   "source": [
    "w_max = (5/384)*152.4*(1**4)/55.41;    print(w_max)"
   ]
  },
  {
   "cell_type": "markdown",
   "metadata": {},
   "source": [
    "Ou seja, confirma-se que o deslocamento no centro está aproximadamente na escala 1:10, como pretendido."
   ]
  },
  {
   "cell_type": "markdown",
   "metadata": {},
   "source": [
    "### 2.3. Example: aeroelastic model of a slender tower  <a name=\"section_23\"></a> \n",
    "\n"
   ]
  },
  {
   "cell_type": "code",
   "execution_count": null,
   "metadata": {},
   "outputs": [],
   "source": []
  },
  {
   "cell_type": "markdown",
   "metadata": {},
   "source": [
    "### 2.4. Example: cable catenary  <a name=\"section_24\"></a> \n",
    "\n",
    "\n",
    "\n",
    "\n",
    "<img src=\"resources/sag_tension.png\" alt=\"sag_tension\" width=\"480px\"/>\n"
   ]
  },
  {
   "cell_type": "code",
   "execution_count": null,
   "metadata": {},
   "outputs": [],
   "source": []
  }
 ],
 "metadata": {
  "kernelspec": {
   "display_name": "Python 3",
   "language": "python",
   "name": "python3"
  },
  "language_info": {
   "codemirror_mode": {
    "name": "ipython",
    "version": 3
   },
   "file_extension": ".py",
   "mimetype": "text/x-python",
   "name": "python",
   "nbconvert_exporter": "python",
   "pygments_lexer": "ipython3",
   "version": "3.7.1"
  }
 },
 "nbformat": 4,
 "nbformat_minor": 2
}
