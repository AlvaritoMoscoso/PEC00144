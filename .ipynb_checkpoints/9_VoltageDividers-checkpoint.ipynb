{
 "cells": [
  {
   "cell_type": "markdown",
   "metadata": {},
   "source": [
    "Universidade Federal do Rio Grande do Sul (UFRGS)   \n",
    "Programa de Pós-Graduação em Engenharia Civil (PPGEC)   \n",
    "\n",
    "# PEC00144: Experimental Methods in Civil Engineering\n",
    "\n",
    "\n",
    "### Part II: Instrumentation\n",
    "[9.   Review on electrical circuits](#section_8)  \n",
    "\n",
    "&nbsp;&nbsp;&nbsp;[9.1. Voltage dividers and impedance](#section_91)     \n",
    "&nbsp;&nbsp;&nbsp;[9.2. Passive circuit components](#section_92)   \n",
    "&nbsp;&nbsp;&nbsp;[9.3. Low and high pass RC filters](#section_93)   \n",
    "&nbsp;&nbsp;&nbsp;[9.4. Regulated voltage and current sources](#section_94)   \n",
    "&nbsp;&nbsp;&nbsp;[9.5. Microprocessed power sources](#section_95)   \n",
    "&nbsp;&nbsp;&nbsp;[9.6. How to light up a LED](#section_96)   \n",
    "\n",
    "---\n",
    "_Prof. Marcelo M. Rocha, Dr.techn._ [(ORCID)](https://orcid.org/0000-0001-5640-1020)  \n",
    "_Porto Alegre, RS, Brazil_ \n"
   ]
  },
  {
   "cell_type": "code",
   "execution_count": 1,
   "metadata": {},
   "outputs": [],
   "source": [
    "# Importing Python modules required for this notebook\n",
    "# (this cell must be executed with \"shift+enter\" before any other Python cell)\n",
    "\n",
    "import numpy as np\n",
    "import pandas as pd\n",
    "import matplotlib.pyplot as plt\n",
    "\n",
    "from   MRPy import MRPy\n",
    "from   scipy.interpolate import interp1d"
   ]
  },
  {
   "cell_type": "markdown",
   "metadata": {},
   "source": [
    "## 9. Review on electrical circuits  <a name=\"section_9\"></a> \n",
    "\n",
    "### 9.1. Voltage dividers and impedance  <a name=\"section_91\"></a> \n",
    "\n",
    "\n",
    "<img src=\"resources/VoltageDivider_2.png\" alt=\"Voltage divider\" width=\"240px\"/>\n"
   ]
  },
  {
   "cell_type": "code",
   "execution_count": 6,
   "metadata": {},
   "outputs": [
    {
     "name": "stdout",
     "output_type": "stream",
     "text": [
      "Logic level output:  3.33V\n"
     ]
    }
   ],
   "source": [
    "Vin  = 5.                # logic level 5V\n",
    "R1   = 5000.             # top resistor\n",
    "R2   = 10000.            # bottom resistor\n",
    "Vout = Vin*R2/(R1 + R2)  # logic level ~3.3V\n",
    "\n",
    "print('Logic level output: {0:5.2f}V'.format(Vout))"
   ]
  },
  {
   "cell_type": "markdown",
   "metadata": {},
   "source": [
    "### 9.2. Passive circuit components  <a name=\"section_92\"></a> \n",
    "\n",
    "#### 9.2.1. Resistors\n",
    "\n",
    "<img src=\"resources/Resistors_2.jpg\" alt=\"Types of resistors\" width=\"540px\"/>\n",
    "\n",
    "<img src=\"resources/Resistors_1.jpg\" alt=\"Resistors color code\" width=\"280px\"/>\n",
    "\n",
    "#### 9.2.2. Capacitors\n",
    "\n",
    "<img src=\"resources/Capacitors_1.jpg\" alt=\"Types of capacitors\" width=\"360px\"/>\n",
    "\n",
    "#### 9.2.3. Inductors\n",
    "\n",
    "<img src=\"resources/Inductors_0.jpg\" alt=\"Types of inductors\" width=\"480px\"/>\n"
   ]
  },
  {
   "cell_type": "markdown",
   "metadata": {},
   "source": [
    "### 9.3. Low and high pass RC filters  <a name=\"section_93\"></a>\n"
   ]
  },
  {
   "cell_type": "code",
   "execution_count": 3,
   "metadata": {},
   "outputs": [
    {
     "name": "stdout",
     "output_type": "stream",
     "text": [
      "Cut off frequency (-3dB):  159.15Hz\n"
     ]
    }
   ],
   "source": [
    "e1 =  0.;  f1 = 10.**e1             #  frequency domain\n",
    "e2 =  4.;  f2 = 10.**e2\n",
    "\n",
    "N  =  1000\n",
    "f  =  np.logspace(e1, e2, N)\n",
    "w  =  2*np.pi*f\n",
    "\n",
    "R  =  10.e03                      #  10 kiloOhm\n",
    "C  =  0.1e-6                      #  100 nanoFaraday\n",
    "ZC = -1j/(w*C)\n",
    "\n",
    "f3dB =  1/(2*np.pi*R*C);          # -3dB frequency\n",
    "\n",
    "print('Cut off frequency (-3dB): {0:7.2f}Hz'.format(f3dB))\n"
   ]
  },
  {
   "cell_type": "markdown",
   "metadata": {},
   "source": [
    "#### 9.3.1 Low pass\n",
    "\n",
    "<img src=\"resources/LowPass_1.png\" alt=\"Low pass filter\" width=\"360px\"/>\n"
   ]
  },
  {
   "cell_type": "code",
   "execution_count": 4,
   "metadata": {},
   "outputs": [
    {
     "data": {
      "image/png": "[encoded data removed]",
      "text/plain": [
       "<Figure size 864x288 with 3 Axes>"
      ]
     },
     "metadata": {
      "needs_background": "light"
     },
     "output_type": "display_data"
    }
   ],
   "source": [
    "HLP   =  ZC/(R + ZC);\n",
    "GLP   =  np.absolute(HLP);\n",
    "dLP   =  20*np.log10(GLP);\n",
    "pLP   =  180*np.angle(HLP)/np.pi;\n",
    "\n",
    "fig1  =  plt.figure(1, figsize=(12,4));\n",
    "\n",
    "sp11  =  plt.subplot(1,3,1)\n",
    "sp11  =  plt.loglog(f,GLP);\n",
    "sp11a =  plt.loglog([f3dB, f3dB], [0.1, 2], 'r', lw=2)\n",
    "plt.title('Filter gain')\n",
    "plt.axis([f1, f2, 0.1, 2]);\n",
    "plt.grid(True); \n",
    " \n",
    "sp12  =  plt.subplot(1,3,2)\n",
    "sp12  =  plt.semilogx(f,dLP);\n",
    "sp12a =  plt.semilogx([f3dB, f3dB], [-20, 5], 'r', lw=2)\n",
    "plt.title('Filter gain in dB')\n",
    "plt.axis([f1, f2, -20, 5]);\n",
    "plt.grid(True); \n",
    " \n",
    "sp13  =  plt.subplot(1,3,3)\n",
    "sp13  =  plt.semilogx(f,pLP);\n",
    "sp13a =  plt.semilogx([f3dB, f3dB], [-120, 30], 'r', lw=2)\n",
    "plt.title('Filter phase shift')\n",
    "plt.axis([f1, f2, -120, 30]);\n",
    "plt.grid(True); \n"
   ]
  },
  {
   "cell_type": "markdown",
   "metadata": {},
   "source": [
    "#### 9.3.2 High pass\n",
    "\n",
    "\n",
    "<img src=\"resources/HighPass_1.png\" alt=\"High pass filter\" width=\"360px\"/>\n"
   ]
  },
  {
   "cell_type": "code",
   "execution_count": 5,
   "metadata": {},
   "outputs": [
    {
     "data": {
      "image/png": "[encoded data removed]",
      "text/plain": [
       "<Figure size 864x288 with 3 Axes>"
      ]
     },
     "metadata": {
      "needs_background": "light"
     },
     "output_type": "display_data"
    }
   ],
   "source": [
    "HHP   =  R/(R + ZC);\n",
    "GHP   =  np.absolute(HHP);\n",
    "dHP   =  20*np.log10(GHP);\n",
    "pHP   =  180*np.angle(HHP)/np.pi;\n",
    "\n",
    "fig1  =  plt.figure(1, figsize=(12,4));\n",
    "\n",
    "sp11  =  plt.subplot(1,3,1)\n",
    "sp11  =  plt.loglog(f,GHP);\n",
    "sp11a =  plt.loglog([f3dB, f3dB], [0.1, 2], 'r', lw=2)\n",
    "plt.title('Filter gain')\n",
    "plt.axis([f1, f2, 0.1, 2]);\n",
    "plt.grid(True); \n",
    " \n",
    "sp12  =  plt.subplot(1,3,2)\n",
    "sp12  =  plt.semilogx(f,dHP);\n",
    "sp12a =  plt.semilogx([f3dB, f3dB], [-20, 5], 'r', lw=2)\n",
    "plt.title('Filter gain in dB')\n",
    "plt.axis([f1, f2, -20, 5]);\n",
    "plt.grid(True); \n",
    " \n",
    "sp13  =  plt.subplot(1,3,3)\n",
    "sp13  =  plt.semilogx(f,pHP);\n",
    "sp13a =  plt.semilogx([f3dB, f3dB], [-30, 120], 'r', lw=2)\n",
    "plt.title('Filter phase shift')\n",
    "plt.axis([f1, f2, -30, 120]);\n",
    "plt.grid(True); \n"
   ]
  },
  {
   "cell_type": "markdown",
   "metadata": {},
   "source": [
    "### 9.4. Regulated voltage and current sources  <a name=\"section_94\"></a> \n",
    "\n",
    "\n",
    "<img src=\"resources/InternalResistance_1.png\" alt=\"Battery resistance\" width=\"540px\"/>\n",
    "\n",
    "<img src=\"resources/LM7805_foto.jpg\" alt=\"LM7805 photo\" width=\"240px\"/>\n",
    "\n",
    "<img src=\"resources/LM7805_scheme.gif\" alt=\"LM7805 schematics\" width=\"540px\"/>\n"
   ]
  },
  {
   "cell_type": "markdown",
   "metadata": {},
   "source": [
    "### 9.5. Microprocessed power sources <a name=\"section_95\"></a> \n",
    "\n",
    "\n",
    "<img src=\"resources/StepDown_1.png\" alt=\"Step down microprocessor\" width=\"640px\"/>\n",
    "\n",
    "<img src=\"resources/StepUp_1.png\" alt=\"Step up microprocessor\" width=\"640px\"/>\n"
   ]
  },
  {
   "cell_type": "markdown",
   "metadata": {},
   "source": [
    "### 9.6. How to light up a LED <a name=\"section_96\"></a> \n",
    "\n",
    "<img src=\"resources/LED_example.gif\" alt=\"Light up a LED\" width=\"360px\"/>\n",
    "\n",
    "\n",
    "<img src=\"resources/LEDVoltageByColor.png\" alt=\"LED voltage drop\" width=\"360px\"/>\n"
   ]
  },
  {
   "cell_type": "code",
   "execution_count": null,
   "metadata": {},
   "outputs": [],
   "source": []
  }
 ],
 "metadata": {
  "kernelspec": {
   "display_name": "Python 3",
   "language": "python",
   "name": "python3"
  },
  "language_info": {
   "codemirror_mode": {
    "name": "ipython",
    "version": 3
   },
   "file_extension": ".py",
   "mimetype": "text/x-python",
   "name": "python",
   "nbconvert_exporter": "python",
   "pygments_lexer": "ipython3",
   "version": "3.7.1"
  }
 },
 "nbformat": 4,
 "nbformat_minor": 2
}
