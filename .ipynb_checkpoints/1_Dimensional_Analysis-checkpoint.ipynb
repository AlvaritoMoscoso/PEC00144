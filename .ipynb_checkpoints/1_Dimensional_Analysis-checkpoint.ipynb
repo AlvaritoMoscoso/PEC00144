{
 "cells": [
  {
   "cell_type": "markdown",
   "metadata": {},
   "source": [
    "Universidade Federal do Rio Grande do Sul (UFRGS)   \n",
    "Programa de Pós-Graduação em Engenharia Civil (PPGEC)   \n",
    "\n",
    "# PEC00144: Experimental Methods in Civil Engineering\n",
    "\n",
    "\n",
    "### Part I: Analysis\n",
    "[1.   Dimensional analysis and similarity](#section_1)   \n",
    "[1.1. Quantities, units, dimensions](#section_11)   \n",
    "[1.2. Dataframe for scales computation](#section_12)   \n",
    "[1.3. The Theorem of Pi's by Vaschy-Buckinghan](#section_13)   \n",
    "[1.4. Change of units and change of scales](#section_14)  \n",
    "[1.5. Famous Pi-Numbers](#section_15)  \n",
    "\n",
    "---\n",
    "_Prof. Marcelo M. Rocha, Dr.techn._ [(ORCID)](https://orcid.org/0000-0001-5640-1020)  \n",
    "_Porto Alegre, RS, Brazil_ \n"
   ]
  },
  {
   "cell_type": "code",
   "execution_count": 9,
   "metadata": {},
   "outputs": [],
   "source": [
    "# Importing Python modules required for this notebook\n",
    "# (this cell must be executed with \"shift+enter\" before any other Python cell)\n",
    "\n",
    "import numpy as np\n",
    "import pandas as pd\n",
    "import matplotlib.pyplot as plt\n"
   ]
  },
  {
   "cell_type": "markdown",
   "metadata": {},
   "source": [
    "## 1. Dimensional analysis and similarity <a name=\"section_1\"></a> \n",
    "\n",
    "### 1.1. Quantities, units, dimensions  <a name=\"section_11\"></a> \n",
    "\n",
    "Prof. G.I. Barenblatt has written in his book _Dimensional Analysis_ (1987):   \n",
    "\n",
    ">_In fact, the idea on which dimensional analysis is based is very simple, and can be \n",
    "understood by all: physical laws do not depend on arbitrariness in the choice of basic \n",
    "units of measurement. An important conclusion can be drawn from this simple idea \n",
    "using simple arguments: the functions that express physical laws must possess a \n",
    "certain fundamental property, which in mathematics is called generalized homogeneity \n",
    "or symmetry. This property allows the number of arguments in these functions to be \n",
    "reduced, thereby making it simpler to obtain them (by calculating them or determining \n",
    "them experimentally). This is, in fact, the entire content of dimensional analysis - there \n",
    "is nothing more to it._\n",
    "\n",
    "In other words, the units resulting from both sides of an equation must be the same.\n",
    "Although simple, this idea has allowed great scientists like Newton, Rayleigh, Maxwell, \n",
    "Reynolds, Kolmogorov, Cauchy, and many others, to proposed many fundamental \n",
    "physical principles.\n",
    "\n",
    "To illustrate how the law of _dimensional homogeneity_ can be applied, let us \n",
    "investigate the free vibration frequency, $f_{\\rm n}$, of an undamped mass-spring \n",
    "system with one degree of freedom.\n",
    "\n",
    "<img src=\"resources/figSDOF.jpg\" alt=\"figSDOF\" width=\"360px\"/>\n",
    "\n",
    "The frequency $f_{\\rm n}$ could be derived from mechanical principles like dynamic\n",
    "equilibrium equations, but we take the alternative dimensional path instead.\n",
    "The system above _may_ involve several physical quantities like: \n",
    "\n",
    "* the instantaneous position, $u$,   \n",
    "* the oscillating mass, $m$,   \n",
    "* the time, $t$,   \n",
    "* the displacement amplitude, $u_0$,   \n",
    "* the spring linear stiffness, $k$, and finally   \n",
    "* the free vibration frequency, $f_{\\rm n}$.  \n",
    "\n",
    "The completeness of this set of quantities is essential for the success of our\n",
    "dimensional analysis. The analysis process requires an investigation of possible\n",
    "relationships among the _candidate_ quantities above and the frequency $f_{\\rm n}$. \n",
    "Let us take a look at their _units of measurement_: \n",
    "\n",
    "\\begin{align*}\n",
    "[ u ]        &= [L]^{1}[M]^{0}[T]^{0}  \\\\\n",
    "[ m ]        &= [L]^{0}[M]^{1}[T]^{0}  \\\\\n",
    "[ t ]        &= [L]^{0}[M]^{0}[T]^{1}  \\\\\n",
    "[ u_0 ]      &= [L]^{1}[M]^{0}[T]^{0}  \\\\\n",
    "[ k ]        &= [L]^{0}[M]^{1}[T]^{-2} \\\\\n",
    "[ f_{\\rm n}] &= [L]^{0}[M]^{0}[T]^{-1}\n",
    "\\end{align*}\n",
    "\n",
    "where the brackets mean \"units of\". One can observe that all measurement units have been\n",
    "written in terms of only three _fundamental units_: length, $[L]$, mass, $[M]$, and time, $[T]$. \n",
    "Most principles in solid mechanics and structural dynamics may be expressed with these \n",
    "three units only. Eventually the temperature, $\\Theta$, may be needed.\n",
    "For the sake of simplicity, hereafter brackets will be ommited.\n",
    "\n",
    "The quantities directly subordinated to the fundamental units are called _fundamental\n",
    "quantities_, which are the length, the mass and the time, while other units and quantities\n",
    "are called _derived units and quantities_, like stiffness, frequency, speed, etc. \n",
    "The dependency of derived units on the fundamental are expressed through dimensional formulae,\n",
    "as shown above, which are _always power-law monomials_. The exponents applyed to the \n",
    "fundamental units in these formulae are called _dimension_ or _dimension exponent_.\n",
    "\n",
    "In the case of using the _International System_ (SI), the three fundamental units are the\n",
    "meter (m), the kilogram (kg), and the second (s). In the example above this means that:\n",
    "\n",
    "\\begin{align*}\n",
    "[ u ]        &= {\\rm m}^{1}{\\rm kg}^{0}{\\rm s}^{0} = {\\rm m}  \\\\\n",
    "[ m ]        &= {\\rm m}^{0}{\\rm kg}^{1}{\\rm s}^{0} = {\\rm kg} \\\\\n",
    "[ t ]        &= {\\rm m}^{0}{\\rm kg}^{0}{\\rm s}^{1} = {\\rm s}  \\\\\n",
    "[ u_0 ]      &= {\\rm m}^{1}{\\rm kg}^{0}{\\rm s}^{0} = {\\rm m}  \\\\\n",
    "[ k ]        &= {\\rm m}^{0}{\\rm kg}^{1}{\\rm s}^{-2} = {\\rm kg}/{\\rm s}^{2} = {\\rm N/m} \\\\\n",
    "[ f_{\\rm n}] &= {\\rm m}^{0}{\\rm kg}^{0}{\\rm s}^{-1} = 1/{\\rm s} = {\\rm Hz}\n",
    "\\end{align*}"
   ]
  },
  {
   "cell_type": "markdown",
   "metadata": {},
   "source": [
    "### 1.2. Dataframe for scales computation  <a name=\"section_12\"></a> \n",
    "\n",
    "To facilitate the scales calculations as presented in this _notebook_, let us now import \n",
    "a ``pandas`` dataframe with physical quantities commonly used in engineering mechanics and\n",
    "structural dynamics, aerodynamics, and fluid and soil mechanics:"
   ]
  },
  {
   "cell_type": "code",
   "execution_count": 10,
   "metadata": {},
   "outputs": [
    {
     "name": "stdout",
     "output_type": "stream",
     "text": [
      "                         descriptor  L  M  T\n",
      "a                      Acceleration  1  0 -2\n",
      "alpha          Angular acceleration  0  0 -2\n",
      "omega             Angular frequency  0  0 -1\n",
      "A                              Area  2  0  0\n",
      "EI           Beam bending stiffness  0  1 -2\n",
      "GAs            Beam shear stiffness  2  1 -2\n",
      "rho                         Density -3  1  0\n",
      "mu                Dynamic viscosity -1  1 -1\n",
      "F                             Force  1  1 -2\n",
      "f                         frequency  0  0 -1\n",
      "nu              Kinematic viscosity  2  0 -1\n",
      "L                            Length  1  0  0\n",
      "m                              Mass  0  1  0\n",
      "im     Mass inertia per unit length  1  1  0\n",
      "mA               Mass per unit area -2  1  0\n",
      "mL             Mass per unit length -1  1  0\n",
      "M                            Moment  2  1 -2\n",
      "I                 Moment of inertia  4  0  0\n",
      "W                 Resistent modulus  3  0  0\n",
      "Im          Rotational mass inertia  2  1  0\n",
      "k                  Spring stiffness  0  1 -2\n",
      "sigma                        Stress -1  1 -2\n",
      "t                              Time  0  0  1\n",
      "v                          Velocity  1  0 -1\n",
      "c                   Viscous damping  0  1 -1\n",
      "V                            Volume  3  0  0\n"
     ]
    }
   ],
   "source": [
    "DimData = pd.read_excel('resources/DimData.xlsx')\n",
    "\n",
    "print(DimData)"
   ]
  },
  {
   "cell_type": "markdown",
   "metadata": {},
   "source": [
    "Other quantities may be easily included in this dataframe by editing the Excel file\n",
    "``DimData.xlsx``. Each entry in the table corresponds to a dimensional quantity, being the last\n",
    "three columns the respective dimension exponents in the dimensional formulae.\n",
    "Quantities like angles, strains, Poison's coefficient and ratio of critical damping are\n",
    "by definition non-dimensional, so there is no need of including them in that table.\n",
    "Relations between length measures, the so-called _form factors_, must also not be included.\n",
    "\n",
    "To access the $LMT$ exponents of a set of quantities, let us say the length, $L$, \n",
    "the acceleration, $a$, and the density, $\\rho$, the dataframe ```loc``` view may be used:"
   ]
  },
  {
   "cell_type": "code",
   "execution_count": 11,
   "metadata": {},
   "outputs": [
    {
     "name": "stdout",
     "output_type": "stream",
     "text": [
      "[[ 1  0  0]\n",
      " [ 1  0 -2]\n",
      " [-3  1  0]]\n"
     ]
    }
   ],
   "source": [
    "param = ['L', 'a', 'rho']    # selected parameters\n",
    "LMT   = ['L', 'M', 'T'  ]    # three last columns of dataframe\n",
    "\n",
    "P_LMT = DimData.loc[param, LMT].values\n",
    "\n",
    "print(P_LMT)"
   ]
  },
  {
   "cell_type": "markdown",
   "metadata": {},
   "source": [
    "The ``values`` property must be called to provide the information as a ``numpy`` array.\n",
    "This array will be required in the following sections, where we show how the information provided in the dataframe  ``DimData`` can be used to carry out units and scales changes for designing reduced scale models.\n",
    "\n",
    "The dataframe indices are the codes to access a specific quantity, while the following first column,\n",
    "which header is ``descriptor``, corresponds to a description to help identification:"
   ]
  },
  {
   "cell_type": "code",
   "execution_count": 12,
   "metadata": {},
   "outputs": [
    {
     "name": "stdout",
     "output_type": "stream",
     "text": [
      "Index(['a', 'alpha', 'omega', 'A', 'EI', 'GAs', 'rho', 'mu', 'F', 'f', 'nu',\n",
      "       'L', 'm', 'im', 'mA', 'mL', 'M', 'I', 'W', 'Im', 'k', 'sigma', 't', 'v',\n",
      "       'c', 'V'],\n",
      "      dtype='object')\n"
     ]
    }
   ],
   "source": [
    "print(DimData.index)"
   ]
  },
  {
   "cell_type": "code",
   "execution_count": 13,
   "metadata": {},
   "outputs": [
    {
     "name": "stdout",
     "output_type": "stream",
     "text": [
      "L            Length\n",
      "a      Acceleration\n",
      "rho         Density\n",
      "Name: descriptor, dtype: object\n"
     ]
    }
   ],
   "source": [
    "print(DimData.loc[param, 'descriptor'])"
   ]
  },
  {
   "cell_type": "markdown",
   "metadata": {},
   "source": [
    "### 1.3. The Vaschy-Buckingham's $\\Pi$-Theorem  <a name=\"section_13\"></a> \n",
    "\n",
    "The Vaschy-Buckingham's $\\Pi$-Theorem may be expressed as follows:\n",
    "\n",
    ">Let us assume that a given physical phenomenon involves $n$ _dimensional quantities_, denoted as $p_1, p_2, \\dots, p_n$. For this phenomenon a mathematical model may be proposed as a general relation:<br><br>\n",
    "\\begin{equation}\n",
    " f\\left (  p_1, p_2, \\dots, p_n \\right ) = 0 \n",
    "\\end{equation}<br>\n",
    ">This relation may be replaced by another one with $r = n - k$ _non-dimensional parameters_:<br><br>\n",
    "\\begin{equation}\n",
    " F\\left (  \\Pi_1, \\Pi_2, \\dots, \\Pi_r \\right ) = 0\n",
    "\\end{equation}<br>\n",
    "where $k$ is the number of fundamental units required to compose the units of all dimensional quantities involved. The $\\Pi$-numbers have the general form:<br><br>\n",
    "\\begin{equation}\n",
    "\\Pi = p_1^{\\alpha_1} \\; p_2^{\\alpha_2} \\; \\dots \\; p_n^{\\alpha_n}\n",
    "\\end{equation}<br>\n",
    "where the exponents $\\vec{\\alpha} = \\left [ \\alpha_1 \\; \\alpha_2 \\; \\dots \\; \\alpha_n \\right ]^\\intercal$ are such that the condition of non-dimensionality is fulfilled.\n",
    "\n",
    "Recalling that in the present context the only relevant fundamental units are $L$, $M$, and $T$, \n",
    "then $k = 3$. A demonstration of this theorem can be found in the literatura and will not be\n",
    "reproduced here.\n",
    "\n",
    "Para a aplicação do teorema, pode-se formar uma _matriz dimensional_, $\\bf D$, cujas linhas são os expoentes, ou _dimensões_, das grandezas fundamentais compondo as unidades de todos os parâmetros envolvidos. Para a construção dos números $\\Pi$, buscam-se vetores (coluna),  $\\vec{\\alpha}$, tal que (com $k = 3$): \n",
    "\n",
    "\\begin{equation}\n",
    "{\\bf D} \\vec{\\alpha} = \\left [ \\begin{array}{ccc}\n",
    "                                0 \\\\\n",
    "                                0 \\\\\n",
    "                                0\n",
    "                               \\end{array} \\right ]\n",
    "\\end{equation}\n",
    "\n",
    "Não existe uma regra geral para a determinação de $\\vec{\\alpha}$ e, portanto, dos respectivos números $\\Pi$. O princípio prático que orienta a escolha desses adimensionais é o seu significado físico. \n",
    "\n",
    "No exemplo do oscilador mecânico apresentado anteriormente, admite-se existir relações matemáticas entre as grandezas envolvidas:\n",
    "\n",
    "\\begin{equation}\n",
    " f\\left ( u, m, t, u_0, k, f_{\\rm n} \\right ) = 0 \n",
    "\\end{equation}\n",
    "\n",
    "Neste caso a matriz dimensional seria, portanto:"
   ]
  },
  {
   "cell_type": "code",
   "execution_count": 25,
   "metadata": {},
   "outputs": [
    {
     "name": "stdout",
     "output_type": "stream",
     "text": [
      "[[ 1  0  0  1  0  0]\n",
      " [ 0  1  0  0  1  0]\n",
      " [ 0  0  1  0 -2 -1]]\n"
     ]
    }
   ],
   "source": [
    "param = ['L', 'm', 't', 'L', 'k', 'f']\n",
    "D     =  DimData.loc[param, LMT].values.T\n",
    "\n",
    "print(D)"
   ]
  },
  {
   "cell_type": "markdown",
   "metadata": {},
   "source": [
    "Note that the transposition was called to impose the dimensions of matrix $\\mathbf D$ according\n",
    "to the previous definition (each column corresponds to a quantity, while the rows are the\n",
    "$LMT$ exponentes).\n",
    "\n",
    "Como já mencionado, quando se está investigando um processo ainda pouco compreendido, a escolha destas grandezas é apenas um palpite ilustre (_educated guess_, em inglês). O conjunto pode tanto exceder as necessidades como ser incompleto! A análise dimensional não deve ser vista como uma panacéia, mas sim como um possível caminho para se entender melhor (e com sorte completamente) o fenômeno investigado.\n",
    "\n",
    "Possíveis números $\\Pi$ para o conjunto de grandezas envolvidas no oscilador mecânico são:\n",
    "\n",
    "\\begin{equation}\n",
    " \\Pi_1 = u^1 u_0^{-1},   \\hspace{2cm}\n",
    " \\Pi_2 = t^1 \\; f_{\\rm n}^{-1},  \\hspace{2cm}\n",
    " \\Pi_3 = m^{-1/2} \\; k^{1/2} \\; f_{\\rm n}^{-1} \n",
    "\\end{equation}\n",
    "\n",
    "onde $\\Pi_3$ é claramente o número mais interessante, com $\\vec{\\alpha}_3 = \\left [ 0 \\;\\;\\; {-1/2} \\;\\;\\; 0 \\;\\;\\;  0 \\;\\;\\; 1/2  \\;\\;\\; {-1} \\right ]^\\intercal$. Observe que o produto ${\\bf D} \\vec{\\alpha}$ confirma a adimensionalidade:"
   ]
  },
  {
   "cell_type": "code",
   "execution_count": 32,
   "metadata": {},
   "outputs": [
    {
     "name": "stdout",
     "output_type": "stream",
     "text": [
      "[[0.]\n",
      " [0.]\n",
      " [0.]]\n"
     ]
    }
   ],
   "source": [
    "a3 = np.array([0, -1/2, 0, 0, 1/2, -1]).reshape(6,1)\n",
    "\n",
    "print(np.dot(D, a3))"
   ]
  },
  {
   "cell_type": "markdown",
   "metadata": {},
   "source": [
    "A ideia de estabelecer relações entre números adimensionais implica uma independência do sistema de unidades adotado, mas não necessariamente uma independência de escala. Através de um programa experimental, os números $\\Pi$ podem ser quantificados individualmente ou relacionados entre si, eventualmente conduzindo a modelos matemáticos que _independam_ da escala. \n",
    "\n",
    "No exemplo dado, através da equação diferencial de equilíbrio dinâmico de um oscilador mecânico pode-se demonstrar que $\\Pi_3 = 2\\pi$, ou seja, uma _constante_. O mesmo resultado poderia ter sido obtido experimentalmente, sem que se utilizassem quaisquer outros princípios físicos (equilíbrio, conservação de energia, etc.) mas apenas as dimensões das grandezas envolvidas, chegando-se finalmente a que:\n",
    "\n",
    "$$f_{\\rm n} = \\frac{1}{2\\pi} \\sqrt{\\frac{k}{m}} $$\n",
    "\n",
    "Essa é a abordagem básica da análise dimensional, que permitiu que grandes cientistas apresentassem ao mundo números adimensionais que regem fenômenos importantes, tais como o número de Reynolds (forças de arrasto em corpos imersos em fluidos), de Froude (relação entre forças gravitacionais e inerciais), ou de Strouhal (frequência de desprendimento de vórtices alternados). "
   ]
  },
  {
   "cell_type": "markdown",
   "metadata": {},
   "source": [
    "### 1.4. Mudança de unidades de base e mudança de escala  <a name=\"section_14\"></a> \n",
    "\n",
    "As fórmulas dimensionais permitem que se recalculem as unidades derivadas a partir de uma nova escolha das unidades de base. Esse cálculo pode ser usado para diversas finalidades, como por exemplo: (1) mudanças no sistema de unidades, como por exemplo do SI para o sistema britânico, ou (2) mudanças de escala das grandezas, para projeto de modelos reduzidos.\n",
    "\n",
    "A escolha das grandezas $L$, $M$, e $T$ como grandezas de base é de certa forma arbitrária, embora esteja bem estabelecida internacionalmente. Contudo, é possível substituir essas três grandezas e logo obter uma nova matriz dimensional para outras três grandezas derivadas.\n",
    "\n",
    "Supondo o estudo de um fenômeno qualquer na base $LMT$, no qual se deseje utilizar uma nova base composta pelas grandezas $A$, $B$ e $C$. A matriz dimensional da nova base é: \n",
    "\n",
    "\\begin{align*}\n",
    " A &= L^{a_{L}} M^{a_{M}} T^{a_{T}} \\\\\n",
    " B &= L^{b_{L}} M^{b_{M}} T^{b_{T}} \\\\\n",
    " C &= L^{c_{L}} M^{c_{M}} T^{c_{T}}\n",
    "\\end{align*}\n",
    "\n",
    "Por exemplo, chamando a função  ```dim_base``` para três novas grandezas de base, especificada como sendo formada por $A = L$ (comprimento),  $B = \\mu$ (massa específica), e $C = g$ (aceleração da gravidade):"
   ]
  },
  {
   "cell_type": "code",
   "execution_count": 16,
   "metadata": {},
   "outputs": [],
   "source": [
    "DB = DimData.loc[['L', 'a', 'rho'], ['L', 'M', 'T']].values"
   ]
  },
  {
   "cell_type": "markdown",
   "metadata": {},
   "source": [
    "Observe que a definição matemática da matriz dimensional acima requer que a função ```dim_base``` retorne a matriz invertida em relação a função ```get_mat```. A função ```dim_base```, por definição, também não aceita mais do que três elementos na tupla de entrada.\n",
    "\n",
    "Tomando-se o logaritmo de todos os termos da matriz dimensional tem-se:\n",
    "\n",
    "\\begin{align*}\n",
    "\\log A &= \\log \\left ( L^{a_{L}} M^{a_{M}} T^{a_{T}} \\right ) = a_{L}\\log L + a_{M}\\log M + a_{T}\\log T \\\\\n",
    "\\log B &= \\log \\left ( L^{b_{L}} M^{b_{M}} T^{b_{T}} \\right ) = b_{L}\\log L + b_{M}\\log M + b_{T}\\log T \\\\\n",
    "\\log C &= \\log \\left ( L^{c_{L}} M^{c_{M}} T^{c_{T}} \\right ) = c_{L}\\log L + c_{M}\\log M + c_{T}\\log T\n",
    "\\end{align*}\n",
    "\n",
    "Na forma matricial:\n",
    "\\begin{equation}\n",
    "\\left [ \\begin{array}{ccc}\n",
    "         a_{L}& a_{M}& a_{T} \\\\\n",
    "         b_{L}& b_{M}& b_{T} \\\\\n",
    "         c_{L}& c_{M}& c_{T}\n",
    "        \\end{array} \\right ]\n",
    "\\left [ \\begin{array}{ccc}\n",
    "        \\log L \\\\\n",
    "        \\log M \\\\\n",
    "        \\log T\n",
    "        \\end{array} \\right ] =\n",
    "\\left [ \\begin{array}{ccc}\n",
    "        \\log A \\\\\n",
    "        \\log B \\\\\n",
    "        \\log C\n",
    "        \\end{array} \\right ]\n",
    "\\end{equation}\n",
    "\n",
    "onde se observa que a matriz do lado esquerdo da equação é a matriz dimensional da nova base. Isolando-se o vetor com as grandezas de base têm-se:\n",
    "\n",
    "\\begin{equation}\n",
    "\\left [ \\begin{array}{ccc}\n",
    "        \\log L \\\\\n",
    "        \\log M \\\\\n",
    "        \\log T\n",
    "        \\end{array} \\right ] =\n",
    "\\left [ \\begin{array}{ccc}\n",
    "         a_{A}& a_{B}& a_{C} \\\\\n",
    "         b_{A}& b_{B}& b_{C} \\\\\n",
    "         c_{A}& c_{B}& c_{C}\n",
    "        \\end{array} \\right ]\n",
    "\\left [ \\begin{array}{ccc}\n",
    "        \\log A \\\\\n",
    "        \\log B \\\\\n",
    "        \\log C\n",
    "        \\end{array} \\right ]\n",
    "\\end{equation}\n",
    "\n",
    "onde:\n",
    "\n",
    "\\begin{equation}\n",
    "\\left [ \\begin{array}{ccc}\n",
    "      a_{A}& a_{B}& a_{C} \\\\\n",
    "      b_{A}& b_{B}& b_{C} \\\\\n",
    "      c_{A}& c_{B}& c_{C}\n",
    "     \\end{array} \\right ] =\n",
    "\\left [ \\begin{array}{ccc}\n",
    "      a_{L}& a_{M}& a_{T} \\\\\n",
    "      b_{L}& b_{M}& b_{T} \\\\\n",
    "      c_{L}& c_{M}& c_{T}\n",
    "     \\end{array} \\right ] ^{-1}\n",
    "\\end{equation}\n",
    "\n",
    "Voltando-se agora à forma monomial, chega-se a:\n",
    "\n",
    "\\begin{align*}\n",
    " L &= A^{a_{A}} B^{a_{B}} C^{a_{C}} \\\\\n",
    " M &= A^{b_{A}} B^{b_{B}} C^{b_{C}} \\\\\n",
    " T &= A^{c_{A}} B^{c_{B}} C^{c_{C}}\n",
    "\\end{align*}\n",
    "\n",
    "Portanto, que para se obter a matriz dimensional das grandezas fundamentais em uma nova base basta inverter a matriz dimensional (transposta) desta nova base. Isso só é possível se essa matriz tem determinante positivo, ou seja, as grandezas que constituem a nova base devem ter expoentes de dimensão linearmente independentes entre si. Isso significa, por exemplo, que não se poderia escolher como novas grandezas de base a _velocidade_ (m/s), o _comprimento_ (m), e o _tempo_ (s), pois as unidades de uma das três grandezas pode se representada por uma relação entre as outras duas. Logo, a matriz dimensional não poderia ser invertida.\n",
    "\n",
    "A inversão da matriz dimensional da nova base é feita em Python pelo módulo ```numpy``` como:"
   ]
  },
  {
   "cell_type": "code",
   "execution_count": 17,
   "metadata": {},
   "outputs": [
    {
     "name": "stdout",
     "output_type": "stream",
     "text": [
      "[[ 1.  -0.  -0. ]\n",
      " [ 3.   0.   1. ]\n",
      " [ 0.5 -0.5  0. ]]\n"
     ]
    }
   ],
   "source": [
    "IDB = np.linalg.inv(DB)\n",
    "\n",
    "print(IDB)"
   ]
  },
  {
   "cell_type": "markdown",
   "metadata": {},
   "source": [
    "Vejamos agora o que acontece com uma grandeza derivada, $X$, para a qual se deseje conhecer as dimensões na nova base. As dimensões na base $LMT$ são dadas por:\n",
    "\n",
    "\\begin{equation}\n",
    " X = L^{\\alpha_{L}} M^{\\beta_{M}} T^{\\gamma_{T}}\n",
    "\\end{equation} \n",
    "\n",
    "e portanto:\n",
    "\n",
    "\\begin{equation}\n",
    " X = \\left ( A^{a_{A}} B^{a_{B}} C^{a_{C}} \\right )^{\\alpha_{L}}\n",
    "     \\left ( A^{b_{A}} B^{b_{B}} C^{b_{C}} \\right )^{\\beta_{M}}\n",
    "     \\left ( A^{c_{A}} B^{c_{B}} C^{c_{C}} \\right )^{\\gamma_{T}} \n",
    "\\end{equation}\n",
    "\n",
    "Rearranjando-se os termos:\n",
    "\n",
    "\\begin{equation}\n",
    " X = A^{(a_{A}\\alpha_{L} + b_{A}\\beta_{M} + c_{A}\\gamma_{T})}\n",
    "     B^{(a_{B}\\alpha_{L} + b_{B}\\beta_{M} + c_{B}\\gamma_{T})}\n",
    "     C^{(a_{C}\\alpha_{L} + b_{C}\\beta_{M} + c_{C}\\gamma_{T})}\n",
    "   = A^{\\alpha_{A}} B^{\\beta_{B}} C^{\\gamma_{C}}\n",
    "\\end{equation}\n",
    "\n",
    "Observa-se que as dimensões na nova base podem ser calculadas com uma multiplicação matricial:\n",
    "\n",
    "\\begin{equation}\n",
    "\\left [ \\begin{array}{ccc}\n",
    "        \\alpha_{A} \\\\\n",
    "        \\beta_{B} \\\\\n",
    "        \\gamma_{C}\n",
    "        \\end{array} \\right ]  =\n",
    "\\left [ \\begin{array}{ccc}\n",
    "         a_{A}& a_{B}& a_{C} \\\\\n",
    "         b_{A}& b_{B}& b_{C} \\\\\n",
    "         c_{A}& c_{B}& c_{C}\n",
    "        \\end{array} \\right ] ^{T} \n",
    "\\left [ \\begin{array}{ccc}\n",
    "        \\alpha_{L} \\\\\n",
    "        \\beta_{M} \\\\\n",
    "        \\gamma_{T}\n",
    "        \\end{array} \\right ] \n",
    "\\end{equation}\n",
    "\n",
    "Com o módulo ```numpy``` essa multiplicação é feita da seguinte forma:"
   ]
  },
  {
   "cell_type": "code",
   "execution_count": 18,
   "metadata": {},
   "outputs": [
    {
     "name": "stdout",
     "output_type": "stream",
     "text": [
      "[[ 1.   3.   0.5  1.   2.  -0.5]\n",
      " [ 0.   0.  -0.5  0.   1.   0.5]\n",
      " [ 0.   1.   0.   0.   1.   0. ]]\n"
     ]
    }
   ],
   "source": [
    "new_D = np.dot(IDB.T, D)\n",
    "\n",
    "print(new_D)"
   ]
  },
  {
   "cell_type": "markdown",
   "metadata": {},
   "source": [
    "Como já mencionado, uma das aplicações da mudança de base é a mudança de unidades das grandezas fundamentais. A nova matriz dimensional nos permite calcular o efeito desta mudança nas grandezas derivadas. Por exemplo, vamos admitir que desejamos utilizar a milha nautica ao invés do metro como unidade de comprimento, e a hora ao invés do segundo como unidade do tempo. Vejamos como isso repercute na unidade de velocidade, sendo que a fórmula de cálculo é a mesma que foi anteriormente utilizada para a dimensão:\n",
    "\n",
    "\\begin{equation}\n",
    " X = A^{\\alpha_{A}} B^{\\beta_{B}} C^{\\gamma_{C}}\n",
    "\\end{equation}\n"
   ]
  },
  {
   "cell_type": "code",
   "execution_count": 29,
   "metadata": {},
   "outputs": [
    {
     "name": "stdout",
     "output_type": "stream",
     "text": [
      "[1 0 -1] :  1.9438444924406049\n"
     ]
    }
   ],
   "source": [
    "L_length =  1/1852      # 1 nautical mile are 1852 meters\n",
    "L_mass   =  1/1         # 1 kilogram will remain kilogram\n",
    "L_time   =  1/3600      # 1 hour is 3600 seconds\n",
    "\n",
    "scales   =  np.array([L_length, L_mass, L_time])     # build a vector with LMT scales\n",
    "D_speed  =  DimData.loc['v', LMT].values.T           # get dimensions of speed\n",
    "L_speed  =  np.prod(scales**D_speed)                 # calculate scale of speed\n",
    "\n",
    "print(D_speed, ': ', L_speed)"
   ]
  },
  {
   "cell_type": "markdown",
   "metadata": {},
   "source": [
    "ou seja, a nova unidade da velocidade é o nó (_1 knot = 1 mile/hour_) sendo que 1m/s (sistema SI) corresponde a aproximadamente 1.94 nós.\n",
    "\n",
    "Outro aspecto interessante desse cálculo é que exatamente o mesmo procedimento pode ser utilizado para se modificar a escala de alguns parâmetros que descrevem um fenômeno físico, e conhecer a repercussão desta mudança em outros parâmetros relevantes. Esta é a ferramenta básica utilizada no projeto de modelos reduzidos, que será discutido na próxima seção.\n",
    "\n",
    "Por exemplo, abaixo está o cálculo da nova escala de velocidade para uma mudança na escala de comprimento, $L$,  mantendo-se a escala de massa específica, $\\mu$, e da aceleração da gravidade, $g$ inalteradas:"
   ]
  },
  {
   "cell_type": "code",
   "execution_count": null,
   "metadata": {},
   "outputs": [],
   "source": [
    "L_length = 1/160      # escala de comprimento do modelo reduzido\n",
    "L_dens   = 1/1        # density unchanged\n",
    "L_accel  = 1/1        # acceleration unchanged\n",
    "\n",
    "print(1/L_speed)"
   ]
  },
  {
   "cell_type": "markdown",
   "metadata": {},
   "source": [
    "Ou seja, uma velocidade de 1m/s no modelo reduzido corresponde aproximadamente a 12.65m/s na escala real (também chamada de escala do protótipo), desde que o modelo reduzido respeite a escala 1:1 para a massa específica. "
   ]
  },
  {
   "cell_type": "markdown",
   "metadata": {},
   "source": [
    "### 1.5. Famous $\\Pi$-numbers  <a name=\"section_15\"></a> \n",
    "\n",
    "#### _Reynold's Number_\n",
    "\n",
    "Um dos exemplos mais citados sobre uso de adimensionais para descrever fenômenos físicos é a relação entre o coeficiente de arrasto e o número de Reynolds no estudo do escoamento de fluidos em torno de corpos sólidos. O coeficiente de arrasto, $C_{\\rm D}$, é uma relação entre a força de arrasto, $F_{\\rm D}$ é a força aerodinâmica, $\\rho V^2 A/2$, onde $\\rho$ é a massa específica do fluido, $V$ é a velocidade do escoamento, e $A$ é a área exposta de referência (geralmente a seção perpendicular ao escoamento):\n",
    "\n",
    "$$ C_{\\rm D} = \\frac{F_{\\rm D}}{\\frac{1}{2} \\rho V^2 A}$$\n",
    "\n",
    "Já o número de Reynolds representa uma relação entre as forças inerciais e as forças de viscosidade em um fluido, definido como:\n",
    "\n",
    "$$ {\\rm Re} = \\frac{V \\, D}{\\nu}$$ \n",
    "\n",
    "onde $D$ é uma dimensão de referência da área exposta (perpendicular à direção do escoamento), e $\\nu$ é a viscosidade cinemática do fluido ($\\nu \\approx 1.48 \\times 10^5 {\\rm m^2/s}$ para o ar na temperatura ambiente). A figura abaixo mostra o que resulta de uma investigação experimental da relação entre estes dois adimensionais para uma esfera.\n",
    "\n",
    "<img src=\"resources/drag_coefficient.jpg\" alt=\"drag_coefficient\" width=\"600px\"/>\n",
    "\n",
    "Observa-se, neste caso, que a relação apresentada graficamente pode ser usada em qualquer escala, independentemente de existirem modelos preditivos baseados em princípios físicos. Aqui o fenômeno é descrito apenas em termos de adimensionais.\n"
   ]
  },
  {
   "cell_type": "code",
   "execution_count": null,
   "metadata": {},
   "outputs": [],
   "source": []
  }
 ],
 "metadata": {
  "kernelspec": {
   "display_name": "Python 3",
   "language": "python",
   "name": "python3"
  },
  "language_info": {
   "codemirror_mode": {
    "name": "ipython",
    "version": 3
   },
   "file_extension": ".py",
   "mimetype": "text/x-python",
   "name": "python",
   "nbconvert_exporter": "python",
   "pygments_lexer": "ipython3",
   "version": "3.7.1"
  }
 },
 "nbformat": 4,
 "nbformat_minor": 2
}
