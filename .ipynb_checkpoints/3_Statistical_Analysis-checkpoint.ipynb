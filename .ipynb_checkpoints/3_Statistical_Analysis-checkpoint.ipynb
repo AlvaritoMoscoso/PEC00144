{
 "cells": [
  {
   "cell_type": "markdown",
   "metadata": {},
   "source": [
    "Universidade Federal do Rio Grande do Sul (UFRGS)   \n",
    "Programa de Pós-Graduação em Engenharia Civil (PPGEC)   \n",
    "\n",
    "# PEC00144: Experimental Methods in Civil Engineering\n",
    "\n",
    "\n",
    "### Part I: Analysis\n",
    "[3.   Statistics and probabilities](#section_3)   \n",
    "[3.1. Random variables and probability distributions](#section_31)   \n",
    "[3.2. Statistical moments and estimators](#section_32)   \n",
    "[3.3. The uniform distribution](#section_32)   \n",
    "[3.4. The gaussian distribution](#section_32)   \n",
    "[3.5. Statistical dependence and correlation](#section_35)   \n",
    "\n",
    "---\n",
    "_Prof. Marcelo M. Rocha, Dr.techn._ [(ORCID)](https://orcid.org/0000-0001-5640-1020)  \n",
    "_Porto Alegre, RS, Brazil_ \n"
   ]
  },
  {
   "cell_type": "code",
   "execution_count": 2,
   "metadata": {},
   "outputs": [],
   "source": [
    "# Importing Python modules required for this notebook\n",
    "# (this cell must be executed with \"shift+enter\" before any other Python cell)\n",
    "\n",
    "import numpy as np\n",
    "import pandas as pd\n",
    "import matplotlib.pyplot as plt\n"
   ]
  },
  {
   "cell_type": "markdown",
   "metadata": {},
   "source": [
    "# 3. Statistics and probabilities\n",
    "\n",
    "## 3.1. Random variables and probability distributions  \n",
    "\n",
    "Uma variável aleatória $X$ tem suas propriedades estatísticas completamente determinadas pela sua função de probabilidade acumulada (fpa), $P_X(x)$, ou, opcionalmente, pela sua função de densidade de probabilidade (fdp), $p_X(x)$.\n",
    "\n",
    "Seguindo uma abordagem conhecida como _frequentista_, o significado físico atribuído a estas funções matemáticas pode ser compreendido se um conjunto de  amostras independentes, $ \\left\\{ x_{1}, x_{2}, \\dots, x_{i}, \\dots, x_{N} \\right\\}$, é utilizado como ponto de partida para as definições. Sem perda de generalidade, admite-se a seguir que as amostras no conjunto estão ordenadas de forma ascendente, ou seja, $x_{1} < x_{2} < \\dots < x_{N}$.\n",
    "\n",
    "A partir deste conjunto de amostras é possível construir uma função em forma de escada que se denomina função empírica de probabilidade acumulada. Esta função adimensional é incrementada de $1/N$ nos pontos em que a abscissa $x$ coincide com os valores das amostras, atingindo valor máximo 1 a partir de $x = x_N$.\n",
    "\n",
    "Vê-se na figura uma representação precisa e não tendenciosa do que foi observado a respeito da variável aleatória $X$. Até agora nenhuma hipótese foi feita e nenhum aspecto subjetivo foi incluído no procedimento, com exceção de eventuais peculiaridades do método de obtenção das amostras. Se esta abordagem fosse mantida e se fosse necessário estimar-se a propensão de  a assumir certos valores numéricos, tudo o que poderia ser dito pela abordagem frequentista é que:\n",
    "\n",
    "\\begin{align*}\n",
    "{\\rm Prob} \\left\\{ X = x_{i} \\right\\} &= 1/N \\\\\n",
    "{\\rm Prob} \\left\\{ X < x_{i} \\right\\} &= (i - 1)/N\n",
    "\\end{align*}\n",
    "\n",
    "Acredita-se, contudo, que na medida que o número  de amostras disponíveis for aumentando, a função empírica de probabilidade acumulada irá convergir para uma função determinística, que corresponderia então à _função de probabilidade acumulada_ (fpa), $P_X(x)$. Esta crença em uma _convergência_ introduz um aspecto subjetivo na análise, pois jamais haverá um número de amostras grande o suficiente para que $P_X(x)$ seja perfeitamente conhecida, embora seja ela uma informação fundamental nos cálculos de probabilidade que envolvam a variável aleatória $X$. Na prática, escolhe-se para fpa geralmente funções contínuas, que tenham uma justificativa física associada ao fenômeno que contextualiza a variável aleatória. Os modelos mais comuns serão apresentados mais adiante (incluindo a função de Gauss, usada no exemplo da figura acima).\n",
    "\n",
    "Na medida em que a função empírica aproxima uma função teórica (modelo) de probabilidade acumulada, a sua derivada aproxima o que se denomina _função de densidade de probabilidade_ (fdp), $p_X(x)$ , tal que:\n",
    "\n",
    "\\begin{align*}\n",
    "&{\\rm Prob} \\left\\{ X = x \\right\\}   = p_X(x) \\, dx \\\\\n",
    "&{\\rm Prob} \\left\\{ X < x \\right\\}  = P_X(x) = \\int_{-\\infty}^{x} p_X(\\chi) \\, d\\chi \\\\\n",
    "&{\\rm Prob} \\left\\{ x_{1} < X < x_{2} \\right\\}  = P_{X}(x_{2}) - P_{X}(x_{1})\n",
    "                          = \\int_{x_{1}}^{x_{2}} p_X(\\chi) \\, d\\chi\n",
    "\\end{align*}\n",
    "\n",
    "Observa-se que, devido à continuidade de domínio, a probabilidade de que a variável aleatória $X$ assuma um valor particular  é infinitesimal. Valores finitos de probabilidade são obtidos somente para intervalos no eixo das abscissas. \n",
    "\n",
    "Na acima pode-se ver, em linha tracejada, a f.d.p. associada à f.p.a. apresentada na fig. 1. Esta função suaviza o histograma de densidade de probabilidade, apresentado em linha cheia na mesma figura. A construção deste histograma é um pouco mais complexa que a da função empírica de probabilidade acumulada, uma vez que requer o arbítrio de um intervalo de discretização do eixo das abcissas. Uma vez definida esta discretização, o histograma é construído de forma a representar a fração de amostras pertencentes a cada intervalo, respeitando a condição de que a área total do histograma (sua integral) seja unitária. \n",
    "\n",
    "A passagem de funções empíricas para funções teóricas é tema da disciplina de Estatística, e não será aqui abordada em maiores detalhes. Entretanto, cumpre mencionar a existência de funções que são particularmente adequadas para o papel de distribuição de probabilidades, principalmente por estarem associadas a algum princípio físico pertinente ou simplesmente por respeitarem as propriedades axiomáticas:\n",
    "\n",
    "\\begin{align*}\n",
    "\\mbox{1)} & \\;\\;\\; 0 < P_X(x) < 1 \\\\\n",
    "\\mbox{2)} & \\;\\;\\; p_X(x) = \\frac{dP_X(x)}{dx} \\geq 0 \\\\\n",
    "\\mbox{3)} & \\;\\;\\; \\int_{-\\infty}^{+\\infty} p_X(x)  \\, dx = 1\n",
    "\\end{align*}\n",
    "\n",
    "Com base nestas definições, a rigor a função de densidade empírica deveria ser uma soma de funções tipo delta de Dirac (impulsos unitários nas coordenadas $x_i$):\n",
    "\n",
    "$$  p_X(x) = \\sum_{i = 1}^{N} {\\frac{\\delta(x - x_{i})}{N}} $$\n",
    "\n",
    "mas dá-se preferência a uma apresentação mais suavizada, tal como a obtida do histograma normalizado apresentado na figura. \n",
    "\n",
    "Cabe salientar que a transição de funções empíricas para modelos teóricos representa um passo necessário para que, a partir de uma informação limitada, se possa levar a cabo um procedimento de análise que requer o conhecimento da propensão de ocorrência de valores muito grandes ou muito pequenos da variável aleatória (que sequer foram observados). Em suma, o uso de funções teóricas, $P_X(x)$ e $p_X(x)$, se dá em decorrência da necessidade de inter- e extrapolações a partir de dados disponíveis, para determinação de probabilidades que não foram obtidas experimentalmente."
   ]
  },
  {
   "cell_type": "code",
   "execution_count": 3,
   "metadata": {},
   "outputs": [
    {
     "data": {
      "image/png": "[encoded data removed]",
      "text/plain": [
       "<Figure size 432x288 with 1 Axes>"
      ]
     },
     "metadata": {
      "needs_background": "light"
     },
     "output_type": "display_data"
    }
   ],
   "source": [
    "N =  32\n",
    "x =  np.arange(0,N)/N\n",
    "y =  np.sort(np.random.randn(N))\n",
    "\n",
    "l1 = plt.plot(y,x,drawstyle='steps')"
   ]
  },
  {
   "cell_type": "markdown",
   "metadata": {},
   "source": [
    "## 3.2. Statistical moments and estimators\n",
    "\n",
    "Define-se inicialmente como valor esperado, valor médio, ou simplesmente média de uma variável aleatória a coordenada de seu domínio obtida de uma ponderação de todo o domínio pela fdp: \n",
    "\t(5)\n",
    "Demonstra-se facilmente que o operador  é linear. Além disso, o seu uso pode ser aplicado também para quaisquer funções de variáveis aleatórias, , sendo de especial interesse a classe de funções , para a qual:\n",
    "\t(6)\n",
    "onde  é denominado momento estatístico de ordem k da variável aleatória , ou simplesmente -ésimo momento de . O valor esperado de  é um caso particular em que , e portanto .\n",
    "\n",
    "### Momentos estatísticos centrais\n",
    "\n",
    "Os momentos estatísticos podem ser alternativamente definidos após um deslocamento da origem do eixo das abscissas para que este coincida com o valor médio da variável aleatória:\n",
    "\t(7)\n",
    "onde  é denominado momento estatístico central de ordem  da variável aleatória , ou simplesmente -ésimo momento central de . Observa-se que por definição . Já o segundo momento central, , recebe a denominação de variância, e sua raiz quadrada é o desvio padrão, , que constitui uma medida da variabilidade de . Assim como o valor médio é análogo ao centro de área da fdp, o desvio padrão é análogo ao seu raio de giração. A relação  é denominada coeficiente de variação, e também constitui uma medida da variabilidade de , com a vantagem de ser adimensional e a desvantagem de tender ao infinito para variáveis aleatórias com média tendendo a zero.\n",
    "É possível obter-se os momentos centrais  diretamente dos momentos  através da relação:\n",
    "\t(8)\n",
    "Por exemplo, para  tem-se que:\n",
    "\n",
    "e logo:\n",
    "\n",
    "Este mesmo resultado pode ser obtido a partir das eqs. 6 e 7, com .\n",
    "É de fundamental importância não confundir os momentos de uma distribuição de probabilidade (abordagem axiomática da teoria de probabilidades) com os estimadores de momentos de uma distribuição (abordagem frequentista). A definição de estimadores não será abordada aqui em maiores detalhes, visto que é um vasto campo de estudos por si só. Estimadores são a fronteira entre a teoria matemática e o mundo real, consequência natural da intenção de se estabelecer uma analogia entre os dois contextos. Contudo, não se pode prescindir de relacionar os dois principais estimadores que serão aqui utilizados. Pode ser demonstrado que os seguintes estimadores da média, , e do desvio padrão, :\n",
    "\t(9)\n",
    "\t(10)\n",
    "são não tendenciosos (unbiased), pois tendem aos respectivos momentos quando  tende a infinito. Estes estimadores estão disponíveis no Matlab através dos comandos mean e std, respectivamente. Deve-se observar o uso do chapéu para diferenciar o momento estatístico de seu estimador.\n"
   ]
  },
  {
   "cell_type": "markdown",
   "metadata": {},
   "source": [
    "## 3.3. The uniform distribution\n",
    "\n",
    "Se uma variável aleatória, , é uniformemente distribuída entre 0 e 1, então  a sua função de densidade de probabilidade e a sua função de probabilidade acumulada são, respectivamente:\n",
    "\t(11)\n",
    "O primeiro momento é calculado como:\n",
    "\n",
    "enquanto o segundo momento central é:\n",
    "\n",
    "Observa-se que  e  são, respectivamente, a coordenada do centro de área e o raio de giração de um retângulo de lado unitário. \n",
    "A distribuição uniforme é de fundamental importância para várias técnicas de simulação, tais como a Simulação de Monte Carlo, sendo que diversos ambientes computacionais já trazem alguma função capaz de gerar números aleatórios uniformemente distribuídos e não-correlacionados. Por exemplo, no Matlab utilizando-se o comando rand, e verificando-se média e desvio padrão através de estimadores internos:\n"
   ]
  },
  {
   "cell_type": "code",
   "execution_count": 4,
   "metadata": {},
   "outputs": [
    {
     "name": "stdout",
     "output_type": "stream",
     "text": [
      "Mean value:        0.4952\n",
      "Standar deviation: 0.2839\n"
     ]
    }
   ],
   "source": [
    "u  = np.random.rand(1,1000)\n",
    "\n",
    "print('Mean value:        {0:6.4f}'.format(u.mean()))\n",
    "print('Standar deviation: {0:6.4f}'.format(u.std()))\n"
   ]
  },
  {
   "cell_type": "markdown",
   "metadata": {},
   "source": [
    "## 3.4. The normal distribution\n",
    "\n",
    "No Teorema do Limite Central é deduzido que a soma de um grande número de variáveis aleatórias (por exemplo, erros acumulados) resulta ter uma função de distribuição de probabilidade que se denomina função de distribuição normal ou Gaussiana.\n",
    "Curiosamente, a sua função de probabilidade acumulada não  pode ser conhecida em uma forma analítica fechada, embora a respectiva função de densidade seja:\n",
    "\t(12)\n",
    "Os parâmetros da distribuição são  e , que correspondem à média e ao desvio padrão da variável , respectivamente. Esta correspondência direta entre os parâmetros da função e os momentos estatísticos é apenas mais uma das características que tornam a distribuição Gaussiana tão atrativa para fins práticos. Na verdade, é muito comum adotar-se a esta distribuição quando não se dispõe de nada além de estimativas de média e desvio padrão.\n",
    "Ambientes computacionais, tais como o Matlab, geralmente disponibilizam recursos referentes à distribuição normal. Contudo, é comum que se o use o caso particular em que a variável aleatória tem média zero e desvio padrão unitário: \n",
    "\t(13)\n",
    "sendo a função  denominada função de densidade de probabilidade Gaussiana padrão. Esta função está graficada na fig. 2 com uma linha tracejada, para fins de avaliação da simulação realizada com o comando randn do Matlab. A correspondente função de probabilidade acumulada é:\n",
    "\t(14)\n",
    "a qual, como já foi dito, não pode ser calculada analiticamente. A função  encontra-se geralmente tabelada em livros de estatística, ou pode ser calculada através de uma aproximação por expansão assimptótica.\n",
    "Uma característica muito importante da distribuição normal, que será amplamente explorada na sequência, é o fato de que uma combinação linear de variáveis aleatórias gaussianas, correlacionadas ou não, resulta também em uma variável gaussiana. Mais do que isso, qualquer sistema (dinâmico) linear, submetido a uma excitação (input) gaussiano, apresentará também uma resposta (output) gaussiana. Essa propriedade facilita a estimativa de valores extremos da resposta, que são de grande interesse prático.\n",
    "Para simular uma váriavel aleatória gaussiana com uma dada média e desvio padrão, basta inverter a normalização apresentada na eq. 13, tal como demonstrado na fig. 3.\n"
   ]
  },
  {
   "cell_type": "code",
   "execution_count": 5,
   "metadata": {},
   "outputs": [
    {
     "name": "stdout",
     "output_type": "stream",
     "text": [
      "Mean value:        0.0209\n",
      "Standar deviation: 0.9991\n"
     ]
    }
   ],
   "source": [
    "u  = np.random.randn(1,1000)\n",
    "\n",
    "print('Mean value:        {0:6.4f}'.format(u.mean()))\n",
    "print('Standar deviation: {0:6.4f}'.format(u.std()))\n"
   ]
  },
  {
   "cell_type": "code",
   "execution_count": null,
   "metadata": {},
   "outputs": [],
   "source": []
  },
  {
   "cell_type": "markdown",
   "metadata": {},
   "source": [
    "## 3.5. Statistical dependence and correlation\n",
    "\n"
   ]
  },
  {
   "cell_type": "code",
   "execution_count": null,
   "metadata": {},
   "outputs": [],
   "source": []
  }
 ],
 "metadata": {
  "kernelspec": {
   "display_name": "Python 3",
   "language": "python",
   "name": "python3"
  },
  "language_info": {
   "codemirror_mode": {
    "name": "ipython",
    "version": 3
   },
   "file_extension": ".py",
   "mimetype": "text/x-python",
   "name": "python",
   "nbconvert_exporter": "python",
   "pygments_lexer": "ipython3",
   "version": "3.7.1"
  }
 },
 "nbformat": 4,
 "nbformat_minor": 2
}
