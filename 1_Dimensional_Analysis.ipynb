{
 "cells": [
  {
   "cell_type": "markdown",
   "metadata": {},
   "source": [
    "Universidade Federal do Rio Grande do Sul (UFRGS)   \n",
    "Programa de Pós-Graduação em Engenharia Civil (PPGEC)   \n",
    "\n",
    "# PEC00144: Experimental Methods in Civil Engineering\n",
    "\n",
    "\n",
    "### Part I: Analysis\n",
    "[1.   Dimensional analysis and similarity](#section_1)   \n",
    "[1.1. Quantities, units, dimensions](#section_11)   \n",
    "[1.2. The Theorem of Pi's by Vaschy-Buckinghan](#section_12)   \n",
    "[1.3. Change of units and change of scales](#section_13)   \n",
    "[1.4. Reduced scale models](#section_14)   \n",
    "\n",
    "---\n",
    "_Prof. Marcelo M. Rocha, Dr.techn._ [(ORCID)](https://orcid.org/0000-0001-5640-1020)  \n",
    "_Porto Alegre, RS, Brazil_ "
   ]
  },
  {
   "cell_type": "markdown",
   "metadata": {},
   "source": [
    "## 1. Análise dimensional e similaridade <a name=\"section_1\"></a> \n",
    "\n",
    "### 1.1. Grandezas, dimensões, unidades  <a name=\"section_11\"></a> \n",
    "\n",
    "O Prof. G.I. Barenblatt escreveu em seu livro _Análise Dimensional_ (1987):   \n",
    "\n",
    ">_... De fato, a ideia sobre a qual a análise dimensional se baseia é muito simples, e pode ser compreendida por todos:  leis físicas não dependem de arbitrariedades na escolha das unidades básicas de medida. Uma conclusão importante pode ser derivada desta ideia simples, usando argumentos simples: as funções que expressam leis físicas devem possuir uma certa propriedade fundamental, a qual em matemática é chamada de_ homogeneidade generalizada _ou simetria. Esta propriedade permite que o número de argumentos nestas  funções possa ser reduzido, tornando-os mais fáceis de serem obtidos (calculando-os ou determinando-os experimentalmente). Isso é, de fato, todo o conteúdo da análise dimensional $-$ nada mais existe além disso._\n",
    "\n",
    "Em outras palavras, as unidades que resultam no dois lados de uma equação devem ser as mesmas. Embora simples, essa ideia permitiu a cientistas como Newton, Rayleigh, Maxwell, Reynolds, Kolmogorov, Cauchy, e muitos outros, a proposição de princípios físicos fundamentais. \n",
    "\n",
    "Para ilustrar a maneira como a lei de _homogeneidade dimensional_ pode ser aplicada, vamos imaginar o problema da frequência de vibração livre, $f_{\\rm n}$, de um sistema massa-mola.\n",
    "\n",
    "<img src=\"resources/figSDOF.jpg\" alt=\"figSDOF\" width=\"360px\"/>\n",
    "\n",
    "O fenômeno de vibração livre do sistema massa-mola (não amortecido) apresentado na figura envolve, a princípio, as seguintes grandezas físicas:\n",
    "\n",
    "* a posição instantânea, $u$,   \n",
    "* a massa oscilante, $m$,   \n",
    "* o tempo, $t$,   \n",
    "* a amplitude do deslocamento, $u_0$,   \n",
    "* a rigidez da mola, $k$, e   \n",
    "* a frequência de oscilação, $f_{\\rm n}$.  \n",
    "\n",
    "Nosso objetivo é investigar possíveis entre estas grandezas. Observe que a lista acima decorre de uma _hipótese de modelo_, que pode ou não estar completa. Vamos tentar encontrar essa relação a partir de uma análise das _unidades de medida_ dessas grandezas: \n",
    "\n",
    "\\begin{align*}\n",
    "[ u ]        &= [L]^{1}[M]^{0}[T]^{0}  \\\\\n",
    "[ m ]        &= [L]^{0}[M]^{1}[T]^{0}  \\\\\n",
    "[ t ]        &= [L]^{0}[M]^{0}[T]^{1}  \\\\\n",
    "[ u_0 ]      &= [L]^{1}[M]^{0}[T]^{0}  \\\\\n",
    "[ k ]        &= [L]^{0}[M]^{1}[T]^{-2} \\\\\n",
    "[ f_{\\rm n}] &= [L]^{0}[M]^{0}[T]^{-1}\n",
    "\\end{align*}\n",
    "\n",
    "onde os colchetes simbolizam \"_unidade de_\". Pode-se observar que as unidades foram escritas em termos de apenas três _unidades fundamentais_: unidade de comprimento, $[L]$, de massa, $[M]$, e de tempo, $[T]$. A maior parte dos princípios utilizados na mecânica dos sólidos podem ser expressos apenas com essas três unidades. Eventualmente pode ser necessário utilizar também a temperatura, $\\Theta$. Na sequência omitiremos os colchetes sempre que não houver ambiguidade.\n",
    "\n",
    "As grandezas subordinadas diretamente às unidades fundamentais são denominadas _grandezas fundamentais_, que no caso são o comprimento, a massa, e o tempo. As demais unidades e grandezas são denominadas _unidades e grandezas derivadas_, como por exemplo a rigidez e a frequência. A subordinação das unidades derivadas às unidades fundamentais é expressa através de fórmulas dimensionais, como essas apresentadas acima. O expoente aplicado a cada unidade fundamental é denominado _dimensão_ ou _expoente de dimensão_.\n",
    "\n",
    "No caso do _Sistema Internacional_, SI, utilizamos o metro (m), o kilograma (kg) e o segundo (s) como unidades das grandezas $L$, $M$, e $T$, respectivamente. Assim:\n",
    "\n",
    "\\begin{align*}\n",
    "[ u ]        &= {\\rm m}  \\\\\n",
    "[ m ]        &= {\\rm kg} \\\\\n",
    "[ t ]        &= {\\rm s}  \\\\\n",
    "[ u_0 ]      &= {\\rm m}  \\\\\n",
    "[ k ]        &= {\\rm m}^{0}{\\rm kg}^{1}{\\rm s}^{-2} = {\\rm kg}/{\\rm s}^{2} = {\\rm N/m} \\\\\n",
    "[ f_{\\rm n}] &= {\\rm m}^{0}{\\rm kg}^{0}{\\rm s}^{-1} = 1/{\\rm s} = {\\rm Hz}\n",
    "\\end{align*}\n",
    "\n",
    "Para facilitar o cálculo de escalas apresentado neste _notebook_, será feito uso de um dicionário Python com uma lista de grandezas físicas comumente usadas em mecânica e dinâmica estrutural, aerodinâmica e mecânica dos fluídos e em mecânica dos solos: "
   ]
  },
  {
   "cell_type": "code",
   "execution_count": 34,
   "metadata": {},
   "outputs": [],
   "source": [
    "from PEC00144 import *       # imports the parameters dictionary \"par_dict\" and other stuff\n"
   ]
  },
  {
   "cell_type": "markdown",
   "metadata": {},
   "source": [
    "As grandezas incluídas no dícionário são:\n",
    "\n",
    "```python\n",
    "par_dict = {'length':  ( 1.0,  0.0,  0.0),   # length, displacement\n",
    "            'mass':    ( 0.0,  1.0,  0.0),   # mass\n",
    "            'time':    ( 0.0,  0.0,  1.0),   # time\n",
    "            'area':    ( 2.0,  0.0,  0.0),   # surface área\n",
    "            'volume':  ( 3.0,  0.0,  0.0),   # volume or...\n",
    "            'S_A':     ( 3.0,  0.0,  0.0),   # ... static moment\n",
    "            'I_A':     ( 4.0,  0.0,  0.0),   # moment or inertia\n",
    "            'mass_L':  ( 1.0,  1.0,  0.0),   # mass per unit length\n",
    "            'mass_S':  ( 2.0,  1.0,  0.0),   # mass per unit area\n",
    "            'density': (-3.0,  1.0,  0.0),   # mass per unit volume\n",
    "            'I_M':     ( 2.0,  1.0,  0.0),   # mass inertia\n",
    "            'speed':   ( 1.0,  0.0, -1.0),   # velocity, speed\n",
    "            'accel':   ( 1.0,  0.0, -2.0),   # acceleration, gravity\n",
    "            'omega':   ( 0.0,  0.0,  1.0),   # angular velocity or...\n",
    "            'freq':    ( 0.0,  0.0, -1.0),   # ... frequency\n",
    "            'alpha':   ( 0.0,  0.0, -2.0),   # angular acceleration\n",
    "            'force':   ( 1.0,  1.0, -2.0),   # force\n",
    "            'moment':  ( 2.0,  1.0, -2.0),   # moment or...\n",
    "            'energy':  ( 2.0,  1.0, -2.0),   # ... energy\n",
    "            'stiff':   ( 0.0,  1.0, -2.0),   # spring or axial stiffness or...\n",
    "            'load_L':  ( 0.0,  1.0, -2.0),   # ... load per unit length\n",
    "            'stress':  (-1.0,  1.0, -2.0),   # pressure, stress\n",
    "            'EI':      ( 3.0,  1.0, -2.0),   # bending stiffness\n",
    "            'nu_dyn':  (-1.0,  1.0, -1.0),   # dynamic viscosity\n",
    "            'nu_kyn':  ( 2.0,  0.0, -1.0)}   # kynematic viscosity\n",
    "```\n",
    "\n",
    "Outras grandezas podem ser facilmente incluídas. As tuplas associadas a cada chave no dicionário são os expoentes das respectivas fórmulas dimensionais. Grandezas como ângulo ($\\theta$), deformação ($\\epsilon$), coeficiente de Poison ($\\nu$), e razão de amortecimento crítico ($\\zeta$) são adimensionais, e não é necessário incluí-las neste dicionário. Relações entre medidas de comprimento, denominadas _fatores de forma_, também são adimensionais por definição.\n",
    "\n",
    "Para iterar sobre as entradas do dicionário basta fazer:"
   ]
  },
  {
   "cell_type": "code",
   "execution_count": 35,
   "metadata": {},
   "outputs": [
    {
     "name": "stdout",
     "output_type": "stream",
     "text": [
      "length  : [L] =  1, [M] =  0, [T] =  0\n",
      "mass    : [L] =  0, [M] =  1, [T] =  0\n",
      "time    : [L] =  0, [M] =  0, [T] =  1\n",
      "area    : [L] =  2, [M] =  0, [T] =  0\n",
      "volume  : [L] =  3, [M] =  0, [T] =  0\n",
      "S_A     : [L] =  3, [M] =  0, [T] =  0\n",
      "I_A     : [L] =  4, [M] =  0, [T] =  0\n",
      "mass_L  : [L] =  1, [M] =  1, [T] =  0\n",
      "mass_S  : [L] =  2, [M] =  1, [T] =  0\n",
      "density : [L] = -3, [M] =  1, [T] =  0\n",
      "I_M     : [L] =  2, [M] =  1, [T] =  0\n",
      "speed   : [L] =  1, [M] =  0, [T] = -1\n",
      "accel   : [L] =  1, [M] =  0, [T] = -2\n",
      "omega   : [L] =  0, [M] =  0, [T] =  1\n",
      "freq    : [L] =  0, [M] =  0, [T] = -1\n",
      "alpha   : [L] =  0, [M] =  0, [T] = -2\n",
      "force   : [L] =  1, [M] =  1, [T] = -2\n",
      "moment  : [L] =  2, [M] =  1, [T] = -2\n",
      "energy  : [L] =  2, [M] =  1, [T] = -2\n",
      "stiff   : [L] =  0, [M] =  1, [T] = -2\n",
      "load_L  : [L] =  0, [M] =  1, [T] = -2\n",
      "stress  : [L] = -1, [M] =  1, [T] = -2\n",
      "EI      : [L] =  3, [M] =  1, [T] = -2\n",
      "nu_dyn  : [L] = -1, [M] =  1, [T] = -1\n",
      "nu_kyn  : [L] =  2, [M] =  0, [T] = -1\n"
     ]
    }
   ],
   "source": [
    "for ID, exponent in par_dict.items():\n",
    "    \n",
    "    print('{0:7} : [L] = {1:2.0f}, [M] = {2:2.0f}, [T] = {3:2.0f}'.format(ID, *exponent))\n"
   ]
  },
  {
   "cell_type": "markdown",
   "metadata": {},
   "source": [
    "Para acessar os expoentes associados a uma chave específica através do identificador (ID) faz-se:"
   ]
  },
  {
   "cell_type": "code",
   "execution_count": 36,
   "metadata": {},
   "outputs": [
    {
     "name": "stdout",
     "output_type": "stream",
     "text": [
      "(0.0, 1.0, -2.0)\n",
      "(0.0, 0.0, -1.0)\n"
     ]
    }
   ],
   "source": [
    "print(par_dict['stiff'])    # stiffness dimensions\n",
    "print(par_dict['freq'])     # frequency dimensions\n"
   ]
  },
  {
   "cell_type": "markdown",
   "metadata": {},
   "source": [
    "Nas próximas seções mostraremos como os dados contidos neste dicionário poderão ser utilizados para automatizar os cálculos de mudança de unidades ou de escalas de grandezas físicas."
   ]
  },
  {
   "cell_type": "markdown",
   "metadata": {},
   "source": [
    "### 1.2. O Teorema dos Pi's de Vaschy-Buckinghan  <a name=\"section_12\"></a> \n",
    "\n",
    "O _Teorema dos $Pi$'s de Vaschy-Buckingham_ pode ser enunciado da seguinte forma:\n",
    "\n",
    ">Dado um processo físico envolvendo $n$ _grandezas dimensionais_, denotadas como $p_1, p_2, \\dots, p_n$. Pode-se expressar matematicamente este processo por meio da relação geral:<br><br>\n",
    "\\begin{equation}\n",
    " f\\left (  p_1, p_2, \\dots, p_n \\right ) = 0 \n",
    "\\end{equation}<br>\n",
    ">Esta relação pode ser substituída por outra relação entre $r = n - k$ _parâmetros adimensionais_:<br><br>\n",
    "\\begin{equation}\n",
    " F\\left (  \\Pi_1, \\Pi_2, \\dots, \\Pi_r \\right ) = 0\n",
    "\\end{equation}<br>\n",
    "onde $k$ é o número de unidades fundamentais necessárias para compor as unidades das grandezas dimensionais. Os números $\\Pi$ tem a seguinte forma:<br><br>\n",
    "\\begin{equation}\n",
    "\\Pi_i = p_1^{\\alpha_1} \\; p_2^{\\alpha_2} \\; \\dots \\; p_n^{\\alpha_n}\n",
    "\\end{equation}<br>\n",
    "onde os expoentes $\\vec{\\alpha} = \\left [ \\alpha_1 \\; \\alpha_2 \\; \\dots \\; \\alpha_n \\right ]^{\\rm T}$ sejam tais que a condição de adimensionalidade seja resguardada.\n",
    "\n",
    "Considerando-se apenas as unidades fundamentais $L$, $M$, $T$, no presente contexto tem-se $k = 3$. A demonstração deste teorema é facilmente encontrada na literatura e não será reproduzida aqui. \n",
    "\n",
    "Para a aplicação do teorema, pode-se formar uma _matriz dimensional_, $\\bf M$, cujas linhas são os expoentes, ou _dimensões_, das grandezas fundamentais compondo as unidades de todos os parâmetros envolvidos. Para a construção dos números $\\Pi$, buscam-se vetores (coluna),  $\\vec{\\alpha}$, tal que (com $k = 3$): \n",
    "\n",
    "\\begin{equation}\n",
    "{\\bf M} \\vec{\\alpha} = \\left [ \\begin{array}{ccc}\n",
    "                                0 \\\\\n",
    "                                0 \\\\\n",
    "                                0\n",
    "                               \\end{array} \\right ]\n",
    "\\end{equation}\n",
    "\n",
    "Não existe uma regra geral para a determinação de $\\vec{\\alpha}$ e, portanto, dos respectivos números $\\Pi$. O princípio prático que orienta a escolha desses adimensionais é o seu significado físico. \n",
    "\n",
    "No módulo ```PEC00144.py``` matriz dimensional pode ser lida diretamente do dicionário ```par_dict```, e está disponível na variável ```dim_mat```, contendo _todas_ as grandezas disponíveis: "
   ]
  },
  {
   "cell_type": "code",
   "execution_count": 37,
   "metadata": {},
   "outputs": [
    {
     "name": "stdout",
     "output_type": "stream",
     "text": [
      "[[ 1  0  0  2  3  3  4  1  2 -3  2  1  1  0  0  0  1  2  2  0  0 -1  3 -1\n",
      "   2]\n",
      " [ 0  1  0  0  0  0  0  1  1  1  1  0  0  0  0  0  1  1  1  1  1  1  1  1\n",
      "   0]\n",
      " [ 0  0  1  0  0  0  0  0  0  0  0 -1 -2  1 -1 -2 -2 -2 -2 -2 -2 -2 -2 -1\n",
      "  -1]]\n"
     ]
    }
   ],
   "source": [
    "print(dim_mat.astype('int'))     # as integer only for the sake of formatting\n"
   ]
  },
  {
   "cell_type": "markdown",
   "metadata": {},
   "source": [
    "Já que em um dicionário Python a ordem de iteração é imprevisível, a matriz acima foi gerada juntamente com uma lista de chaves associadas a cada coluna:"
   ]
  },
  {
   "cell_type": "code",
   "execution_count": 38,
   "metadata": {},
   "outputs": [
    {
     "name": "stdout",
     "output_type": "stream",
     "text": [
      "['length', 'mass', 'time', 'area', 'volume', 'S_A', 'I_A', 'mass_L', 'mass_S', 'density', 'I_M', 'speed', 'accel', 'omega', 'freq', 'alpha', 'force', 'moment', 'energy', 'stiff', 'load_L', 'stress', 'EI', 'nu_dyn', 'nu_kyn']\n"
     ]
    }
   ],
   "source": [
    "print(ID_list)\n"
   ]
  },
  {
   "cell_type": "markdown",
   "metadata": {},
   "source": [
    "Se for necessário acessar uma coluna específica da matriz por meio da chave, por exemplo a _frequência_ ou a _força_, basta fazer:"
   ]
  },
  {
   "cell_type": "code",
   "execution_count": 39,
   "metadata": {},
   "outputs": [
    {
     "name": "stdout",
     "output_type": "stream",
     "text": [
      "[ 0.  0. -1.]\n",
      "[ 1.  1. -2.]\n"
     ]
    }
   ],
   "source": [
    "print(dim_mat[:, ID_list.index('freq')])\n",
    "print(dim_mat[:, ID_list.index('force')])\n"
   ]
  },
  {
   "cell_type": "markdown",
   "metadata": {},
   "source": [
    "Os comandos acima são mencionados apenas como uma explicação do código no módulo ```PEC00144.py``` e não serão, a princípio, necessários para realizar os cálculos de mudança de unidades ou escalas, já que o processo está automatizado como visto mais adiante. \n",
    "\n",
    "No exemplo do oscilador mecânico apresentado anteriormente, admite-se existir relações matemáticas entre as grandezas envolvidas:\n",
    "\n",
    "\\begin{equation}\n",
    " f\\left ( u, m, t, u_0, k, f_{\\rm n} \\right ) = 0 \n",
    "\\end{equation}\n",
    "\n",
    "Neste caso a matriz dimensional seria, portanto:"
   ]
  },
  {
   "cell_type": "code",
   "execution_count": 40,
   "metadata": {},
   "outputs": [
    {
     "name": "stdout",
     "output_type": "stream",
     "text": [
      "[[ 1.  0.  0.  1.  0.  0.]\n",
      " [ 0.  1.  0.  0.  1.  0.]\n",
      " [ 0.  0.  1.  0. -2. -1.]]\n"
     ]
    }
   ],
   "source": [
    "M = get_mat(('length', 'mass', 'time', 'length', 'stiff', 'freq'));   print(M)\n"
   ]
  },
  {
   "cell_type": "markdown",
   "metadata": {},
   "source": [
    "Como já mencionado, quando se está investigando um processo ainda pouco compreendido, a escolha destas grandezas é apenas um palpite ilustre (_educated guess_, em inglês). O conjunto pode tanto exceder as necessidades como ser incompleto! A análise dimensional não deve ser vista como uma panacéia, mas sim como um possível caminho para se entender melhor (e com sorte completamente) o fenômeno investigado.\n",
    "\n",
    "Possíveis números $\\Pi$ para o conjunto de grandezas envolvidas no oscilador mecânico são:\n",
    "\n",
    "\\begin{equation}\n",
    " \\Pi_1 = u^1 u_0^{-1},   \\hspace{2cm}\n",
    " \\Pi_2 = t^1 \\; f_{\\rm n}^{-1},  \\hspace{2cm}\n",
    " \\Pi_3 = m^{-1/2} \\; k^{1/2} \\; f_{\\rm n}^{-1} \n",
    "\\end{equation}\n",
    "\n",
    "onde $\\Pi_3$ é claramente o número mais interessante, com $\\vec{\\alpha}_3 = \\left [ 0 \\;\\;\\; {-1/2} \\;\\;\\; 0 \\;\\;\\;  0 \\;\\;\\; 1/2  \\;\\;\\; {-1} \\right ]^{\\rm T}$. Observe que o produto ${\\bf M} \\vec{\\alpha}$ confirma a adimensionalidade:"
   ]
  },
  {
   "cell_type": "code",
   "execution_count": 41,
   "metadata": {},
   "outputs": [
    {
     "name": "stdout",
     "output_type": "stream",
     "text": [
      "[[0.]\n",
      " [0.]\n",
      " [0.]]\n"
     ]
    }
   ],
   "source": [
    "a = np.array([0, -1/2, 0, 0, 1/2, -1]).reshape(6,1)\n",
    "\n",
    "print(np.dot(M, a))"
   ]
  },
  {
   "cell_type": "markdown",
   "metadata": {},
   "source": [
    "A ideia de estabelecer relações entre números adimensionais implica uma independência do sistema de unidades adotado, mas não necessariamente uma independência de escala. Através de um programa experimental, os números $\\Pi$ podem ser quantificados individualmente ou relacionados entre si, eventualmente conduzindo a modelos matemáticos que _independam_ da escala. \n",
    "\n",
    "No exemplo dado, através da equação diferencial de equilíbrio dinâmico de um oscilador mecânico pode-se demonstrar que $\\Pi_3 = 2\\pi$, ou seja, uma _constante_. O mesmo resultado poderia ter sido obtido experimentalmente, sem que se utilizassem quaisquer outros princípios físicos (equilíbrio, conservação de energia, etc.) mas apenas as dimensões das grandezas envolvidas, chegando-se finalmente a que:\n",
    "\n",
    "$$f_{\\rm n} = \\frac{1}{2\\pi} \\sqrt{\\frac{k}{m}} $$\n",
    "\n",
    "Essa é a abordagem básica da análise dimensional, que permitiu que grandes cientistas apresentassem ao mundo números adimensionais que regem fenômenos importantes, tais como o número de Reynolds (forças de arrasto em corpos imersos em fluidos), de Froude (relação entre forças gravitacionais e inerciais), ou de Strouhal (frequência de desprendimento de vórtices alternados). \n",
    "\n",
    "Um dos exemplos mais citados sobre uso de adimensionais para descrever fenômenos físicos é a relação entre o coeficiente de arrasto e o número de Reynolds no estudo do escoamento de fluidos em torno de corpos sólidos. O coeficiente de arrasto, $C_{\\rm D}$, é uma relação entre a força de arrasto, $F_{\\rm D}$ é a força aerodinâmica, $\\rho V^2 A/2$, onde $\\rho$ é a massa específica do fluido, $V$ é a velocidade do escoamento, e $A$ é a área exposta de referência (geralmente a seção perpendicular ao escoamento):\n",
    "\n",
    "$$ C_{\\rm D} = \\frac{F_{\\rm D}}{\\frac{1}{2} \\rho V^2 A}$$\n",
    "\n",
    "Já o número de Reynolds representa uma relação entre as forças inerciais e as forças de viscosidade em um fluido, definido como:\n",
    "\n",
    "$$ {\\rm Re} = \\frac{V \\, D}{\\nu}$$ \n",
    "\n",
    "onde $D$ é uma dimensão de referência da área exposta (perpendicular à direção do escoamento), e $\\nu$ é a viscosidade cinemática do fluido ($\\nu \\approx 1.48 \\times 10^5 {\\rm m^2/s}$ para o ar na temperatura ambiente). A figura abaixo mostra o que resulta de uma investigação experimental da relação entre estes dois adimensionais para uma esfera.\n",
    "\n",
    "<img src=\"resources/drag_coefficient.jpg\" alt=\"drag_coefficient\" width=\"600px\"/>\n",
    "\n",
    "Observa-se, neste caso, que a relação apresentada graficamente pode ser usada em qualquer escala, independentemente de existirem modelos preditivos baseados em princípios físicos. Aqui o fenômeno é descrito apenas em termos de adimensionais.\n"
   ]
  },
  {
   "cell_type": "markdown",
   "metadata": {},
   "source": [
    "### 1.3. Mudança de unidades de base e mudança de escala  <a name=\"section_13\"></a> \n",
    "\n",
    "As fórmulas dimensionais permitem que se recalculem as unidades derivadas a partir de uma nova escolha das unidades de base. Esse cálculo pode ser usado para diversas finalidades, como por exemplo: (1) mudanças no sistema de unidades, como por exemplo do SI para o sistema britânico, ou (2) mudanças de escala das grandezas, para projeto de modelos reduzidos.\n",
    "\n",
    "A matriz dimensional apenas para as grandezas fundamentais pode ser obtida lendo-se os respectivos expoentes no dicionário ```par_dict```. Isso é feito com a função ```dim_base```, que tem como argumento as chaves das três grandezas:"
   ]
  },
  {
   "cell_type": "code",
   "execution_count": 42,
   "metadata": {},
   "outputs": [
    {
     "name": "stdout",
     "output_type": "stream",
     "text": [
      "[[1. 0. 0.]\n",
      " [0. 1. 0.]\n",
      " [0. 0. 1.]]\n"
     ]
    }
   ],
   "source": [
    "DB =  dim_base(('length', 'mass', 'time'));   print(DB)\n"
   ]
  },
  {
   "cell_type": "markdown",
   "metadata": {},
   "source": [
    "A escolha das grandezas $L$, $M$, e $T$ como grandezas de base é de certa forma arbitrária, embora esteja bem estabelecida internacionalmente. Contudo, é possível substituir essas três grandezas e logo obter uma nova matriz dimensional para outras três grandezas derivadas.\n",
    "\n",
    "Supondo o estudo de um fenômeno qualquer na base $LMT$, no qual se deseje utilizar uma nova base composta pelas grandezas $A$, $B$ e $C$. A matriz dimensional da nova base é: \n",
    "\n",
    "\\begin{align*}\n",
    " A &= L^{a_{L}} M^{a_{M}} T^{a_{T}} \\\\\n",
    " B &= L^{b_{L}} M^{b_{M}} T^{b_{T}} \\\\\n",
    " C &= L^{c_{L}} M^{c_{M}} T^{c_{T}}\n",
    "\\end{align*}\n",
    "\n",
    "Por exemplo, chamando a função  ```dim_base``` para três novas grandezas de base, especificada como sendo formada por $A = L$ (comprimento),  $B = \\mu$ (massa específica), e $C = g$ (aceleração da gravidade):"
   ]
  },
  {
   "cell_type": "code",
   "execution_count": 43,
   "metadata": {},
   "outputs": [
    {
     "name": "stdout",
     "output_type": "stream",
     "text": [
      "[[ 1.  0.  0.]\n",
      " [-3.  1.  0.]\n",
      " [ 1.  0. -2.]]\n"
     ]
    }
   ],
   "source": [
    "DB =  dim_base(('length', 'density', 'accel'));   print(DB)\n"
   ]
  },
  {
   "cell_type": "markdown",
   "metadata": {},
   "source": [
    "Observe que a definição matemática da matriz dimensional acima requer que a função ```dim_base``` retorne a matriz invertida em relação a função ```get_mat```. A função ```dim_base```, por definição, também não aceita mais do que três elementos na tupla de entrada.\n",
    "\n",
    "Tomando-se o logaritmo de todos os termos da matriz dimensional tem-se:\n",
    "\n",
    "\\begin{align*}\n",
    "\\log A &= \\log \\left ( L^{a_{L}} M^{a_{M}} T^{a_{T}} \\right ) = a_{L}\\log L + a_{M}\\log M + a_{T}\\log T \\\\\n",
    "\\log B &= \\log \\left ( L^{b_{L}} M^{b_{M}} T^{b_{T}} \\right ) = b_{L}\\log L + b_{M}\\log M + b_{T}\\log T \\\\\n",
    "\\log C &= \\log \\left ( L^{c_{L}} M^{c_{M}} T^{c_{T}} \\right ) = c_{L}\\log L + c_{M}\\log M + c_{T}\\log T\n",
    "\\end{align*}\n",
    "\n",
    "Na forma matricial:\n",
    "\\begin{equation}\n",
    "\\left [ \\begin{array}{ccc}\n",
    "         a_{L}& a_{M}& a_{T} \\\\\n",
    "         b_{L}& b_{M}& b_{T} \\\\\n",
    "         c_{L}& c_{M}& c_{T}\n",
    "        \\end{array} \\right ]\n",
    "\\left [ \\begin{array}{ccc}\n",
    "        \\log L \\\\\n",
    "        \\log M \\\\\n",
    "        \\log T\n",
    "        \\end{array} \\right ] =\n",
    "\\left [ \\begin{array}{ccc}\n",
    "        \\log A \\\\\n",
    "        \\log B \\\\\n",
    "        \\log C\n",
    "        \\end{array} \\right ]\n",
    "\\end{equation}\n",
    "\n",
    "onde se observa que a matriz do lado esquerdo da equação é a matriz dimensional da nova base. Isolando-se o vetor com as grandezas de base têm-se:\n",
    "\n",
    "\\begin{equation}\n",
    "\\left [ \\begin{array}{ccc}\n",
    "        \\log L \\\\\n",
    "        \\log M \\\\\n",
    "        \\log T\n",
    "        \\end{array} \\right ] =\n",
    "\\left [ \\begin{array}{ccc}\n",
    "         a_{A}& a_{B}& a_{C} \\\\\n",
    "         b_{A}& b_{B}& b_{C} \\\\\n",
    "         c_{A}& c_{B}& c_{C}\n",
    "        \\end{array} \\right ]\n",
    "\\left [ \\begin{array}{ccc}\n",
    "        \\log A \\\\\n",
    "        \\log B \\\\\n",
    "        \\log C\n",
    "        \\end{array} \\right ]\n",
    "\\end{equation}\n",
    "\n",
    "onde:\n",
    "\n",
    "\\begin{equation}\n",
    "\\left [ \\begin{array}{ccc}\n",
    "      a_{A}& a_{B}& a_{C} \\\\\n",
    "      b_{A}& b_{B}& b_{C} \\\\\n",
    "      c_{A}& c_{B}& c_{C}\n",
    "     \\end{array} \\right ] =\n",
    "\\left [ \\begin{array}{ccc}\n",
    "      a_{L}& a_{M}& a_{T} \\\\\n",
    "      b_{L}& b_{M}& b_{T} \\\\\n",
    "      c_{L}& c_{M}& c_{T}\n",
    "     \\end{array} \\right ] ^{-1}\n",
    "\\end{equation}\n",
    "\n",
    "Voltando-se agora à forma monomial, chega-se a:\n",
    "\n",
    "\\begin{align*}\n",
    " L &= A^{a_{A}} B^{a_{B}} C^{a_{C}} \\\\\n",
    " M &= A^{b_{A}} B^{b_{B}} C^{b_{C}} \\\\\n",
    " T &= A^{c_{A}} B^{c_{B}} C^{c_{C}}\n",
    "\\end{align*}\n",
    "\n",
    "Portanto, que para se obter a matriz dimensional das grandezas fundamentais em uma nova base basta inverter a matriz dimensional (transposta) desta nova base. Isso só é possível se essa matriz tem determinante positivo, ou seja, as grandezas que constituem a nova base devem ter expoentes de dimensão linearmente independentes entre si. Isso significa, por exemplo, que não se poderia escolher como novas grandezas de base a _velocidade_ (m/s), o _comprimento_ (m), e o _tempo_ (s), pois as unidades de uma das três grandezas pode se representada por uma relação entre as outras duas. Logo, a matriz dimensional não poderia ser invertida.\n",
    "\n",
    "A inversão da matriz dimensional da nova base é feita em Python pelo módulo ```numpy``` como:"
   ]
  },
  {
   "cell_type": "code",
   "execution_count": 44,
   "metadata": {},
   "outputs": [
    {
     "name": "stdout",
     "output_type": "stream",
     "text": [
      "[[ 1.  -0.  -0. ]\n",
      " [ 3.   1.   0. ]\n",
      " [ 0.5 -0.  -0.5]]\n"
     ]
    }
   ],
   "source": [
    "IDB = np.linalg.inv(DB);   print(IDB)"
   ]
  },
  {
   "cell_type": "markdown",
   "metadata": {},
   "source": [
    "Vejamos agora o que acontece com uma grandeza derivada, $X$, para a qual se deseje conhecer as dimensões na nova base. As dimensões na base $LMT$ são dadas por:\n",
    "\n",
    "\\begin{equation}\n",
    " X = L^{\\alpha_{L}} M^{\\beta_{M}} T^{\\gamma_{T}}\n",
    "\\end{equation} \n",
    "\n",
    "e portanto:\n",
    "\n",
    "\\begin{equation}\n",
    " X = \\left ( A^{a_{A}} B^{a_{B}} C^{a_{C}} \\right )^{\\alpha_{L}}\n",
    "     \\left ( A^{b_{A}} B^{b_{B}} C^{b_{C}} \\right )^{\\beta_{M}}\n",
    "     \\left ( A^{c_{A}} B^{c_{B}} C^{c_{C}} \\right )^{\\gamma_{T}} \n",
    "\\end{equation}\n",
    "\n",
    "Rearranjando-se os termos:\n",
    "\n",
    "\\begin{equation}\n",
    " X = A^{(a_{A}\\alpha_{L} + b_{A}\\beta_{M} + c_{A}\\gamma_{T})}\n",
    "     B^{(a_{B}\\alpha_{L} + b_{B}\\beta_{M} + c_{B}\\gamma_{T})}\n",
    "     C^{(a_{C}\\alpha_{L} + b_{C}\\beta_{M} + c_{C}\\gamma_{T})}\n",
    "   = A^{\\alpha_{A}} B^{\\beta_{B}} C^{\\gamma_{C}}\n",
    "\\end{equation}\n",
    "\n",
    "Observa-se que as dimensões na nova base podem ser calculadas com uma multiplicação matricial:\n",
    "\n",
    "\\begin{equation}\n",
    "\\left [ \\begin{array}{ccc}\n",
    "        \\alpha_{A} \\\\\n",
    "        \\beta_{B} \\\\\n",
    "        \\gamma_{C}\n",
    "        \\end{array} \\right ]  =\n",
    "\\left [ \\begin{array}{ccc}\n",
    "         a_{A}& a_{B}& a_{C} \\\\\n",
    "         b_{A}& b_{B}& b_{C} \\\\\n",
    "         c_{A}& c_{B}& c_{C}\n",
    "        \\end{array} \\right ] ^{T} \n",
    "\\left [ \\begin{array}{ccc}\n",
    "        \\alpha_{L} \\\\\n",
    "        \\beta_{M} \\\\\n",
    "        \\gamma_{T}\n",
    "        \\end{array} \\right ] \n",
    "\\end{equation}\n",
    "\n",
    "Com o módulo ```numpy``` essa multiplicação é feita da seguinte forma:"
   ]
  },
  {
   "cell_type": "code",
   "execution_count": 45,
   "metadata": {},
   "outputs": [
    {
     "name": "stdout",
     "output_type": "stream",
     "text": [
      "[[ 1.   0.   0. ]\n",
      " [ 3.   1.   0. ]\n",
      " [ 0.5  0.  -0.5]\n",
      " [ 2.   0.   0. ]\n",
      " [ 3.   0.   0. ]\n",
      " [ 3.   0.   0. ]\n",
      " [ 4.   0.   0. ]\n",
      " [ 4.   1.   0. ]\n",
      " [ 5.   1.   0. ]\n",
      " [ 0.   1.   0. ]\n",
      " [ 5.   1.   0. ]\n",
      " [ 0.5  0.   0.5]\n",
      " [ 0.   0.   1. ]\n",
      " [ 0.5  0.  -0.5]\n",
      " [-0.5  0.   0.5]\n",
      " [-1.   0.   1. ]\n",
      " [ 3.   1.   1. ]\n",
      " [ 4.   1.   1. ]\n",
      " [ 4.   1.   1. ]\n",
      " [ 2.   1.   1. ]\n",
      " [ 2.   1.   1. ]\n",
      " [ 1.   1.   1. ]\n",
      " [ 5.   1.   1. ]\n",
      " [ 1.5  1.   0.5]\n",
      " [ 1.5  0.   0.5]]\n"
     ]
    }
   ],
   "source": [
    "new_dim_mat = np.dot(IDB.T, dim_mat);   print(new_dim_mat.T)"
   ]
  },
  {
   "cell_type": "markdown",
   "metadata": {},
   "source": [
    "No código acima, o cálculo dos novos expoentes foi feito diretamente para TODAS as grandezas disponíveis no dicionário ```par_dict```.\n",
    "\n",
    "Como já mencionado, uma das aplicações da mudançaa de base é a mudança de unidades das grandezas fundamentais. A nova matriz dimensional nos permite calcular o efeito desta mudança nas grandezas derivadas. Por exemplo, vamos admitir que desejamos utilizar a milha nautica ao invés do metro como unidade de comprimento, e a hora ao invés do segundo como unidade do tempo. Vejamos como isso repercute na unidade de velocidade, sendo que a fórmula de cálculo é a mesma que foi anteriormente utilizada para a dimensão:\n",
    "\n",
    "\\begin{equation}\n",
    " X = A^{\\alpha_{A}} B^{\\beta_{B}} C^{\\gamma_{C}}\n",
    "\\end{equation}\n",
    "\n",
    "No módulo ```PEC00144.py``` todo o procedimento descrito acima está automatizado na função ```new_scale```, demonstrado abaixo:"
   ]
  },
  {
   "cell_type": "code",
   "execution_count": 46,
   "metadata": {},
   "outputs": [
    {
     "name": "stdout",
     "output_type": "stream",
     "text": [
      "1.9438444924406049\n"
     ]
    }
   ],
   "source": [
    "L_length = 1/1852      # 1 nautical mile are 1852 meters\n",
    "L_mass   = 1/1         # 1 kilogram will remain kilogram\n",
    "L_time   = 1/3600      # 1 hour is 3600 seconds\n",
    "\n",
    "L_speed  = new_scale('speed', ('length', 'mass', 'time'), (L_length, L_mass, L_time))\n",
    "\n",
    "print(L_speed)"
   ]
  },
  {
   "cell_type": "markdown",
   "metadata": {},
   "source": [
    "ou seja, a nova unidade da velocidade é o nó (_1 knot = 1 mile/hour_) sendo que 1m/s (sistema SI) corresponde a aproximadamente 1.94 nós.\n",
    "\n",
    "Outro aspecto interessante desse cálculo é que exatamente o mesmo procedimento pode ser utilizado para se modificar a escala de alguns parâmetros que descrevem um fenômeno físico, e conhecer a repercussão desta mudança em outros parâmetros relevantes. Esta é a ferramenta básica utilizada no projeto de modelos reduzidos, que será discutido na próxima seção.\n",
    "\n",
    "Por exemplo, abaixo está o cálculo da nova escala de velocidade para uma mudança na escala de comprimento, $L$,  mantendo-se a escala de massa específica, $\\mu$, e da aceleração da gravidade, $g$ inalteradas:"
   ]
  },
  {
   "cell_type": "code",
   "execution_count": 47,
   "metadata": {},
   "outputs": [
    {
     "name": "stdout",
     "output_type": "stream",
     "text": [
      "12.649110640673516\n"
     ]
    }
   ],
   "source": [
    "L_length = 1/160      # escala de comprimento do modelo reduzido\n",
    "L_dens   = 1/1        # density unchanged\n",
    "L_accel  = 1/1        # acceleration unchanged\n",
    "\n",
    "L_speed  = new_scale('speed', ('length', 'density', 'accel'), (L_length, L_dens, L_accel))\n",
    "\n",
    "print(1/L_speed)"
   ]
  },
  {
   "cell_type": "markdown",
   "metadata": {},
   "source": [
    "Ou seja, uma velocidade de 1m/s no modelo reduzido corresponde aproximadamente a 12.65m/s na escala real (também chamada de escala do protótipo), desde que o modelo reduzido respeite a escala 1:1 para a massa específica. "
   ]
  },
  {
   "cell_type": "markdown",
   "metadata": {},
   "source": [
    "### 1.4. Projeto de modelos reduzidos  <a name=\"section_14\"></a> \n",
    "\n",
    "Como exemplo, vamos projetar um modelo reduzido de uma viga de concreto armado com vão $L = 10$m submetida ao peso próprio, para a qual desejamos medir o deslocamento vertical no centro, $w_{\\rm max}$. Vamos adotar uma escala de comprimento 1:10 e uma escala de aceleração 1:1, já que a mesma aceleração da gravidade estará atuando tanto sobre o modelo como sobre a estrutura real. \n",
    "\n",
    "<img src=\"resources/SimpleBeam.png\" alt=\"SimpleBeam\" width=\"480px\"/>\n",
    "\n",
    "* Seção transversal:    \n",
    "  $B\\times H = 0.3 \\times 0.6 {\\rm m}$    \n",
    "  Portanto:    \n",
    "  $A = 0.18 {\\rm m}^2$ e $I = 0.0054 {\\rm m}^4$ <br>\n",
    "* Massa específica do concreto:    \n",
    "  $\\rho = 2500 {\\rm kg/m}^3$    \n",
    "  Portanto:    \n",
    "  $q = \\rho A g = 2500 \\times 0.18 \\times 9.81 \\approx 4400 {\\rm N/m}$ <br>\n",
    "* Módulo de elasticidade do concreto:    \n",
    "  $E_{\\rm c} = 3 \\times 10^{11} {\\rm N/m}^2$   \n",
    "  Portanto:    \n",
    "  $E_{\\rm c}I = 1.6 \\times 10^6 {\\rm Nm}^2$\n",
    " \n",
    "<br>\n",
    "Adicionalmente, vamos estabelecer que o modelo será construído em alumínio. Isso resulta numa escala para o módulo de elasticidade igual a 71GPa:205GPa, ou seja, 1:2.89. Com base nesta informação a matriz dimensional da nova base será dada por:\n"
   ]
  },
  {
   "cell_type": "code",
   "execution_count": 48,
   "metadata": {},
   "outputs": [
    {
     "name": "stdout",
     "output_type": "stream",
     "text": [
      "[[ 1.  0.  0.]\n",
      " [ 1.  0. -2.]\n",
      " [-1.  1. -2.]]\n"
     ]
    }
   ],
   "source": [
    "DB =  dim_base(('length', 'accel', 'stress'));   print(DB)"
   ]
  },
  {
   "cell_type": "markdown",
   "metadata": {},
   "source": [
    "E as escalas necessárias são:"
   ]
  },
  {
   "cell_type": "code",
   "execution_count": 49,
   "metadata": {},
   "outputs": [],
   "source": [
    "L_length =  1/10       # escala de comprimento do modelo reduzido\n",
    "L_accel  =  1/1        # mesma gravidade\n",
    "L_stress = 71/205      # módulo de Young\n"
   ]
  },
  {
   "cell_type": "markdown",
   "metadata": {},
   "source": [
    "Se o modelo é para ser construído e utilizado em experimentos que respeitem plenamente a semelhança com a estrutura real é necessário que todos os demais parâmetros sejam respeitados, o que não é em geral possível.\n",
    "Por exemplo, observa-se que a massa específica do modelo deve ser aproximadamente 16.5 vezes maior que a massa específica da estrutura real. Se isso não for respeitado, os deslocamentos sob peso próprio não respeitarão a escala de comprimento, ficando aquém dos valores corretos, e o modelo será inadequado para o propósito estabelecido. \n"
   ]
  },
  {
   "cell_type": "code",
   "execution_count": 50,
   "metadata": {},
   "outputs": [
    {
     "name": "stdout",
     "output_type": "stream",
     "text": [
      "28.873239436619723 28873.23943661972\n"
     ]
    }
   ],
   "source": [
    "L_load_L = new_scale('load_L', ('length', 'accel', 'stress'), (L_length, L_accel, L_stress))\n",
    "L_EI     = new_scale('EI',     ('length', 'accel', 'stress'), (L_length, L_accel, L_stress))\n",
    "\n",
    "print(1/L_load_L, 1/L_EI)"
   ]
  },
  {
   "cell_type": "markdown",
   "metadata": {},
   "source": [
    "Portanto, a carga (força) por unidade de comprimento no modelo deve ser 28.87 vezes menor, enquanto a rigidez à flexão deve ser 28870 vezes menor. Aplicando as escala aos valores calculados para o protótipo tem-se:"
   ]
  },
  {
   "cell_type": "code",
   "execution_count": 51,
   "metadata": {},
   "outputs": [
    {
     "name": "stdout",
     "output_type": "stream",
     "text": [
      "152.390243902439 55.41463414634146\n"
     ]
    }
   ],
   "source": [
    "q  = 4400. * L_load_L\n",
    "EI = 1.6e6 * L_EI\n",
    "\n",
    "print(q, EI)"
   ]
  },
  {
   "cell_type": "markdown",
   "metadata": {},
   "source": [
    "Inicialmente vamos definir uma seção transversal de alumínio que respeite o valor acima. Podemos, por exemplo, utilizar uma lâmina de seção retangular com altura de 5mm, deixando em aberto o valor da largura:\n",
    "\n",
    "\\begin{align*}\n",
    " EI &= E \\; \\frac{b h^3}{12} \\\\\n",
    " b  &= \\frac{12 EI}{E h^3}\n",
    "\\end{align*}\n",
    "\n",
    "Substituindo valores:"
   ]
  },
  {
   "cell_type": "code",
   "execution_count": 52,
   "metadata": {},
   "outputs": [
    {
     "name": "stdout",
     "output_type": "stream",
     "text": [
      "0.07492682926829267\n"
     ]
    }
   ],
   "source": [
    "b = 12*EI/(0.005**3)/7.1e10;    print(b)"
   ]
  },
  {
   "cell_type": "markdown",
   "metadata": {},
   "source": [
    "Ou seja, a lâmina deve ter uma seção retângular de $5\\times 75$mm. Considerando que a massa específica do alumínio é da ordem de 2700${\\rm kg/m^3}$, o peso por unidade de comprimento desta lâmina é: "
   ]
  },
  {
   "cell_type": "code",
   "execution_count": 53,
   "metadata": {},
   "outputs": [
    {
     "name": "stdout",
     "output_type": "stream",
     "text": [
      "9.932625\n"
     ]
    }
   ],
   "source": [
    "W = 2700*0.005*0.075*9.81;      print(W) \n"
   ]
  },
  {
   "cell_type": "markdown",
   "metadata": {},
   "source": [
    "Portando, é necessário acrescentar massa à lâmina, o que deve ser feito sem interferir na rigidez da seção transversal. Isso pode ser alcançado colando-se pequenos pedaços de chumbo, de modo a totalizar o valor requerido. A massa adicional a ser acrescentada resulta ser:"
   ]
  },
  {
   "cell_type": "code",
   "execution_count": 54,
   "metadata": {},
   "outputs": [
    {
     "name": "stdout",
     "output_type": "stream",
     "text": [
      "5.6015486903607545\n"
     ]
    }
   ],
   "source": [
    "m_add = q/9.81 - W;             print(m_add)"
   ]
  },
  {
   "cell_type": "markdown",
   "metadata": {},
   "source": [
    "Como o vão em escala reduzida é de exatamente 1m, deve-se acrescentar um total de 5.6kg de chumbo distribuídos ao longo do comprimento do modelo, totalizando aproximadamente 15.6kg de massa total.\n",
    "Observa-se que modelos reduzidos em escala de aceleração 1:1 geralmente resultam bastante flexíveis e pesados, mas é isso que se faz necessário para que as deformações por peso próprio respeitem a escala de comprimento.\n",
    "\n",
    "Uma vez construído o modelo com estas características, os deslocamentos desejados podem ser então experimentalmente medidos. No caso deste exemplo em particular, existe uma fórmula teórica que permite o cálculo do deslocamento no centro do vão:\n",
    "\n",
    "$$\n",
    "w_{\\rm max} = \\frac{5}{384} \\frac{q L^4}{EI}\n",
    "$$\n",
    "\n",
    "Substituindo-se valores para a escala do protótipo:"
   ]
  },
  {
   "cell_type": "code",
   "execution_count": 55,
   "metadata": {},
   "outputs": [
    {
     "name": "stdout",
     "output_type": "stream",
     "text": [
      "0.35807291666666674\n"
     ]
    }
   ],
   "source": [
    "w_max = (5/384)*4400*(10**4)/1.6e6;    print(w_max)"
   ]
  },
  {
   "cell_type": "markdown",
   "metadata": {},
   "source": [
    "Enquanto para a escala do modelo:"
   ]
  },
  {
   "cell_type": "code",
   "execution_count": 56,
   "metadata": {},
   "outputs": [
    {
     "name": "stdout",
     "output_type": "stream",
     "text": [
      "0.035812578956867\n"
     ]
    }
   ],
   "source": [
    "w_max = (5/384)*152.4*(1**4)/55.41;    print(w_max)"
   ]
  },
  {
   "cell_type": "markdown",
   "metadata": {},
   "source": [
    "Ou seja, confirma-se que o deslocamento no centro está aproximadamente na escala 1:10, como pretendido."
   ]
  }
 ],
 "metadata": {
  "kernelspec": {
   "display_name": "Python 3",
   "language": "python",
   "name": "python3"
  },
  "language_info": {
   "codemirror_mode": {
    "name": "ipython",
    "version": 3
   },
   "file_extension": ".py",
   "mimetype": "text/x-python",
   "name": "python",
   "nbconvert_exporter": "python",
   "pygments_lexer": "ipython3",
   "version": "3.6.5"
  }
 },
 "nbformat": 4,
 "nbformat_minor": 2
}
