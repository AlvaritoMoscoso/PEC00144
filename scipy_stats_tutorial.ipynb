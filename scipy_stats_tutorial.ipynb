{
 "cells": [
  {
   "cell_type": "markdown",
   "metadata": {},
   "source": [
    "Universidade Federal do Rio Grande do Sul (UFRGS)   \n",
    "Programa de Pós-Graduação em Engenharia Civil (PPGEC)   \n",
    "\n",
    "# PEC00144: Experimental Methods in Civil Engineering\n",
    "\n",
    "\n",
    "### Using ``scipy.stats.rv_continuous`` to analize or simulate RV samples   \n",
    "\n",
    "---\n",
    "_Prof. Marcelo M. Rocha, Dr.techn._ [(ORCID)](https://orcid.org/0000-0001-5640-1020)  \n",
    "_Porto Alegre, RS, Brazil_ \n"
   ]
  },
  {
   "cell_type": "code",
   "execution_count": null,
   "metadata": {},
   "outputs": [],
   "source": [
    "# Importing Python modules required for this notebook\n",
    "# (this cell must be executed with \"shift+enter\" before any other Python cell)\n",
    "\n",
    "import numpy as np\n",
    "import pandas as pd\n",
    "import scipy.stats as ss\n",
    "import matplotlib.pyplot as plt\n"
   ]
  },
  {
   "cell_type": "markdown",
   "metadata": {},
   "source": [
    "### 1. Predefined random variables\n",
    "\n",
    "There are many (_dozens of_) predefined continuous RV distribuitions in ``scipy.stats``. \n",
    "For instance, the following are the most useful in our context:\n",
    "\n",
    "1. ``ss.uniform(a, b)``: uniform distribuition between $a$ and $b$ limits.\n",
    "2. ``ss.norm(μ, σ)``: normal (Gaussian) distribution with mean $\\mu$ and standard \n",
    "deviation $\\sigma$.\n",
    "3. ``ss.weibull_min(β, L, S)``:  Weibull assimptotic distribution of minima with \n",
    "shape $\\beta$, location parameter $L$ and scale parameter $S$.\n",
    "\n",
    "Below is an example how to define RV's with these distributions and plot the\n",
    "respective probability densities:"
   ]
  },
  {
   "cell_type": "code",
   "execution_count": null,
   "metadata": {},
   "outputs": [],
   "source": [
    "X  = np.linspace(0,15,100)\n",
    "\n",
    "U  = ss.uniform(2,8)           # define uniform between 5 and 10\n",
    "f1 = plt.plot(X, U.pdf(X))\n",
    "\n",
    "Z  = ss.norm(5,2)              # define Gaussian with mean 5 and deviation 2\n",
    "f2 = plt.plot(X, Z.pdf(X))\n",
    "\n",
    "W  = ss.weibull_min(2,1,3)     # define Weibull with shape 2, loc 1 and scale 3\n",
    "f3 = plt.plot(X, W.pdf(X))\n",
    "\n",
    "plt.legend(('Uniform','Gaussian','Weibull'))\n",
    "plt.grid(True)\n"
   ]
  },
  {
   "cell_type": "markdown",
   "metadata": {},
   "source": [
    "### 2. Calculation of statistical properties\n",
    "\n",
    "The estimation of statistical moments are straightforward and can be calculated\n",
    "in some alternative ways. Below is a method for calculating the most basic properties:"
   ]
  },
  {
   "cell_type": "code",
   "execution_count": 28,
   "metadata": {},
   "outputs": [
    {
     "name": "stdout",
     "output_type": "stream",
     "text": [
      "Statistics for defined uniform RV\n",
      "---------------------------------\n",
      "Mean value is:              6.000\n",
      "Standard deviation is:      5.333\n",
      "Kurtosis coefficient is:    0.000\n",
      "Skewness coefficient is:   -1.200 \n",
      "\n",
      "Statistics for defined normal  RV\n",
      "---------------------------------\n",
      "Mean value is:              5.000\n",
      "Standard deviation is:      4.000\n",
      "Kurtosis coefficient is:    0.000\n",
      "Skewness coefficient is:    0.000 \n",
      "\n",
      "Statistics for defined Weibull RV\n",
      "---------------------------------\n",
      "Mean value is:              3.659\n",
      "Standard deviation is:      1.931\n",
      "Kurtosis coefficient is:    0.631\n",
      "Skewness coefficient is:    0.245\n"
     ]
    }
   ],
   "source": [
    "momU = U.stats(moments='mvks')\n",
    "print('Statistics for defined uniform RV')\n",
    "print('---------------------------------')\n",
    "print('Mean value is:             {0:6.3f}'.format(momU[0]))\n",
    "print('Standard deviation is:     {0:6.3f}'.format(momU[1]))\n",
    "print('Kurtosis coefficient is:   {0:6.3f}'.format(momU[2]))\n",
    "print('Skewness coefficient is:   {0:6.3f}'.format(momU[3]),'\\n')\n",
    "\n",
    "momZ = Z.stats(moments='mvks')\n",
    "print('Statistics for defined normal  RV')\n",
    "print('---------------------------------')\n",
    "print('Mean value is:             {0:6.3f}'.format(momZ[0]))\n",
    "print('Standard deviation is:     {0:6.3f}'.format(momZ[1]))\n",
    "print('Kurtosis coefficient is:   {0:6.3f}'.format(momZ[2]))\n",
    "print('Skewness coefficient is:   {0:6.3f}'.format(momZ[3]),'\\n')\n",
    "\n",
    "momW = W.stats(moments='mvks')\n",
    "print('Statistics for defined Weibull RV')\n",
    "print('---------------------------------')\n",
    "print('Mean value is:             {0:6.3f}'.format(momW[0]))\n",
    "print('Standard deviation is:     {0:6.3f}'.format(momW[1]))\n",
    "print('Kurtosis coefficient is:   {0:6.3f}'.format(momW[2]))\n",
    "print('Skewness coefficient is:   {0:6.3f}'.format(momW[3]))"
   ]
  },
  {
   "cell_type": "markdown",
   "metadata": {},
   "source": [
    "### 3. Custom definition of random variables\n",
    "\n",
    "The module also allow us to define our own custom RV distributions, by inheriting \n",
    "from  class ``rv_continuous`` and programming either the probability density function \n",
    "(method ``_pdf(x)``) or the cumulative distribution function (method ``_cdf(x)``).\n",
    "It is important, however, that these functions are defined to be normalized (integral\n",
    "from _pdf_ must be one).\n",
    "\n",
    "Below is an example on how to implement this new distribution:"
   ]
  },
  {
   "cell_type": "code",
   "execution_count": 24,
   "metadata": {},
   "outputs": [],
   "source": [
    "class myRV(ss.rv_continuous):\n",
    "\n",
    "    def __init__(self, LB, UB):\n",
    "\n",
    "        self.LB = LB\n",
    "        self.UB = UB \n",
    "\n",
    "        ss.rv_continuous.__init__(self, a=LB, b=UB)\n",
    "\n",
    "    def _pdf(self, x):\n",
    "        return 2*(x - self.a)/(self.b - self.a)**2\n"
   ]
  },
  {
   "cell_type": "code",
   "execution_count": 25,
   "metadata": {},
   "outputs": [
    {
     "data": {
      "image/png": "[encoded data removed]",
      "text/plain": [
       "<Figure size 432x288 with 1 Axes>"
      ]
     },
     "metadata": {
      "needs_background": "light"
     },
     "output_type": "display_data"
    }
   ],
   "source": [
    "RV  =  myRV(3, 8)\n",
    "f4  =  plt.plot(X, RV.pdf(X))\n",
    "\n",
    "plt.grid(True)"
   ]
  },
  {
   "cell_type": "code",
   "execution_count": 26,
   "metadata": {},
   "outputs": [
    {
     "name": "stdout",
     "output_type": "stream",
     "text": [
      "Statistics for custom defined  RV\n",
      "---------------------------------\n",
      "Mean value is:              6.333\n",
      "Standard deviation is:      1.389\n",
      "Kurtosis coefficient is:   -0.566\n",
      "Skewness coefficient is:   -0.600 \n",
      "\n"
     ]
    }
   ],
   "source": [
    "momRV = RV.stats(moments='mvks')\n",
    "print('Statistics for custom defined  RV')\n",
    "print('---------------------------------')\n",
    "print('Mean value is:             {0:6.3f}'.format(momRV[0]))\n",
    "print('Standard deviation is:     {0:6.3f}'.format(momRV[1]))\n",
    "print('Kurtosis coefficient is:   {0:6.3f}'.format(momRV[2]))\n",
    "print('Skewness coefficient is:   {0:6.3f}'.format(momRV[3]))\n"
   ]
  },
  {
   "cell_type": "markdown",
   "metadata": {},
   "source": [
    "### 4. Simulation of random variables\n",
    "\n",
    "The following method can be applied equally to predefined RV distributions as to our \n",
    "custom distributions.\n"
   ]
  },
  {
   "cell_type": "code",
   "execution_count": 41,
   "metadata": {},
   "outputs": [
    {
     "data": {
      "image/png": "[encoded data removed]",
      "text/plain": [
       "<Figure size 864x216 with 3 Axes>"
      ]
     },
     "metadata": {
      "needs_background": "light"
     },
     "output_type": "display_data"
    }
   ],
   "source": [
    "plt.figure(5, figsize=(12,3))\n",
    "\n",
    "Ui = U.rvs(5000)\n",
    "\n",
    "plt.subplot(1,3,1)\n",
    "f5a = plt.hist(Ui, bins=30, range=(0,15), density=True)\n",
    "f5b = plt.plot(X, U.pdf(X), 'r:')\n",
    "plt.grid(True)\n",
    "\n",
    "Zi = Z.rvs(5000)\n",
    "\n",
    "plt.subplot(1,3,2)\n",
    "f6a = plt.hist(Zi, bins=30, range=(0,15), density=True)\n",
    "f6b = plt.plot(X, Z.pdf(X), 'r:')\n",
    "plt.grid(True)\n",
    "\n",
    "Wi = W.rvs(5000)\n",
    "\n",
    "plt.subplot(1,3,3)\n",
    "f7a = plt.hist(Wi, bins=30, range=(0,15), density=True)\n",
    "f7b = plt.plot(X, W.pdf(X), 'r:')\n",
    "plt.grid(True)"
   ]
  },
  {
   "cell_type": "markdown",
   "metadata": {},
   "source": [
    "### 5. Fitting probability distributions to data"
   ]
  },
  {
   "cell_type": "code",
   "execution_count": null,
   "metadata": {},
   "outputs": [],
   "source": []
  }
 ],
 "metadata": {
  "kernelspec": {
   "display_name": "Python 3",
   "language": "python",
   "name": "python3"
  },
  "language_info": {
   "codemirror_mode": {
    "name": "ipython",
    "version": 3
   },
   "file_extension": ".py",
   "mimetype": "text/x-python",
   "name": "python",
   "nbconvert_exporter": "python",
   "pygments_lexer": "ipython3",
   "version": "3.7.1"
  }
 },
 "nbformat": 4,
 "nbformat_minor": 2
}
