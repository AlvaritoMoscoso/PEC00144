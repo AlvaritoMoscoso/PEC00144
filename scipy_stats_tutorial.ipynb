{
 "cells": [
  {
   "cell_type": "markdown",
   "metadata": {},
   "source": [
    "Universidade Federal do Rio Grande do Sul (UFRGS)   \n",
    "Programa de Pós-Graduação em Engenharia Civil (PPGEC)   \n",
    "\n",
    "# PEC00144: Experimental Methods in Civil Engineering\n",
    "\n",
    "### Using ``scipy.stats.rv_continuous()`` to analize or simulate RV samples   \n",
    "\n",
    "---\n",
    "_Prof. Marcelo M. Rocha, Dr.techn._ [(ORCID)](https://orcid.org/0000-0001-5640-1020)  \n",
    "_Porto Alegre, RS, Brazil_ \n"
   ]
  },
  {
   "cell_type": "code",
   "execution_count": 7,
   "metadata": {},
   "outputs": [],
   "source": [
    "# Importing Python modules required for this notebook\n",
    "# (this cell must be executed with \"shift+enter\" before any other Python cell)\n",
    "\n",
    "import numpy as np\n",
    "import pandas as pd\n",
    "import scipy.stats as st\n",
    "import matplotlib.pyplot as plt\n"
   ]
  },
  {
   "cell_type": "markdown",
   "metadata": {},
   "source": [
    "### 1. Predefined random variables\n",
    "\n",
    "There are many (_dozens of_) predefined continuous RV distribuitions in ``scipy.stats``. \n",
    "For instance, the following are the most useful in our context:\n",
    "\n",
    "1. ``st.uniform(a, b)``: uniform distribuition between $a$ and $b$ limits.\n",
    "2. ``st.norm(μ, σ)``: normal (Gaussian) distribution with mean $\\mu$ and standard \n",
    "deviation $\\sigma$.\n",
    "3. ``st.weibull_min(β, L, S)``:  Weibull assimptotic distribution of minima with \n",
    "shape $\\beta$, location parameter $L$ and scale parameter $S$.\n",
    "\n",
    "Below is an example how to define RV's with these distributions and plot the\n",
    "respective probability densities:"
   ]
  },
  {
   "cell_type": "code",
   "execution_count": 8,
   "metadata": {},
   "outputs": [
    {
     "data": {
      "image/png": "[encoded data removed]",
      "text/plain": [
       "<Figure size 432x288 with 1 Axes>"
      ]
     },
     "metadata": {
      "needs_background": "light"
     },
     "output_type": "display_data"
    }
   ],
   "source": [
    "X  = np.linspace(0,15,100)\n",
    "\n",
    "f1  = plt.figure(1, figsize=(6,4))\n",
    "\n",
    "U   = st.uniform(2,8)           # define uniform between 2 and 8\n",
    "f1a = plt.plot(X, U.pdf(X),'b')\n",
    "\n",
    "Z   = st.norm(5,2)              # define Gaussian with mean 5 and deviation 2\n",
    "f1b = plt.plot(X, Z.pdf(X),'r')\n",
    "\n",
    "W   = st.weibull_min(2,0,3)     # define Weibull with shape 2, loc 0 and scale 3\n",
    "f1c = plt.plot(X, W.pdf(X),'g')\n",
    "\n",
    "plt.legend(('Uniform','Gaussian','Weibull'))\n",
    "plt.axis([0, 15, 0, 0.4])\n",
    "plt.grid(True)\n"
   ]
  },
  {
   "cell_type": "markdown",
   "metadata": {},
   "source": [
    "### 2. Calculation of statistical properties\n",
    "\n",
    "The estimation of statistical moments are straightforward and can be calculated\n",
    "in some alternative ways. Below is a method for calculating the most basic properties:"
   ]
  },
  {
   "cell_type": "code",
   "execution_count": 9,
   "metadata": {},
   "outputs": [
    {
     "name": "stdout",
     "output_type": "stream",
     "text": [
      "Statistics for defined uniform RV\n",
      "---------------------------------\n",
      "Mean value is:              6.000\n",
      "Standard deviation is:      5.333\n",
      "Kurtosis coefficient is:    0.000\n",
      "Skewness coefficient is:   -1.200 \n",
      "\n",
      "Statistics for defined normal  RV\n",
      "---------------------------------\n",
      "Mean value is:              5.000\n",
      "Standard deviation is:      4.000\n",
      "Kurtosis coefficient is:    0.000\n",
      "Skewness coefficient is:    0.000 \n",
      "\n",
      "Statistics for defined Weibull RV\n",
      "---------------------------------\n",
      "Mean value is:              2.659\n",
      "Standard deviation is:      1.931\n",
      "Kurtosis coefficient is:    0.631\n",
      "Skewness coefficient is:    0.245\n"
     ]
    }
   ],
   "source": [
    "momU = U.stats(moments='mvks')\n",
    "print('Statistics for defined uniform RV')\n",
    "print('---------------------------------')\n",
    "print('Mean value is:             {0:6.3f}'.format(momU[0]))\n",
    "print('Standard deviation is:     {0:6.3f}'.format(momU[1]))\n",
    "print('Kurtosis coefficient is:   {0:6.3f}'.format(momU[2]))\n",
    "print('Skewness coefficient is:   {0:6.3f}'.format(momU[3]),'\\n')\n",
    "\n",
    "momZ = Z.stats(moments='mvks')\n",
    "print('Statistics for defined normal  RV')\n",
    "print('---------------------------------')\n",
    "print('Mean value is:             {0:6.3f}'.format(momZ[0]))\n",
    "print('Standard deviation is:     {0:6.3f}'.format(momZ[1]))\n",
    "print('Kurtosis coefficient is:   {0:6.3f}'.format(momZ[2]))\n",
    "print('Skewness coefficient is:   {0:6.3f}'.format(momZ[3]),'\\n')\n",
    "\n",
    "momW = W.stats(moments='mvks')\n",
    "print('Statistics for defined Weibull RV')\n",
    "print('---------------------------------')\n",
    "print('Mean value is:             {0:6.3f}'.format(momW[0]))\n",
    "print('Standard deviation is:     {0:6.3f}'.format(momW[1]))\n",
    "print('Kurtosis coefficient is:   {0:6.3f}'.format(momW[2]))\n",
    "print('Skewness coefficient is:   {0:6.3f}'.format(momW[3]))"
   ]
  },
  {
   "cell_type": "markdown",
   "metadata": {},
   "source": [
    "### 3. Custom definition of random variables\n",
    "\n",
    "The module also allow us to define our own custom RV distributions, by inheriting \n",
    "from  class ``rv_continuous`` and programming either the probability density function \n",
    "(method ``_pdf(x)``) or the cumulative distribution function (method ``_cdf(x)``).\n",
    "It is important, however, that these functions are defined to be normalized (integral\n",
    "from _pdf_ must be one).\n",
    "\n",
    "Below is an example on how to implement this new distribution:"
   ]
  },
  {
   "cell_type": "code",
   "execution_count": 17,
   "metadata": {},
   "outputs": [],
   "source": [
    "class myRV(st.rv_continuous):\n",
    "\n",
    "    def __init__(self, lb, ub):\n",
    "        self.lb = lb\n",
    "        self.ub = ub\n",
    "        st.rv_continuous.__init__(self, a=lb, b=ub)\n",
    "    \n",
    "    def _pdf(self, x):\n",
    "        return 2*(x - self.lb)/(self.ub - self.lb)**2\n",
    "        \n",
    "    def _fitstart(self, data):\n",
    "        return data.min(), data.max()\n"
   ]
  },
  {
   "cell_type": "markdown",
   "metadata": {},
   "source": [
    "Once the custom distribution is defined, we may instantiate a RV from it. Further methods\n",
    "available for predefined distributions will automatically apply:"
   ]
  },
  {
   "cell_type": "code",
   "execution_count": 18,
   "metadata": {},
   "outputs": [
    {
     "data": {
      "image/png": "[encoded data removed]",
      "text/plain": [
       "<Figure size 864x216 with 3 Axes>"
      ]
     },
     "metadata": {
      "needs_background": "light"
     },
     "output_type": "display_data"
    }
   ],
   "source": [
    "RV  =  myRV(2, 8)\n",
    "f4  =  plt.figure(4, figsize=(12,3))\n",
    "\n",
    "plt.subplot(1,3,1)\n",
    "f4a =  plt.plot(X, RV.pdf(X))   # probability density\n",
    "plt.axis([0, 15, 0, 0.4])\n",
    "plt.grid(True)\n",
    "\n",
    "plt.subplot(1,3,2)\n",
    "f4b =  plt.plot(X, RV.cdf(X))   # cumulative distribution\n",
    "plt.axis([0, 15, 0, 1.4])\n",
    "plt.grid(True)\n",
    "\n",
    "plt.subplot(1,3,3)\n",
    "f4b =  plt.plot(X, RV.sf(X))    # survival\n",
    "plt.axis([0, 15, 0, 1.4])\n",
    "plt.grid(True)"
   ]
  },
  {
   "cell_type": "code",
   "execution_count": 12,
   "metadata": {},
   "outputs": [
    {
     "name": "stdout",
     "output_type": "stream",
     "text": [
      "Statistics for custom defined  RV\n",
      "---------------------------------\n",
      "Mean value is:              6.000\n",
      "Standard deviation is:      2.000\n",
      "Kurtosis coefficient is:   -0.566\n",
      "Skewness coefficient is:   -0.600\n"
     ]
    }
   ],
   "source": [
    "momRV = RV.stats(moments='mvks')\n",
    "print('Statistics for custom defined  RV')\n",
    "print('---------------------------------')\n",
    "print('Mean value is:             {0:6.3f}'.format(momRV[0]))\n",
    "print('Standard deviation is:     {0:6.3f}'.format(momRV[1]))\n",
    "print('Kurtosis coefficient is:   {0:6.3f}'.format(momRV[2]))\n",
    "print('Skewness coefficient is:   {0:6.3f}'.format(momRV[3]))\n"
   ]
  },
  {
   "cell_type": "markdown",
   "metadata": {},
   "source": [
    "### 4. Simulation of random variables\n",
    "\n",
    "To simulate an array with dimensions ``shape`` of samples from a given distribution, \n",
    "the method ``rv_continuous.rvs(shape)`` can be used, as shown below. "
   ]
  },
  {
   "cell_type": "code",
   "execution_count": 13,
   "metadata": {},
   "outputs": [
    {
     "data": {
      "image/png": "[encoded data removed]",
      "text/plain": [
       "<Figure size 864x216 with 3 Axes>"
      ]
     },
     "metadata": {
      "needs_background": "light"
     },
     "output_type": "display_data"
    }
   ],
   "source": [
    "Ui = U.rvs(5000)\n",
    "Zi = Z.rvs(5000)\n",
    "Wi = W.rvs(5000)\n",
    "\n",
    "plt.figure(5, figsize=(12,3))\n",
    "\n",
    "plt.subplot(1,3,1)\n",
    "f5a = plt.hist(Ui, bins=30, range=(0,15), density=True)\n",
    "f5b = plt.plot(X, U.pdf(X), 'r')\n",
    "plt.axis([0, 15, 0, 0.4])\n",
    "plt.grid(True)\n",
    "\n",
    "plt.subplot(1,3,2)\n",
    "f6a = plt.hist(Zi, bins=30, range=(0,15), density=True)\n",
    "f6b = plt.plot(X, Z.pdf(X), 'r')\n",
    "plt.axis([0, 15, 0, 0.4])\n",
    "plt.grid(True)\n",
    "\n",
    "plt.subplot(1,3,3)\n",
    "f7a = plt.hist(Wi, bins=30, range=(0,15), density=True)\n",
    "f7b = plt.plot(X, W.pdf(X), 'r')\n",
    "plt.axis([0, 15, 0, 0.4])\n",
    "plt.grid(True)"
   ]
  },
  {
   "cell_type": "markdown",
   "metadata": {},
   "source": [
    "The same can be accomplished also for custom distributions:"
   ]
  },
  {
   "cell_type": "code",
   "execution_count": 14,
   "metadata": {},
   "outputs": [
    {
     "data": {
      "image/png": "[encoded data removed]",
      "text/plain": [
       "<Figure size 432x288 with 1 Axes>"
      ]
     },
     "metadata": {
      "needs_background": "light"
     },
     "output_type": "display_data"
    }
   ],
   "source": [
    "RVi = RV.rvs(size=5000)  # size is explicit to avoid ambiguity\n",
    "\n",
    "plt.figure(6, figsize=(6,4))\n",
    "\n",
    "f6a = plt.hist(RVi, bins=30, range=(0,15), density=True)\n",
    "f6b = plt.plot(X, RV.pdf(X), 'r')\n",
    "plt.axis([0, 15, 0, 0.4])\n",
    "plt.grid(True)"
   ]
  },
  {
   "cell_type": "markdown",
   "metadata": {},
   "source": [
    "### 5. Fitting probability distributions to data\n",
    "\n",
    "From a given array of samples, ``data``, from a given distribution, the method \n",
    "``rv_continuous.fit(data)`` provides the estimation of parameters that \n",
    "should be used along with the constructor method.\n",
    "\n",
    "For the three distributions of previous examples:"
   ]
  },
  {
   "cell_type": "code",
   "execution_count": 32,
   "metadata": {},
   "outputs": [
    {
     "name": "stdout",
     "output_type": "stream",
     "text": [
      "Uniform distribution\n",
      "--------------------\n",
      "Lower bound:         2.000\n",
      "Upper bound:         7.999 \n",
      "\n",
      "Normal  distribution\n",
      "--------------------\n",
      "Mean value:          4.931\n",
      "Standard deviation:  2.009 \n",
      "\n",
      "Weibull distribution\n",
      "--------------------\n",
      "Shape parameter:     2.038\n",
      "Location parameter: -0.028\n",
      "Scale parameter:     3.010\n"
     ]
    }
   ],
   "source": [
    "parU = st.uniform.fit(Ui)\n",
    "print('Uniform distribution')\n",
    "print('--------------------')\n",
    "print('Lower bound:        {0:6.3f}'.format(parU[0]))\n",
    "print('Upper bound:        {0:6.3f}'.format(parU[1]),'\\n')\n",
    "\n",
    "parZ = st.norm.fit(Zi)\n",
    "print('Normal  distribution')\n",
    "print('--------------------')\n",
    "print('Mean value:         {0:6.3f}'.format(parZ[0]))\n",
    "print('Standard deviation: {0:6.3f}'.format(parZ[1]),'\\n')\n",
    "\n",
    "parW = st.weibull_min.fit(Wi)\n",
    "print('Weibull distribution')\n",
    "print('--------------------')\n",
    "print('Shape parameter:    {0:6.3f}'.format(parW[0]))\n",
    "print('Location parameter: {0:6.3f}'.format(parW[1]))\n",
    "print('Scale parameter:    {0:6.3f}'.format(parW[2]))"
   ]
  },
  {
   "cell_type": "markdown",
   "metadata": {},
   "source": [
    "The observed differences from the initial definitions  are due to the \n",
    "inherent statistical errors in the parameters estimation.\n",
    "The fitting method is also available for our custom distribution:"
   ]
  },
  {
   "cell_type": "code",
   "execution_count": 29,
   "metadata": {},
   "outputs": [
    {
     "name": "stdout",
     "output_type": "stream",
     "text": [
      "Custom distribution\n",
      "-------------------\n",
      "Lower bound: -0.029\n",
      "Upper bound:  1.004\n"
     ]
    }
   ],
   "source": [
    "parRV = RV.fit(RVi)\n",
    "print('Custom distribution')\n",
    "print('-------------------')\n",
    "print('Lower bound: {0:6.3f}'.format(parRV[0]))\n",
    "print('Upper bound: {0:6.3f}'.format(parRV[1]))\n"
   ]
  },
  {
   "cell_type": "markdown",
   "metadata": {},
   "source": [
    "### 6. Evaluating functions of a single random variable\n",
    "\n"
   ]
  },
  {
   "cell_type": "code",
   "execution_count": null,
   "metadata": {},
   "outputs": [],
   "source": []
  },
  {
   "cell_type": "code",
   "execution_count": null,
   "metadata": {},
   "outputs": [],
   "source": []
  },
  {
   "cell_type": "code",
   "execution_count": null,
   "metadata": {},
   "outputs": [],
   "source": []
  }
 ],
 "metadata": {
  "kernelspec": {
   "display_name": "Python 3",
   "language": "python",
   "name": "python3"
  },
  "language_info": {
   "codemirror_mode": {
    "name": "ipython",
    "version": 3
   },
   "file_extension": ".py",
   "mimetype": "text/x-python",
   "name": "python",
   "nbconvert_exporter": "python",
   "pygments_lexer": "ipython3",
   "version": "3.7.1"
  }
 },
 "nbformat": 4,
 "nbformat_minor": 2
}
