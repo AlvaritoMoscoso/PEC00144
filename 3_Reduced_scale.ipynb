{
 "cells": [
  {
   "cell_type": "markdown",
   "metadata": {},
   "source": [
    "Universidade Federal do Rio Grande do Sul (UFRGS)   \n",
    "Programa de Pós-Graduação em Engenharia Civil (PPGEC)   \n",
    "\n",
    "# PEC00144: Experimental Methods in Civil Engineering\n",
    "\n",
    "\n",
    "### Part I: Analysis\n",
    "[2.   Design of reduced scale models](#section_2)   \n",
    "[2.1. Controlled and derived scales](#section_21)   \n",
    "[2.2. Example: elastic beam under self weight](#section_22)   \n",
    "[2.3. Example: aeroelastic model of a slender tower](#section_23)   \n",
    "[2.4. Example: cable catenary](#section_24)   \n",
    "\n",
    "---\n",
    "_Prof. Marcelo M. Rocha, Dr.techn._ [(ORCID)](https://orcid.org/0000-0001-5640-1020)  \n",
    "_Porto Alegre, RS, Brazil_ \n"
   ]
  },
  {
   "cell_type": "code",
   "execution_count": 105,
   "metadata": {},
   "outputs": [],
   "source": [
    "# Importing Python modules required for this notebook\n",
    "# (this cell must be executed with \"shift+enter\" before any other Python cell)\n",
    "\n",
    "import numpy as np\n",
    "import pandas as pd\n",
    "import matplotlib.pyplot as plt\n",
    "\n",
    "# Importing pandas dataframe with dimension exponents for relevant quantities\n",
    "DimData = pd.read_excel('resources/DimData.xlsx')\n",
    "#print(DimData)"
   ]
  },
  {
   "cell_type": "markdown",
   "metadata": {},
   "source": [
    "## 2. Design of reduced scale models <a name=\"section_2\"></a> \n",
    "\n",
    "### 2.1. Controlled and uncontrolled quantities  <a name=\"section_21\"></a> \n",
    "\n"
   ]
  },
  {
   "cell_type": "markdown",
   "metadata": {},
   "source": [
    "### 2.2. Example: elastic beam under self-weight  <a name=\"section_22\"></a> \n",
    "\n",
    "Let us design a reduced model for a reinforced concrete simply supported beam, as depicted below. \n",
    "The total span is $L = 10$m and other relevant quantities are:\n",
    "\n",
    "* Rectangular cross section:    \n",
    "  $B\\times H = 0.2 \\times 0.5{\\rm m}$    \n",
    "  Hence the section properties are:    \n",
    "  $A = 0.1{\\rm m}^2$ e $I = 0.002083 {\\rm m}^4$ <br>\n",
    "* Density of reinforced concrete:    \n",
    "  $\\rho = 2500 {\\rm kg/m}^3$    \n",
    "  Hence the mass per unit length is:    \n",
    "  $\\mu_L = \\rho A = 2500 \\times 0.1 = 250{\\rm kg/m}$ <br>\n",
    "* Young's modulus for concrete:    \n",
    "  $E_{\\rm c} = 30 \\times 10^{9} {\\rm N/m}^2$   \n",
    "  Hence the flexural stiffness is:    \n",
    "  $E_{\\rm c}I = 62.5\\times 10^6 {\\rm Nm}^2$\n",
    "\n",
    "<img src=\"resources/SimpleBeam.png\" alt=\"SimpleBeam\" width=\"480px\"/>\n",
    "\n",
    "We wish to measure the maximum displacement at beam center, $w_{\\rm max}$ caused by\n",
    "self weight. The theoretical formula for this displacement is:\n",
    "\n",
    "$$ w_{\\rm max} = \\frac{5}{384} \\frac{q L^4}{EI} $$\n",
    "\n",
    "wherer $q = \\mu_L G$, with $G \\approx 9.81{m/s^2}$.\n",
    "Replacing values gives:"
   ]
  },
  {
   "cell_type": "code",
   "execution_count": 106,
   "metadata": {},
   "outputs": [
    {
     "name": "stdout",
     "output_type": "stream",
     "text": [
      "Theoretical displacement at beam center is  5.11mm\n"
     ]
    }
   ],
   "source": [
    "w_max = (5/384)*250*9.81*(10**4)/62.5e6;    \n",
    "\n",
    "print('Theoretical displacement at beam center is {0:5.2f}mm'.format(1000*w_max))"
   ]
  },
  {
   "cell_type": "markdown",
   "metadata": {},
   "source": [
    "The theoretical formula indicates that the governing quantities are the mass per unit length\n",
    "(or the distributed load) and the flexural stiffness.\n",
    "\n",
    "Let us now design a reduced scale model. The length scale is chosen as 1m:10m, \n",
    "while the acceleration scale must be assumed to be 1G:1G, for the model will be \n",
    "tested under the same gravity. \n",
    "Let us further assume that our model will be built with aluminum, what implies that\n",
    "the Young's modulus has as a 71GPa:30GPa scale, which is the same as the stress scale.\n",
    "\n",
    "The resulting new base is then:"
   ]
  },
  {
   "cell_type": "code",
   "execution_count": 107,
   "metadata": {},
   "outputs": [
    {
     "name": "stdout",
     "output_type": "stream",
     "text": [
      "   L  M  T\n",
      "L  1  0  0\n",
      "a  1  0 -2\n",
      "σ -1  1 -2\n"
     ]
    }
   ],
   "source": [
    "ABC    = ['L', 'a', 'σ']           # selected quantities for the new base\n",
    "LMT    = ['L', 'M', 'T']           # dimensions are the last 3 columns of DimData\n",
    "base   =  DimData.loc[ABC, LMT]    # the dimensional matrix\n",
    "i_base =  np.linalg.inv(base)      # base inversion \n",
    "\n",
    "print(base)"
   ]
  },
  {
   "cell_type": "markdown",
   "metadata": {},
   "source": [
    "The scales for the quantities adopted for the new base are:"
   ]
  },
  {
   "cell_type": "code",
   "execution_count": 108,
   "metadata": {},
   "outputs": [],
   "source": [
    "λ_L    =  1/10         # length scale for the reduced model\n",
    "λ_a    =  1/1          # acceleration remains unchanged (same gravity)\n",
    "λ_σ    = 71/30         # model built with aluminum instead of concrete"
   ]
  },
  {
   "cell_type": "markdown",
   "metadata": {},
   "source": [
    "Now we calculate the scales for further quantities that are relevant to build \n",
    "the reduced model and interpreting results.\n",
    "They could be force, $F$, distributed load, $q$, the beam cross section flexural stiffness, \n",
    "$EI$, and the mass per unit length, $\\mu_L$.\n",
    "The calculations are carried out as explained in [Class 2](https://nbviewer.jupyter.org/github/mmaiarocha/PEC00144/blob/master/2_Dimensional_analysis.ipynb). Firstly we prepare\n",
    "the dimensional matrix for the selected quantities:"
   ]
  },
  {
   "cell_type": "code",
   "execution_count": 109,
   "metadata": {},
   "outputs": [
    {
     "name": "stdout",
     "output_type": "stream",
     "text": [
      "    L  M  T\n",
      "F   1  1 -2\n",
      "q   0  1 -2\n",
      "EI  3  1 -2\n",
      "μL -1  1  0\n"
     ]
    }
   ],
   "source": [
    "par    = ['F', 'q', 'EI', 'μL']              # selected scales to be calculated\n",
    "npar   =  len(par)                           # number of quantities\n",
    "DimMat =  DimData.loc[par, LMT]              # the dimensional matrix\n",
    "\n",
    "print(DimMat)"
   ]
  },
  {
   "cell_type": "markdown",
   "metadata": {},
   "source": [
    "Then we change the base for the dimensional matrix:"
   ]
  },
  {
   "cell_type": "code",
   "execution_count": 110,
   "metadata": {},
   "outputs": [
    {
     "name": "stdout",
     "output_type": "stream",
     "text": [
      "      L    a    σ\n",
      "F   2.0  0.0  1.0\n",
      "q   1.0  0.0  1.0\n",
      "EI  4.0  0.0  1.0\n",
      "μL  1.0 -1.0  1.0\n"
     ]
    }
   ],
   "source": [
    "scales =  np.tile([λ_L, λ_a, λ_σ],(npar,1))  # prepare for calculations\n",
    "\n",
    "NewMat = pd.DataFrame(data    = np.matmul(DimMat, i_base),\n",
    "                      index   = DimMat.index,\n",
    "                      columns = ABC)\n",
    "print(NewMat)"
   ]
  },
  {
   "cell_type": "markdown",
   "metadata": {},
   "source": [
    "And finally we calculate the corresponding scales:"
   ]
  },
  {
   "cell_type": "code",
   "execution_count": 111,
   "metadata": {},
   "outputs": [
    {
     "name": "stdout",
     "output_type": "stream",
     "text": [
      "Force:                 λ_F  = 1:42.3 \n",
      "Distributed load:      λ_q  = 1:4.23 \n",
      "Flexural stiffness:    λ_EI = 1:4225 \n",
      "Mass per unit length:  λ_μL = 1:4.23\n"
     ]
    }
   ],
   "source": [
    "[λ_F, λ_q, λ_EI, λ_μL]  = np.prod(scales**NewMat, axis=1);\n",
    "\n",
    "print('Force:                 λ_F  = 1:{0:4.1f}'.format(1/λ_F),  '\\n'\n",
    "      'Distributed load:      λ_q  = 1:{0:4.2f}'.format(1/λ_q),  '\\n'\n",
    "      'Flexural stiffness:    λ_EI = 1:{0:4.0f}'.format(1/λ_EI), '\\n' \n",
    "      'Mass per unit length:  λ_μL = 1:{0:4.2f}'.format(1/λ_μL))"
   ]
  },
  {
   "cell_type": "markdown",
   "metadata": {},
   "source": [
    "Now we must calculate the dimensions of the aluminum beam that will give the required\n",
    "flexural stiffness:\n",
    "\n",
    "$$ EI = λ_{EI} \\cdot E_{\\rm c}I $$\n",
    "\n",
    "If we chose a rectangular section with dimensions $b\\times h$:\n",
    "\n",
    "\\begin{align*}\n",
    " EI &= E \\; \\frac{b h^3}{12} \\\\\n",
    " b  &= \\frac{12 EI}{E h^3}\n",
    "\\end{align*}\n",
    "\n",
    "The suitable section could be an aluminum bar with height $H = 5$cm (one tenth of\n",
    "the concrete beam height). \n",
    "Recalling that aluminum Young's modulus is 71GPa and aluminum density is 2700kg/m³\n",
    "results in:"
   ]
  },
  {
   "cell_type": "code",
   "execution_count": 112,
   "metadata": {},
   "outputs": [
    {
     "name": "stdout",
     "output_type": "stream",
     "text": [
      "Model required flexural stiffness:    14792Nm^2 \n",
      "Width of aluminum bar:                20.0mm \n",
      "Self weight of chosen aluminum strip: 2.70kg/m\n"
     ]
    }
   ],
   "source": [
    "EI = λ_EI*62.5e6\n",
    "b  = 12*EI/(71e9*0.05**3)\n",
    "μL = 2700*0.05*b\n",
    "\n",
    "print('Model required flexural stiffness:    {0:4.0f}Nm^2'.format(EI),   '\\n'\n",
    "      'Width of aluminum bar:                {0:4.1f}mm'.format(1000*b), '\\n'\n",
    "      'Self weight of chosen aluminum strip: {0:4.2f}kg/m'.format(μL))"
   ]
  },
  {
   "cell_type": "markdown",
   "metadata": {},
   "source": [
    "The calculated width shows that the correct section respects the length scale. \n",
    "However, taking a look at the model self weight as required from the derived scale gives:"
   ]
  },
  {
   "cell_type": "code",
   "execution_count": 113,
   "metadata": {},
   "outputs": [
    {
     "name": "stdout",
     "output_type": "stream",
     "text": [
      "Required model self weight is 59.17kg/m\n"
     ]
    }
   ],
   "source": [
    "μLM = λ_μL * 250\n",
    "\n",
    "print('Required model self weight is {0:4.2f}kg/m'.format(μLM))"
   ]
  },
  {
   "cell_type": "markdown",
   "metadata": {},
   "source": [
    "One can see that the correct aluminum bar self weight is far from being reached. \n",
    "An aditional distributed mass of 56.5kg must be attached to the model, otherwise the central displacement will not respect the length scale.\n",
    "This is not an easy practical task, for the attached mass _must not change the flexural \n",
    "stiffness_!\n",
    "\n",
    "If the additional mass can be included, the model central displacement results:"
   ]
  },
  {
   "cell_type": "code",
   "execution_count": 114,
   "metadata": {},
   "outputs": [
    {
     "name": "stdout",
     "output_type": "stream",
     "text": [
      "Expected model displacement at beam center is 0.511mm\n"
     ]
    }
   ],
   "source": [
    "w_max = (5/384)*μLM*9.81*(1**4)/EI;    \n",
    "\n",
    "print('Expected model displacement at beam center is {0:5.3f}mm'.format(1000*w_max))"
   ]
  },
  {
   "cell_type": "markdown",
   "metadata": {},
   "source": [
    "So the displacement respects the 1:10 length scale, as expected. \n",
    "\n",
    "The above example illustrates how difficult it is to design structural models that accounts \n",
    "for gravity in a 1:1 scale. These models usually turn out to be very heavy.\n",
    "\n",
    "Another possible strategy is to chose a more flexible model. Let us, for instance,\n",
    "use an aluminum strip with section $20 \\times 11$mm. The flexural stiffness is:\n",
    "\n",
    "$$ EI = 71\\times 10^9 \\cdot \\frac{0.020 \\cdot 0.012^3}{12} = 204.5{\\rm Nm^2}$$\n",
    "\n",
    "The scale for flexural stiffness now is: \n",
    "\n",
    "$$ λ_{EI} = \\frac{204.5}{62.5 \\times 10^6} \\approx 1:305650 $$\n",
    "\n",
    "Now we set the new base:"
   ]
  },
  {
   "cell_type": "code",
   "execution_count": 115,
   "metadata": {},
   "outputs": [
    {
     "name": "stdout",
     "output_type": "stream",
     "text": [
      "    L  M  T\n",
      "L   1  0  0\n",
      "a   1  0 -2\n",
      "EI  3  1 -2\n"
     ]
    }
   ],
   "source": [
    "ABC    = ['L', 'a', 'EI']          # selected quantities for the new base\n",
    "LMT    = ['L', 'M', 'T' ]          # dimensions are the last 3 columns of DimData\n",
    "base   =  DimData.loc[ABC, LMT]    # the dimensional matrix\n",
    "i_base =  np.linalg.inv(base)      # base inversion \n",
    "\n",
    "print(base)"
   ]
  },
  {
   "cell_type": "markdown",
   "metadata": {},
   "source": [
    "Repeating the whole calculation with the imposed scale for $EI$:"
   ]
  },
  {
   "cell_type": "code",
   "execution_count": 116,
   "metadata": {},
   "outputs": [
    {
     "name": "stdout",
     "output_type": "stream",
     "text": [
      "Force:                 λ_F  = 1:  3057 \n",
      "Distributed load:      λ_q  = 1:  306 \n",
      "Flexural stiffness:    λ_EI = 1:  305650 \n",
      "Mass per unit length:  λ_μL = 1:  306\n"
     ]
    }
   ],
   "source": [
    "λ_L    =  1/10         # length scale for the reduced model\n",
    "λ_a    =  1/1          # acceleration remains unchanged (same gravity)\n",
    "λ_EI   =  1/305650    # imposed flexural stiffness scale\n",
    "\n",
    "scales =  np.tile([λ_L, λ_a, λ_EI],(npar,1))  # prepare for calculations\n",
    "\n",
    "NewMat = pd.DataFrame(data    = np.matmul(DimMat, i_base),\n",
    "                      index   = DimMat.index,\n",
    "                      columns = ABC)\n",
    "\n",
    "[λ_F, λ_q, λ_EI, λ_μL]  = np.prod(scales**NewMat, axis=1);\n",
    "\n",
    "print('Force:                 λ_F  = 1:{0:6.0f}'.format(1/λ_F),  '\\n'\n",
    "      'Distributed load:      λ_q  = 1:{0:5.0f}'.format(1/λ_q),  '\\n'\n",
    "      'Flexural stiffness:    λ_EI = 1:{0:8.0f}'.format(1/λ_EI), '\\n' \n",
    "      'Mass per unit length:  λ_μL = 1:{0:5.0f}'.format(1/λ_μL))"
   ]
  },
  {
   "cell_type": "markdown",
   "metadata": {},
   "source": [
    "Now we compare the self weights of (naked) aluminum bar with the model requirement:"
   ]
  },
  {
   "cell_type": "code",
   "execution_count": 117,
   "metadata": {},
   "outputs": [
    {
     "name": "stdout",
     "output_type": "stream",
     "text": [
      "Self weight of aluminum bar is 0.648kg/m\n",
      "Required model self weight is  0.818kg/m\n"
     ]
    }
   ],
   "source": [
    "μL  = 2700*0.020*0.012\n",
    "μLM = λ_μL * 250\n",
    "\n",
    "print('Self weight of aluminum bar is {0:5.3f}kg/m'.format(μL))\n",
    "print('Required model self weight is  {0:5.3f}kg/m'.format(μLM))"
   ]
  },
  {
   "cell_type": "markdown",
   "metadata": {},
   "source": [
    "This new modelling strategy leads to a model that needs quite a small amount of \n",
    "additional mass to be attached. Let us take a final look at the expected displacement:"
   ]
  },
  {
   "cell_type": "code",
   "execution_count": 118,
   "metadata": {},
   "outputs": [
    {
     "name": "stdout",
     "output_type": "stream",
     "text": [
      "Expected model displacement at beam center is 0.511mm\n"
     ]
    }
   ],
   "source": [
    "w_max = (5/384)*μLM*9.81*(1**4)/204.5;    \n",
    "\n",
    "print('Expected model displacement at beam center is {0:5.3f}mm'.format(1000*w_max))"
   ]
  },
  {
   "cell_type": "markdown",
   "metadata": {},
   "source": [
    "This is the expected result, but now with a much more economical model."
   ]
  },
  {
   "cell_type": "markdown",
   "metadata": {},
   "source": [
    "### 2.3. Example: aeroelastic model of a slender tower  <a name=\"section_23\"></a> \n",
    "\n"
   ]
  },
  {
   "cell_type": "code",
   "execution_count": null,
   "metadata": {},
   "outputs": [],
   "source": []
  },
  {
   "cell_type": "markdown",
   "metadata": {},
   "source": [
    "### 2.4. Example: cable catenary  <a name=\"section_24\"></a> \n",
    "\n",
    "\n",
    "\n",
    "\n",
    "<img src=\"resources/sag_tension.png\" alt=\"sag_tension\" width=\"480px\"/>\n"
   ]
  },
  {
   "cell_type": "code",
   "execution_count": null,
   "metadata": {},
   "outputs": [],
   "source": []
  }
 ],
 "metadata": {
  "kernelspec": {
   "display_name": "Python 3",
   "language": "python",
   "name": "python3"
  },
  "language_info": {
   "codemirror_mode": {
    "name": "ipython",
    "version": 3
   },
   "file_extension": ".py",
   "mimetype": "text/x-python",
   "name": "python",
   "nbconvert_exporter": "python",
   "pygments_lexer": "ipython3",
   "version": "3.7.1"
  }
 },
 "nbformat": 4,
 "nbformat_minor": 2
}
