{
 "cells": [
  {
   "cell_type": "markdown",
   "metadata": {},
   "source": [
    "Universidade Federal do Rio Grande do Sul (UFRGS)   \n",
    "Programa de Pós-Graduação em Engenharia Civil (PPGEC)   \n",
    "\n",
    "# PEC00144: Experimental Methods in Civil Engineering\n",
    "\n",
    "\n",
    "### Part I: Analysis\n",
    "[2.   Dimensional analysis and similarity](#section_2)   \n",
    "[2.1. Quantities, units, dimensions](#section_21)   \n",
    "[2.2. Dataframe for scales computation](#section_22)   \n",
    "[2.3. The Theorem of Pi's by Vaschy-Buckinghan](#section_23)   \n",
    "[2.4. Change of base units](#section_24)  \n",
    "[2.5. Change of units is like change of scale](#section_25)  \n",
    "[2.6. Famous Pi-Numbers](#section_26)  \n",
    "\n",
    "---\n",
    "_Prof. Marcelo M. Rocha, Dr.techn._ [(ORCID)](https://orcid.org/0000-0001-5640-1020)  \n",
    "_Porto Alegre, RS, Brazil_ \n"
   ]
  },
  {
   "cell_type": "code",
   "execution_count": 14,
   "metadata": {},
   "outputs": [],
   "source": [
    "# Importing Python modules required for this notebook\n",
    "# (this cell must be executed with \"shift+enter\" before any other Python cell)\n",
    "\n",
    "import numpy as np\n",
    "import pandas as pd\n",
    "import matplotlib.pyplot as plt\n"
   ]
  },
  {
   "cell_type": "markdown",
   "metadata": {},
   "source": [
    "## 2. Dimensional analysis and similarity <a name=\"section_2\"></a> \n",
    "\n",
    "### 2.1. Quantities, units, dimensions  <a name=\"section_21\"></a> \n",
    "\n",
    "Prof. G.I. Barenblatt has written in his book _Dimensional Analysis_ (1987):   \n",
    "\n",
    ">_In fact, the idea on which dimensional analysis is based is very simple, and can be \n",
    "understood by all: physical laws do not depend on arbitrariness in the choice of basic \n",
    "units of measurement. An important conclusion can be drawn from this simple idea \n",
    "using simple arguments: the functions that express physical laws must possess a \n",
    "certain fundamental property, which in mathematics is called generalized homogeneity \n",
    "or symmetry. This property allows the number of arguments in these functions to be \n",
    "reduced, thereby making it simpler to obtain them (by calculating them or determining \n",
    "them experimentally). This is, in fact, the entire content of dimensional analysis - there \n",
    "is nothing more to it._\n",
    "\n",
    "In other words, the units resulting from both sides of an equation must be the same.\n",
    "Although simple, this idea has allowed great scientists like Newton, Rayleigh, Maxwell, \n",
    "Reynolds, Kolmogorov, Cauchy, and many others, to proposed many fundamental \n",
    "physical principles.\n",
    "\n",
    "To illustrate how the law of _dimensional homogeneity_ can be applied, let us \n",
    "investigate the free vibration frequency, $f_{\\rm n}$, of an undamped mass-spring \n",
    "system with one degree of freedom.\n",
    "\n",
    "<img src=\"resources/figSDOF.jpg\" alt=\"figSDOF\" width=\"360px\"/>\n",
    "\n",
    "The frequency $f_{\\rm n}$ could be derived from mechanical principles like dynamic\n",
    "equilibrium equations, but we take the alternative dimensional path instead.\n",
    "The system above _may_ involve several physical quantities like: \n",
    "\n",
    "* the instantaneous position, $u$,   \n",
    "* the oscillating mass, $m$,   \n",
    "* the time, $t$,   \n",
    "* the displacement amplitude, $u_0$,   \n",
    "* the spring linear stiffness, $k$, and also   \n",
    "* the free vibration frequency, $f_{\\rm n}$.  \n",
    "\n",
    "The completeness of this set of quantities is essential for the success of our\n",
    "dimensional analysis. The analysis process requires an investigation of possible\n",
    "relationships among the _candidate_ quantities above and the frequency $f_{\\rm n}$. \n",
    "Let us take a look at their _units of measurement_: \n",
    "\n",
    "\\begin{align*}\n",
    "[ u ]        &= [L]^{1}[M]^{0}[T]^{0}  \\\\\n",
    "[ m ]        &= [L]^{0}[M]^{1}[T]^{0}  \\\\\n",
    "[ t ]        &= [L]^{0}[M]^{0}[T]^{1}  \\\\\n",
    "[ u_0 ]      &= [L]^{1}[M]^{0}[T]^{0}  \\\\\n",
    "[ k ]        &= [L]^{0}[M]^{1}[T]^{-2} \\\\\n",
    "[ f_{\\rm n}] &= [L]^{0}[M]^{0}[T]^{-1}\n",
    "\\end{align*}\n",
    "\n",
    "where the brackets mean \"units of\". One can observe that all measurement units have been\n",
    "written in terms of only three _fundamental units_: length, $[L]$, mass, $[M]$, and time, $[T]$. \n",
    "Most principles in solid mechanics and structural dynamics may be expressed with these \n",
    "three units only. Eventually the temperature, $\\Theta$, may be also required.\n",
    "For the sake of simplicity, hereafter brackets will be ommited.\n",
    "\n",
    "The quantities directly subordinated to the fundamental units are called _fundamental\n",
    "quantities_, which are the length, the mass and the time, while other units and quantities\n",
    "are called _derived_ units and quantities, like stiffness, frequency, acceleration, etc. \n",
    "The dependency of derived units on the fundamental units are expressed through _dimensional \n",
    "formulae_, as shown above, which are always _power-law monomials_. The exponents applyed to the \n",
    "fundamental units in these formulae are called _dimensions_ or _dimension exponents_.\n",
    "\n",
    "In the case of using the _International System_ (SI), the three fundamental units are the\n",
    "meter (m), the kilogram (kg), and the second (s). In the example above this means that:\n",
    "\n",
    "\\begin{align*}\n",
    "[ u ]        &= {\\rm m}^{1}{\\rm kg}^{0}{\\rm s}^{0} = {\\rm m}  \\\\\n",
    "[ m ]        &= {\\rm m}^{0}{\\rm kg}^{1}{\\rm s}^{0} = {\\rm kg} \\\\\n",
    "[ t ]        &= {\\rm m}^{0}{\\rm kg}^{0}{\\rm s}^{1} = {\\rm s}  \\\\\n",
    "[ u_0 ]      &= {\\rm m}^{1}{\\rm kg}^{0}{\\rm s}^{0} = {\\rm m}  \\\\\n",
    "[ k ]        &= {\\rm m}^{0}{\\rm kg}^{1}{\\rm s}^{-2} = {\\rm kg}/{\\rm s}^{2} = {\\rm N/m} \\\\\n",
    "[ f_{\\rm n}] &= {\\rm m}^{0}{\\rm kg}^{0}{\\rm s}^{-1} = 1/{\\rm s} = {\\rm Hz}\n",
    "\\end{align*}"
   ]
  },
  {
   "cell_type": "markdown",
   "metadata": {},
   "source": [
    "### 2.2. Dataframe for scales computation  <a name=\"section_22\"></a> \n",
    "\n",
    "To facilitate the scales calculations as presented in this _notebook_, let us now import \n",
    "a ``pandas`` dataframe with physical quantities commonly used in engineering mechanics and\n",
    "structural dynamics, aerodynamics, and fluid and soil mechanics:"
   ]
  },
  {
   "cell_type": "code",
   "execution_count": 15,
   "metadata": {},
   "outputs": [
    {
     "name": "stdout",
     "output_type": "stream",
     "text": [
      "                       descriptor   latex  L  M  T\n",
      "a                    Acceleration       a  1  0 -2\n",
      "α            Angular acceleration  \\alpha  0  0 -2\n",
      "ω               Angular frequency  \\omega  0  0 -1\n",
      "A                            Area       A  2  0  0\n",
      "EI         Beam bending stiffness      EI  0  1 -2\n",
      "GAs          Beam shear stiffness    GA_s  2  1 -2\n",
      "ρ                         Density    \\rho -3  1  0\n",
      "μ               Dynamic viscosity     \\mu -1  1 -1\n",
      "F                           Force       F  1  1 -2\n",
      "f                       frequency       f  0  0 -1\n",
      "υ             Kinematic viscosity     \\nu  2  0 -1\n",
      "L                          Length       L  1  0  0\n",
      "m                            Mass       m  0  1  0\n",
      "im   Mass inertia per unit length     i_m  1  1  0\n",
      "μA             Mass per unit area   \\mu_A -2  1  0\n",
      "μL           Mass per unit length   \\mu_L -1  1  0\n",
      "M                          Moment       M  2  1 -2\n",
      "I               Moment of inertia       I  4  0  0\n",
      "W               Resistent modulus       W  3  0  0\n",
      "Im        Rotational mass inertia     I_m  2  1  0\n",
      "k                Spring stiffness       k  0  1 -2\n",
      "σ                          Stress  \\sigma -1  1 -2\n",
      "t                            Time       t  0  0  1\n",
      "v                        Velocity       v  1  0 -1\n",
      "c                 Viscous damping       c  0  1 -1\n",
      "V                          Volume       V  3  0  0\n"
     ]
    }
   ],
   "source": [
    "DimData = pd.read_excel('resources/DimData.xlsx', sheet_name='DimData')\n",
    "\n",
    "print(DimData)"
   ]
  },
  {
   "cell_type": "markdown",
   "metadata": {},
   "source": [
    "Other quantities may be easily included in this dataframe by editing the Excel file\n",
    "``DimData.xlsx``. Each entry in the table corresponds to a dimensional quantity, being the last\n",
    "three columns the respective dimension exponents in the dimensional formulae.\n",
    "Quantities like angles, strains, Poison's coefficient and ratio of critical damping are\n",
    "by definition non-dimensional, so there is no need of including them in this table.\n",
    "Relations between length measures, the so-called _form factors_, must also not be included.\n",
    "\n",
    "Observe that, for the sake of clearness, we are using Unicode\n",
    "variable names, like greek letters, which is a remarkable Python's feature.\n",
    "\n",
    "To access the $LMT$ exponents of a set of quantities, let us say the ones selected for\n",
    "the oscillator problem above, the dataframe ```loc``` view may be used:"
   ]
  },
  {
   "cell_type": "code",
   "execution_count": 16,
   "metadata": {},
   "outputs": [
    {
     "name": "stdout",
     "output_type": "stream",
     "text": [
      "   L  M  T\n",
      "L  1  0  0\n",
      "m  0  1  0\n",
      "t  0  0  1\n",
      "L  1  0  0\n",
      "k  0  1 -2\n",
      "f  0  0 -1\n"
     ]
    }
   ],
   "source": [
    "par    = ['L', 'm', 't', 'L', 'k', 'f']   # selected dimensional quantities\n",
    "LMT    = ['L', 'M', 'T']                  # three last columns of dataframe\n",
    "DimMat = DimData.loc[par, LMT]            # the dimensional matrix\n",
    "\n",
    "print(DimMat)"
   ]
  },
  {
   "cell_type": "markdown",
   "metadata": {},
   "source": [
    "According to ``pandas`` module, a subset of a dataframe is itself also a dataframe.\n",
    "If only the dimension exponents are to be retrieved, the attribute ``values`` must be called,\n",
    "returning a ``numpy`` 2D array.\n",
    "This array will be required in the following sections, where we show how the information provided in the dataframe  ``DimData`` can be used to carry out units and scales changes for designing reduced scale models."
   ]
  },
  {
   "cell_type": "code",
   "execution_count": 17,
   "metadata": {},
   "outputs": [
    {
     "name": "stdout",
     "output_type": "stream",
     "text": [
      "[[ 1  0  0]\n",
      " [ 0  1  0]\n",
      " [ 0  0  1]\n",
      " [ 1  0  0]\n",
      " [ 0  1 -2]\n",
      " [ 0  0 -1]]\n"
     ]
    }
   ],
   "source": [
    "print(DimMat.values)"
   ]
  },
  {
   "cell_type": "markdown",
   "metadata": {},
   "source": [
    "Observe that the dataframe indices are the codes to access a specific quantity, \n",
    "while the following first column, which header is ``descriptor``, corresponds to a \n",
    "description to help identification. \n",
    "The dataframe also brings a column named ``latex`` with the $\\LaTeX$ code for eventual automatic\n",
    "plot labelling. "
   ]
  },
  {
   "cell_type": "markdown",
   "metadata": {},
   "source": [
    "### 2.3. The Vaschy-Buckingham's $\\Pi$-Theorem  <a name=\"section_23\"></a> \n",
    "\n",
    "The Vaschy-Buckingham's $\\Pi$-Theorem may be expressed as follows:\n",
    "\n",
    ">Let us assume that a given physical phenomenon involves $n$ _dimensional quantities_, denoted as $p_1, p_2, \\dots, p_n$. For this phenomenon a mathematical model may be expressed as a general relation:<br><br>\n",
    "\\begin{equation}\n",
    " f\\left (  p_1, p_2, \\dots, p_n \\right ) = 0 \n",
    "\\end{equation}<br>\n",
    ">This relation may be replaced by another one with $r = n - k$ _non-dimensional quantities_:<br><br>\n",
    "\\begin{equation}\n",
    " F\\left (  \\Pi_1, \\Pi_2, \\dots, \\Pi_r \\right ) = 0\n",
    "\\end{equation}<br>\n",
    "where $k$ is the number of fundamental units required to compose the units of all dimensional quantities involved. The $\\Pi$-numbers have the general form:<br><br>\n",
    "\\begin{equation}\n",
    "\\Pi = p_1^{\\alpha_1} \\; p_2^{\\alpha_2} \\; \\dots \\; p_n^{\\alpha_n}\n",
    "\\end{equation}<br>\n",
    "where the exponents $\\vec{\\alpha} = \\left [ \\alpha_1 \\; \\alpha_2 \\; \\dots \\; \\alpha_n \\right ]$ are such that the condition of non-dimensionality must always be fulfilled.\n",
    "\n",
    "Recalling that in the present context the only required fundamental units are $L$, $M$, and $T$, \n",
    "then $k = 3$. A demonstration of this theorem can be found in the literatura and will not be\n",
    "replicated here.\n",
    "\n",
    "To apply this theorem, let us assemble a _dimensional matrix_, $\\bf D$, with one column for\n",
    "each fundamental unit and one row for each quantity involved in the analysis. The\n",
    "dataframe ``DimMat`` defined in the previous section is an computational example of a \n",
    "dimensional matrix.  To build up $\\Pi$-numbers we propose now some vector, $\\vec{\\alpha}$, \n",
    "such that (for $k = 3$):\n",
    "\n",
    "\\begin{equation}\n",
    "\\vec{\\alpha}{\\bf D} = \\left[0 \\hspace{5mm} 0 \\hspace{5mm} 0 \\right]\n",
    "\\end{equation}\n",
    "\n",
    "There is no general rule for specifying $\\vec{\\alpha}$.\n",
    "The practical principle that guides any proposition is some possible physical meaning.\n",
    "If the dimensional analysis subject is not well known, relevant $\\Pi$-numbers will\n",
    "always result from some educated guess.\n",
    "Even the choice of a relevant set of quantities is not always obvious, for it may\n",
    "both exceed or lack completeness. \n",
    "At this point, one can clearly see that _dimensional analysis is not a panacea for \n",
    "model proposition_ and a good measure of experience, or even luck, may be required.\n",
    "\n",
    "Going back to the oscillator problem, possible $\\Pi$-numbers for the involved quantities are:\n",
    "\n",
    "\\begin{align*}\n",
    " \\Pi_1 &= u^1 u_0^{-1} \\\\\n",
    " \\Pi_2 &= t^1 \\; f_{\\rm n}^{1} \\\\\n",
    " \\Pi_3 &= m^{-1/2} \\; k^{1/2} \\; f_{\\rm n}^{-1} \n",
    "\\end{align*}\n",
    "\n",
    "where we can se that $\\Pi_3$ is clearly the most interesting, with \n",
    "\n",
    "$$\\vec{\\alpha}_3 = \\left [ 0 \\;\\; {-1/2} \\;\\;\\; 0 \\;\\;\\;  0 \\;\\; 1/2  \\;\\; {-1} \\right]$$\n",
    "\n",
    "The product $\\vec{\\alpha}_3{\\bf D}$  evidentiates its non-dimensionality:"
   ]
  },
  {
   "cell_type": "code",
   "execution_count": 18,
   "metadata": {},
   "outputs": [
    {
     "name": "stdout",
     "output_type": "stream",
     "text": [
      "[0. 0. 0.]\n"
     ]
    }
   ],
   "source": [
    "α3 = np.array([0, -1/2, 0, 0, 1/2, -1])\n",
    "\n",
    "print(np.matmul(α3, DimMat))"
   ]
  },
  {
   "cell_type": "markdown",
   "metadata": {},
   "source": [
    "Representing physical phenomena as relationships among non-dimensional quantities \n",
    "certainly implies independence of the chosen units system, but it does not ensure \n",
    "independence of length scale, which is the holy grail of any mathematical model.\n",
    "On the other hand, models may eventually include the length scale dependence itself \n",
    "whenever enough data is available. \n",
    "\n",
    "For the oscillator example above, it can be shown both experimentally or from physical \n",
    "principles, that $\\Pi_3 = 2\\pi$ for small $u_0$. This constant results is, within some \n",
    "limits, also (length) scale independent. \n",
    "The whole point here is that this result _can be experimentally obtained through dimensional\n",
    "analysis of experimental outcomes even if the applicable principles of physics were\n",
    "not known in advance_.\n",
    "This justifies the importance of dimensional analsys, for it has allowed great cientists\n",
    "to propose models with $\\Pi$-numbers governing many important phenomena. Some remarkable\n",
    "examples will be shown in section 2.6.\n"
   ]
  },
  {
   "cell_type": "markdown",
   "metadata": {},
   "source": [
    "### 2.4. Change of base units  <a name=\"section_24\"></a> \n",
    "\n",
    "As fórmulas dimensionais permitem que se recalculem as unidades derivadas a partir de uma nova escolha das unidades de base. Esse cálculo pode ser usado para diversas finalidades, como por exemplo: (1) mudanças no sistema de unidades, como por exemplo do SI para o sistema britânico, ou (2) mudanças de escala das grandezas, para projeto de modelos reduzidos.\n",
    "\n",
    "A escolha das grandezas $L$, $M$, e $T$ como grandezas de base é de certa forma arbitrária, embora esteja bem estabelecida internacionalmente. Contudo, é possível substituir essas três grandezas e logo obter uma nova matriz dimensional para outras três grandezas derivadas.\n",
    "\n",
    "Supondo o estudo de um fenômeno qualquer na base $LMT$, no qual se deseje utilizar uma nova base composta pelas grandezas $A$, $B$ e $C$. A matriz dimensional da nova base é: \n",
    "\n",
    "\\begin{align*}\n",
    " A &= L^{a_{L}} M^{a_{M}} T^{a_{T}} \\\\\n",
    " B &= L^{b_{L}} M^{b_{M}} T^{b_{T}} \\\\\n",
    " C &= L^{c_{L}} M^{c_{M}} T^{c_{T}}\n",
    "\\end{align*}\n",
    "\n",
    "As an example, let us propose a new base by selecting three quantities from the dataframe\n",
    "```DimData```. For instance, let us take $A = L$ (length),  $B = \\rho$ (density), and $C = a$ (acceleration):"
   ]
  },
  {
   "cell_type": "code",
   "execution_count": 26,
   "metadata": {},
   "outputs": [
    {
     "name": "stdout",
     "output_type": "stream",
     "text": [
      "   L  M  T\n",
      "L  1  0  0\n",
      "ρ -3  1  0\n",
      "a  1  0 -2\n"
     ]
    }
   ],
   "source": [
    "ABC  = ['L', 'ρ', 'a']\n",
    "base = DimData.loc[ABC, LMT]\n",
    "\n",
    "print(base)"
   ]
  },
  {
   "cell_type": "markdown",
   "metadata": {},
   "source": [
    "The new base must include quantities with linearly independent dimensions! It is not possible,\n",
    "for instance, to choose length, area and volume, for their dimensions are multiples\n",
    "one of each other.\n",
    "\n",
    "Now we take logarithms from both sides of the equation above:\n",
    "\n",
    "\\begin{align*}\n",
    "\\log A &= \\log \\left ( L^{a_{L}} M^{a_{M}} T^{a_{T}} \\right ) = a_{L}\\log L + a_{M}\\log M + a_{T}\\log T \\\\\n",
    "\\log B &= \\log \\left ( L^{b_{L}} M^{b_{M}} T^{b_{T}} \\right ) = b_{L}\\log L + b_{M}\\log M + b_{T}\\log T \\\\\n",
    "\\log C &= \\log \\left ( L^{c_{L}} M^{c_{M}} T^{c_{T}} \\right ) = c_{L}\\log L + c_{M}\\log M + c_{T}\\log T\n",
    "\\end{align*}\n",
    "\n",
    "In matrix notation:\n",
    "\\begin{equation}\n",
    "\\left [ \\begin{array}{ccc}\n",
    "         a_{L}& a_{M}& a_{T} \\\\\n",
    "         b_{L}& b_{M}& b_{T} \\\\\n",
    "         c_{L}& c_{M}& c_{T}\n",
    "        \\end{array} \\right ]\n",
    "\\left [ \\begin{array}{ccc}\n",
    "        \\log L \\\\\n",
    "        \\log M \\\\\n",
    "        \\log T\n",
    "        \\end{array} \\right ] =\n",
    "\\left [ \\begin{array}{ccc}\n",
    "        \\log A \\\\\n",
    "        \\log B \\\\\n",
    "        \\log C\n",
    "        \\end{array} \\right ]\n",
    "\\end{equation}\n",
    "\n",
    "where it can be observed that the the right hand side is the dimension matrix for the\n",
    "new base. By isolating the vector with the base quantities it gives:\n",
    "onde se observa que a matriz do lado esquerdo da equação é a matriz dimensional da nova base. \n",
    "\n",
    "\\begin{equation}\n",
    "\\left [ \\begin{array}{ccc}\n",
    "        \\log L \\\\\n",
    "        \\log M \\\\\n",
    "        \\log T\n",
    "        \\end{array} \\right ] =\n",
    "\\left [ \\begin{array}{ccc}\n",
    "         a_{A}& a_{B}& a_{C} \\\\\n",
    "         b_{A}& b_{B}& b_{C} \\\\\n",
    "         c_{A}& c_{B}& c_{C}\n",
    "        \\end{array} \\right ]\n",
    "\\left [ \\begin{array}{ccc}\n",
    "        \\log A \\\\\n",
    "        \\log B \\\\\n",
    "        \\log C\n",
    "        \\end{array} \\right ]\n",
    "\\end{equation}\n",
    "\n",
    "where:\n",
    "\n",
    "\\begin{equation}\n",
    "\\left [ \\begin{array}{ccc}\n",
    "      a_{A}& a_{B}& a_{C} \\\\\n",
    "      b_{A}& b_{B}& b_{C} \\\\\n",
    "      c_{A}& c_{B}& c_{C}\n",
    "     \\end{array} \\right ] =\n",
    "\\left [ \\begin{array}{ccc}\n",
    "      a_{L}& a_{M}& a_{T} \\\\\n",
    "      b_{L}& b_{M}& b_{T} \\\\\n",
    "      c_{L}& c_{M}& c_{T}\n",
    "     \\end{array} \\right ] ^{-1}\n",
    "\\end{equation}\n",
    "\n",
    "And now it becomes clear why the quantities in the new base must have linearly independent\n",
    "dimensions, otherwise the dimension matrix cannot be inverted.\n",
    "Going back to the monomial form we get:\n",
    "\n",
    "\\begin{align*}\n",
    " L &= A^{a_{A}} B^{a_{B}} C^{a_{C}} \\\\\n",
    " M &= A^{b_{A}} B^{b_{B}} C^{b_{C}} \\\\\n",
    " T &= A^{c_{A}} B^{c_{B}} C^{c_{C}}\n",
    "\\end{align*}\n",
    "\n",
    "Portanto, que para se obter a matriz dimensional das grandezas fundamentais em uma nova base basta inverter a matriz dimensional (transposta) desta nova base. Isso só é possível se essa matriz tem determinante positivo, ou seja, as grandezas que constituem a nova base devem ter expoentes de dimensão linearmente independentes entre si. Isso significa, por exemplo, que não se poderia escolher como novas grandezas de base a _velocidade_ (m/s), o _comprimento_ (m), e o _tempo_ (s), pois as unidades de uma das três grandezas pode se representada por uma relação entre as outras duas. Logo, a matriz dimensional não poderia ser invertida.\n",
    "\n",
    "A inversão da matriz dimensional da nova base é feita em Python pelo módulo ```numpy``` como:"
   ]
  },
  {
   "cell_type": "code",
   "execution_count": 27,
   "metadata": {},
   "outputs": [
    {
     "name": "stdout",
     "output_type": "stream",
     "text": [
      "[[ 1.  -0.  -0. ]\n",
      " [ 3.   1.   0. ]\n",
      " [ 0.5 -0.  -0.5]]\n"
     ]
    }
   ],
   "source": [
    "i_base = np.linalg.inv(base)\n",
    "\n",
    "print(i_base)"
   ]
  },
  {
   "cell_type": "markdown",
   "metadata": {},
   "source": [
    "Vejamos agora o que acontece com uma grandeza derivada, $X$, para a qual se deseje conhecer as dimensões na nova base. As dimensões na base $LMT$ são dadas por:\n",
    "\n",
    "\\begin{equation}\n",
    " X = L^{\\alpha_{L}} M^{\\beta_{M}} T^{\\gamma_{T}}\n",
    "\\end{equation} \n",
    "\n",
    "e portanto:\n",
    "\n",
    "\\begin{equation}\n",
    " X = \\left ( A^{a_{A}} B^{a_{B}} C^{a_{C}} \\right )^{\\alpha_{L}}\n",
    "     \\left ( A^{b_{A}} B^{b_{B}} C^{b_{C}} \\right )^{\\beta_{M}}\n",
    "     \\left ( A^{c_{A}} B^{c_{B}} C^{c_{C}} \\right )^{\\gamma_{T}} \n",
    "\\end{equation}\n",
    "\n",
    "Rearranjando-se os termos:\n",
    "\n",
    "\\begin{equation}\n",
    " X = A^{(a_{A}\\alpha_{L} + b_{A}\\beta_{M} + c_{A}\\gamma_{T})}\n",
    "     B^{(a_{B}\\alpha_{L} + b_{B}\\beta_{M} + c_{B}\\gamma_{T})}\n",
    "     C^{(a_{C}\\alpha_{L} + b_{C}\\beta_{M} + c_{C}\\gamma_{T})}\n",
    "   = A^{\\alpha_{A}} B^{\\beta_{B}} C^{\\gamma_{C}}\n",
    "\\end{equation}\n",
    "\n",
    "Observa-se que as dimensões na nova base podem ser calculadas com uma multiplicação matricial:\n",
    "\n",
    "\\begin{equation}\n",
    "\\left [ \\begin{array}{ccc}\n",
    "        \\alpha_{A} \\\\\n",
    "        \\beta_{B} \\\\\n",
    "        \\gamma_{C}\n",
    "        \\end{array} \\right ]  =\n",
    "\\left [ \\begin{array}{ccc}\n",
    "         a_{A}& a_{B}& a_{C} \\\\\n",
    "         b_{A}& b_{B}& b_{C} \\\\\n",
    "         c_{A}& c_{B}& c_{C}\n",
    "        \\end{array} \\right ] ^{T} \n",
    "\\left [ \\begin{array}{ccc}\n",
    "        \\alpha_{L} \\\\\n",
    "        \\beta_{M} \\\\\n",
    "        \\gamma_{T}\n",
    "        \\end{array} \\right ] \n",
    "\\end{equation}\n",
    "\n",
    "Com o módulo ```numpy``` essa multiplicação é feita da seguinte forma:"
   ]
  },
  {
   "cell_type": "code",
   "execution_count": 29,
   "metadata": {},
   "outputs": [
    {
     "name": "stdout",
     "output_type": "stream",
     "text": [
      "     L    ρ    a\n",
      "L  1.0  0.0  0.0\n",
      "m  3.0  1.0  0.0\n",
      "t  0.5  0.0 -0.5\n",
      "L  1.0  0.0  0.0\n",
      "k  2.0  1.0  1.0\n",
      "f -0.5  0.0  0.5\n"
     ]
    }
   ],
   "source": [
    "NewMat = pd.DataFrame(data    = np.matmul(DimMat,i_base),\n",
    "                      index   = DimMat.index,\n",
    "                      columns = ABC)\n",
    "print(NewMat)"
   ]
  },
  {
   "cell_type": "markdown",
   "metadata": {},
   "source": [
    "This new dimension matrix contains the dimensions of the selected quantities for the new base.\n",
    "These dimensions can be used for changing the unit system in the much same way it can be used\n",
    "for changing scales."
   ]
  },
  {
   "cell_type": "markdown",
   "metadata": {},
   "source": [
    "### 2.5. Changing units is like changing scales <a name=\"section_25\"></a> \n",
    "\n",
    "Como já mencionado, uma das aplicações da mudança de base é a mudança de unidades das grandezas fundamentais. A nova matriz dimensional nos permite calcular o efeito desta mudança nas grandezas derivadas. Por exemplo, vamos admitir que desejamos utilizar a milha nautica ao invés do metro como unidade de comprimento, e a hora ao invés do segundo como unidade do tempo. Vejamos como isso repercute na unidade de velocidade, sendo que a fórmula de cálculo é a mesma que foi anteriormente utilizada para a dimensão:\n",
    "\n",
    "\\begin{equation}\n",
    " X = A^{\\alpha_{A}} B^{\\beta_{B}} C^{\\gamma_{C}}\n",
    "\\end{equation}\n",
    "\n",
    "For instance, let us take a change from meters per second (m/s) to knots (nautical miles per hour).\n",
    "The units for the fundamental quantities are:\n"
   ]
  },
  {
   "cell_type": "code",
   "execution_count": 30,
   "metadata": {},
   "outputs": [],
   "source": [
    "λ_L    =  1852/1                   # 1852 meters is 1 nautical mile\n",
    "λ_m    =  1/1                      # mass does not matter for velocity\n",
    "λ_t    =  3600/1                   # 3600 seconds is 1 hour\n",
    "\n",
    "scales =  np.tile([λ_L, λ_m, λ_t],(1,1))\n"
   ]
  },
  {
   "cell_type": "markdown",
   "metadata": {},
   "source": [
    "Now we get the dimensions of velocity and apply the equation:"
   ]
  },
  {
   "cell_type": "code",
   "execution_count": 25,
   "metadata": {},
   "outputs": [
    {
     "name": "stdout",
     "output_type": "stream",
     "text": [
      "Velocity in knots is 0.514m/s.\n"
     ]
    }
   ],
   "source": [
    "Dim_v  = DimData.loc[['v'], LMT]      # dimensions of velocity in the LMT base\n",
    "λ_v    = np.prod(scales**Dim_v, axis=1);\n",
    "\n",
    "print('Velocity in knots is {0:5.3f}m/s.'.format(λ_v[0]))"
   ]
  },
  {
   "cell_type": "markdown",
   "metadata": {},
   "source": [
    "what means that 1m/s corresponds to approximately 1.94knots.\n",
    "\n",
    "Outro aspecto interessante desse cálculo é que exatamente o mesmo procedimento pode ser utilizado para se modificar a escala de alguns parâmetros que descrevem um fenômeno físico, e conhecer a repercussão desta mudança em outros parâmetros relevantes. Esta é a ferramenta básica utilizada no projeto de modelos reduzidos, que será discutido na próxima seção.\n",
    "\n",
    "Por exemplo, abaixo está o cálculo da nova escala de velocidade para uma mudança na escala de comprimento, $L$,  mantendo-se a escala de massa específica, $\\rho$, e da aceleração da gravidade, $g$ inalteradas:"
   ]
  },
  {
   "cell_type": "code",
   "execution_count": 71,
   "metadata": {},
   "outputs": [],
   "source": [
    "ABC    = ['L', 'ρ', 'a']\n",
    "base   = DimData.loc[ABC, LMT].values\n",
    "i_base = np.linalg.inv(base)\n",
    "\n",
    "λ_L    =  1/160                 # length scale for the reduced model\n",
    "λ_ρ    =  1/1                   # density remains unchanged (same material)\n",
    "λ_a    =  1/1                   # acceleration remains unchanged (same gravity)\n",
    "\n",
    "scales =  np.tile([λ_L, λ_ρ, λ_a],(1,1))"
   ]
  },
  {
   "cell_type": "markdown",
   "metadata": {},
   "source": [
    "Now we change base, calculate new dimensions and apply scales:"
   ]
  },
  {
   "cell_type": "code",
   "execution_count": 73,
   "metadata": {},
   "outputs": [
    {
     "name": "stdout",
     "output_type": "stream",
     "text": [
      "Velocity in the new scale is 0.0791 times the full scale velocity.\n"
     ]
    }
   ],
   "source": [
    "Dim_v  = DimData.loc[['v'],LMT]   # dimensions of velocity in the LMT base\n",
    "\n",
    "New_v  = pd.DataFrame(data    = np.dot(Dim_v, i_base),\n",
    "                      index   = Dim_v.index,\n",
    "                      columns = ABC)\n",
    "\n",
    "λ_v    = np.prod(scales**New_v, axis=1);\n",
    "\n",
    "print('Velocity in the new scale is {0:6.4f} times the full scale velocity.'.format(λ_v[0]))"
   ]
  },
  {
   "cell_type": "markdown",
   "metadata": {},
   "source": [
    "This means, for instance, that a wind speed of 1m/s applied over the model corresponds to a\n",
    "wind speed of 12.65m/s applied over the original structure (also called the _prototype scale_),\n",
    "as long as all other scales are equally observed for the model construction.\n",
    " "
   ]
  },
  {
   "cell_type": "markdown",
   "metadata": {},
   "source": [
    "### 2.6. Famous $\\Pi$-numbers  <a name=\"section_26\"></a> \n",
    "\n",
    "A análise dimensional permitiu que grandes cientistas apresentassem ao mundo números adimensionais que regem fenômenos importantes, tais como o número de Reynolds (forças de arrasto em corpos imersos em fluidos), de Froude (relação entre forças gravitacionais e inerciais), ou de Strouhal (frequência de desprendimento de vórtices alternados). \n",
    "\n",
    "#### _Reynold's Number_\n",
    "\n",
    "Um dos exemplos mais citados sobre uso de adimensionais para descrever fenômenos físicos é a relação entre o coeficiente de arrasto e o número de Reynolds no estudo do escoamento de fluidos em torno de corpos sólidos. O coeficiente de arrasto, $C_{\\rm D}$, é uma relação entre a força de arrasto, $F_{\\rm D}$ é a força aerodinâmica, $\\rho V^2 A/2$, onde $\\rho$ é a massa específica do fluido, $V$ é a velocidade do escoamento, e $A$ é a área exposta de referência (geralmente a seção perpendicular ao escoamento):\n",
    "\n",
    "$$ C_{\\rm D} = \\frac{F_{\\rm D}}{\\frac{1}{2} \\rho V^2 A}$$\n",
    "\n",
    "Já o número de Reynolds representa uma relação entre as forças inerciais e as forças de viscosidade em um fluido, definido como:\n",
    "\n",
    "$$ {\\rm Re} = \\frac{V \\, D}{\\nu}$$ \n",
    "\n",
    "onde $D$ é uma dimensão de referência da área exposta (perpendicular à direção do escoamento), e $\\nu$ é a viscosidade cinemática do fluido ($\\nu \\approx 1.48 \\times 10^5 {\\rm m^2/s}$ para o ar na temperatura ambiente). A figura abaixo mostra o que resulta de uma investigação experimental da relação entre estes dois adimensionais para uma esfera.\n",
    "\n",
    "<img src=\"resources/drag_coefficient.jpg\" alt=\"drag_coefficient\" width=\"600px\"/>\n",
    "\n",
    "Observa-se, neste caso, que a relação apresentada graficamente pode ser usada em qualquer escala, independentemente de existirem modelos preditivos baseados em princípios físicos. Aqui o fenômeno é descrito apenas em termos de adimensionais.\n"
   ]
  },
  {
   "cell_type": "code",
   "execution_count": null,
   "metadata": {},
   "outputs": [],
   "source": []
  }
 ],
 "metadata": {
  "kernelspec": {
   "display_name": "Python 3",
   "language": "python",
   "name": "python3"
  },
  "language_info": {
   "codemirror_mode": {
    "name": "ipython",
    "version": 3
   },
   "file_extension": ".py",
   "mimetype": "text/x-python",
   "name": "python",
   "nbconvert_exporter": "python",
   "pygments_lexer": "ipython3",
   "version": "3.7.1"
  }
 },
 "nbformat": 4,
 "nbformat_minor": 2
}
